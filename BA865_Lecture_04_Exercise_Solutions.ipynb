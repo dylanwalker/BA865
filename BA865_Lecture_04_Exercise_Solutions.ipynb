{
  "nbformat": 4,
  "nbformat_minor": 0,
  "metadata": {
    "colab": {
      "name": "BA865 - Lecture 04 Exercise Solutions.ipynb",
      "provenance": [],
      "private_outputs": true,
      "collapsed_sections": [
        "u-uoDpU7SOml"
      ],
      "authorship_tag": "ABX9TyMTNrcRT0ZyOo2LToVJgKxJ",
      "include_colab_link": true
    },
    "kernelspec": {
      "name": "python3",
      "display_name": "Python 3"
    }
  },
  "cells": [
    {
      "cell_type": "markdown",
      "metadata": {
        "id": "view-in-github",
        "colab_type": "text"
      },
      "source": [
        "<a href=\"https://colab.research.google.com/github/dylanwalker/BA865/blob/master/BA865_Lecture_04_Exercise_Solutions.ipynb\" target=\"_parent\"><img src=\"https://colab.research.google.com/assets/colab-badge.svg\" alt=\"Open In Colab\"/></a>"
      ]
    },
    {
      "cell_type": "markdown",
      "metadata": {
        "id": "u-uoDpU7SOml",
        "colab_type": "text"
      },
      "source": [
        "# Code Preface"
      ]
    },
    {
      "cell_type": "code",
      "metadata": {
        "id": "QCXX6ZnuSAmX",
        "colab_type": "code",
        "colab": {}
      },
      "source": [
        "# imports for modules we will use:\n",
        "import pandas as pd\n",
        "import numpy as np\n",
        "import seaborn as sns\n",
        "import feather\n",
        "import datetime\n",
        "import pandas_datareader.data as web\n",
        "import matplotlib.pyplot as plt\n",
        "plt.rcParams.update({'font.size': 20, 'figure.figsize': (20, 10)}) # set font and plot size\n",
        "\n",
        "\n",
        "# Some code to make displaying multiple dataframes side by side better\n",
        "class display(object):\n",
        "    \"\"\"Display HTML representation of multiple objects\"\"\"\n",
        "    template = \"\"\"<div style=\"float: left; padding: 10px;\">\n",
        "    <p style='font-family:\"Courier New\", Courier, monospace'>{0}</p>{1}\n",
        "    </div>\"\"\"\n",
        "    def __init__(self, *args):\n",
        "        self.args = args\n",
        "        \n",
        "    def _repr_html_(self):\n",
        "        return '\\n'.join(self.template.format(a, eval(a)._repr_html_())\n",
        "                         for a in self.args)\n",
        "    \n",
        "    def __repr__(self):\n",
        "        return '\\n\\n'.join(a + '\\n' + repr(eval(a))\n",
        "                           for a in self.args)\n",
        "\n",
        "\n",
        "# Some code to generate example dataframes\n",
        "def make_df(cols, ind):\n",
        "    \"\"\"Quickly make a DataFrame\"\"\"\n",
        "    data = {c: [str(c) + str(i) for i in ind]\n",
        "            for c in cols}\n",
        "    return pd.DataFrame(data, ind)\n",
        "\n",
        "# Load imdbb datasets that we'll use\n",
        "imdbFile = 'https://raw.githubusercontent.com/dylanwalker/BA865/master/datasets/IMDB-Movie-Data.csv'\n",
        "movies_df = pd.read_csv(imdbFile, index_col=\"Title\")\n",
        "movies_df.columns = ['rank', 'genre', 'description', 'director', 'actors', 'year', 'runtime', \n",
        "                     'rating', 'votes', 'revenue_millions', 'metascore']\n",
        "\n",
        "planets = sns.load_dataset('planets')\n",
        "\n",
        "titanic = sns.load_dataset('titanic')\n",
        "\n",
        "stDate = datetime.datetime(2020,1,1)\n",
        "enDate = datetime.datetime(2020,1,7)\n",
        "stocks = [\"AMZN\",\"MSFT\",\"NVDA\",\"NTDOY\", \"AAPL\"]\n",
        "stocks_df = pd.concat([ web.DataReader(st,'yahoo',stDate,enDate).assign(Stock=st)[['Stock','Open','Close']] for st in stocks ]) # read this line from the inside out\n",
        "stocks_1day_df = stocks_df.reset_index()\n",
        "stocks_1day_df = stocks_1day_df[stocks_1day_df.Date==enDate].reset_index().drop(columns=['Date','index'])"
      ],
      "execution_count": 0,
      "outputs": []
    },
    {
      "cell_type": "markdown",
      "metadata": {
        "id": "liYk79MN9VOT",
        "colab_type": "text"
      },
      "source": [
        "# Exercise: Create a dataframe of characters from your favorite movie"
      ]
    },
    {
      "cell_type": "markdown",
      "metadata": {
        "id": "Ed3wIZHU9i4p",
        "colab_type": "text"
      },
      "source": [
        "Create a dataframe from scratch of characters from your favorite movie\n",
        "\n",
        "Columns could include:\n",
        "- actor name\n",
        "- character gender\n",
        "- A boolean that is True if the character is a villain\n",
        "- ... and any other column you'd like to add\n",
        "\n",
        "Make the index of the dataframe the character name"
      ]
    },
    {
      "cell_type": "code",
      "metadata": {
        "id": "_MGXE-wS9yqn",
        "colab_type": "code",
        "colab": {}
      },
      "source": [
        "# Create your dataframe here\n",
        "dieHard = {\"char_name\":[\"John McClane\", \"Hans Gruber\", \"Holly Gennaro\"],\n",
        "          \"actor_name\":[\"Bruce Willis\", \"Alan Rickman\", \"Bonnie Bedelia\"],\n",
        "          \"gender\": [\"Male\", \"Male\", \"Female\"],\n",
        "          \"villain\": [False, True, False]}\n",
        "\n",
        "dieHard_df = pd.DataFrame(dieHard)\n",
        "dieHard_df = dieHard_df.set_index('char_name')"
      ],
      "execution_count": 0,
      "outputs": []
    },
    {
      "cell_type": "markdown",
      "metadata": {
        "id": "103xl_8p-XFh",
        "colab_type": "text"
      },
      "source": [
        "# Exercise: Write your Movie Character dataframe out to a csv file"
      ]
    },
    {
      "cell_type": "markdown",
      "metadata": {
        "id": "JunbhtjPKzR1",
        "colab_type": "text"
      },
      "source": [
        "Using the movie character dataframe that you created earlier, write it out to the csv file \"moviechars_df.csv\".\n"
      ]
    },
    {
      "cell_type": "code",
      "metadata": {
        "id": "827y9-Kb-eRy",
        "colab_type": "code",
        "colab": {}
      },
      "source": [
        "dieHard_df.to_csv('./dieHard.csv')"
      ],
      "execution_count": 0,
      "outputs": []
    },
    {
      "cell_type": "markdown",
      "metadata": {
        "id": "Pwxc_j9T-jAT",
        "colab_type": "text"
      },
      "source": [
        "Now, open the file by using Google Colab's interface, to verify that it makes wrote correctly and makes sense."
      ]
    },
    {
      "cell_type": "markdown",
      "metadata": {
        "id": "hpDN2-xRoPqO",
        "colab_type": "text"
      },
      "source": [
        "# Exercise: Make an Adjusted Rating Column, plot the difference"
      ]
    },
    {
      "cell_type": "markdown",
      "metadata": {
        "id": "efzKkAOPoZW7",
        "colab_type": "text"
      },
      "source": [
        "In the imdb data that we've been looking at, the rating is just the mean score. But some movies have many more votes than others, and this should lend more \"weight\" to their rating.  \n",
        "\n",
        "A good adjusted scoring rule is:\n",
        "```\n",
        " rating_adjusted = rating - (rating - 5)*2**(-log10(votes+1))\n",
        "```\n",
        "(note: to implement this, we can use `np.log10()` )\n",
        "\n",
        "Make a new column called 'rating_adjusted' to implement this. Then, make a scatter plot of (rating_adjusted - rating) vs  rating.\n",
        "\n",
        "note: it's okay if you want to make a column `rating_delta = rating_adjusted - rating`.\n",
        "\n",
        "Now calculate the `rating_delta` and `rating_adjusted` and make a scatterplot with `rating` on the x-axis and `rating_delta` or `rating_adjusted` on the y-axis."
      ]
    },
    {
      "cell_type": "markdown",
      "metadata": {
        "id": "trtHRe-EGdZd",
        "colab_type": "text"
      },
      "source": [
        "## Solution: Don't look at this until you've tried it! (You might have to do this on the final!)"
      ]
    },
    {
      "cell_type": "code",
      "metadata": {
        "id": "MykjKGxkryMc",
        "colab_type": "code",
        "colab": {}
      },
      "source": [
        "# Write your code here\n",
        "movies_df.head()\n",
        "\n",
        "# Solution using apply:\n",
        "movies_df['rating_adjusted'] = movies_df.apply(lambda row: row['rating']-(row['rating']-5)*2**(-np.log10(row['votes']+1)),axis=1)\n",
        "\n",
        "# Solution w/o using apply (better):\n",
        "movies_df['rating_adjusted'] = movies_df.rating - (movies_df.rating-5)*2**(-np.log10(movies_df.votes+1))\n",
        "movies_df['rating_delta'] = movies_df.rating_adjusted - movies_df.rating\n",
        "movies_df.plot(kind='scatter',x='rating',y='rating_delta',figsize=(20,10));"
      ],
      "execution_count": 0,
      "outputs": []
    },
    {
      "cell_type": "markdown",
      "metadata": {
        "id": "DrGsjfv40g-x",
        "colab_type": "text"
      },
      "source": [
        "# Exercise: Plot of Revenue vs Adjusted Rating for only one Genre"
      ]
    },
    {
      "cell_type": "markdown",
      "metadata": {
        "id": "yp-No7dQnALk",
        "colab_type": "text"
      },
      "source": [
        "\n",
        "\n",
        "Using the `movies_df` DataFrame, write a function that will plot the scatterplot of Revenue vs Metascore for only one Genre.\n",
        "\n",
        "Your function should:\n",
        "- have an input argument that is a string of the Genre, e.g., 'Horror'\n",
        "\n",
        "\n",
        "Note that the an entry in the genre column contains a comma-separated list of different genres that a movie belongs to:"
      ]
    },
    {
      "cell_type": "code",
      "metadata": {
        "id": "ll-oGp9krW1m",
        "colab_type": "code",
        "colab": {}
      },
      "source": [
        "movies_df.genre[1:10]"
      ],
      "execution_count": 0,
      "outputs": []
    },
    {
      "cell_type": "markdown",
      "metadata": {
        "id": "YIttaza8rd7X",
        "colab_type": "text"
      },
      "source": [
        "However, we can get all the individual unique genres by using Pandas built in string operations on a series:"
      ]
    },
    {
      "cell_type": "code",
      "metadata": {
        "id": "Ae-XRHlGoB74",
        "colab_type": "code",
        "colab": {}
      },
      "source": [
        "import numpy as np\n",
        "allGenresConcatenated = movies_df.genre.str.cat(sep=',') # This will return a string by concatenating all the strings in each row of genre, separating them with a ',' \n",
        "allGenres=np.unique(allGenresConcatenated.split(',')) # This will split the string so that we have a list and then use numpy's unique() to get only the unique elements of the list\n",
        "allGenres"
      ],
      "execution_count": 0,
      "outputs": []
    },
    {
      "cell_type": "markdown",
      "metadata": {
        "id": "Sjt9wEtysE5c",
        "colab_type": "text"
      },
      "source": [
        "You may find the following string method of dataframes useful:\n",
        "- If a dataframe `df` has a string columm, `stringCol`, then the method\n",
        " - `df.stringCol.str.contains(someString)` will return `True` if someString is a substring within a value of stringCol.\n",
        "\n",
        "Your goal is to define a function that will return a plot object. The function should make a scatter plot of `adjusted_rating` on the x-axis and `revenue_millions` on the y-axis.\n",
        "\n"
      ]
    },
    {
      "cell_type": "code",
      "metadata": {
        "id": "x90ZQ9l0IGjZ",
        "colab_type": "code",
        "colab": {}
      },
      "source": [
        "# Define your function here\n",
        "def plot_rev_vs_rating_adj(genreName):\n",
        "  plot = # fill in your code here with plot = movies_df[SOMETHING].plot(SOMETHING)\n",
        "  plot.set_title(genreName) \n",
        "  return plot\n",
        "\n",
        "# Run your function for the genre's 'Horror' and 'Action'\n",
        "plot = plot_rev_vs_rating_adj('Horror')\n",
        "plot = plot_rev_vs_rating_adj('Action')"
      ],
      "execution_count": 0,
      "outputs": []
    },
    {
      "cell_type": "markdown",
      "metadata": {
        "id": "pR1xchFRJisF",
        "colab_type": "text"
      },
      "source": [
        "## Solution: Don't look at this until you've tried it!"
      ]
    },
    {
      "cell_type": "code",
      "metadata": {
        "id": "h9c0NaLhszQb",
        "colab_type": "code",
        "colab": {}
      },
      "source": [
        "def plot_rev_vs_rating_adj(genreName):\n",
        "  plot = movies_df[movies_df.genre.str.contains(genreName)].plot(kind='scatter',x='rating_adjusted',y='revenue_millions')\n",
        "  plot.set_title(genreName)\n",
        "  return plot\n",
        "\n",
        "plot=plot_rev_vs_rating_adj('Horror')\n",
        "plot=plot_rev_vs_rating_adj('Action')"
      ],
      "execution_count": 0,
      "outputs": []
    },
    {
      "cell_type": "markdown",
      "metadata": {
        "id": "LHD7IBw2VD8H",
        "colab_type": "text"
      },
      "source": [
        "It would be nice if we could make a boxplot of the distribution of revenue across all genres in the same plot... we'll come back to this later, when we've learned some more tools to help us do this."
      ]
    },
    {
      "cell_type": "markdown",
      "metadata": {
        "id": "ow--Rj5v0v7B",
        "colab_type": "text"
      },
      "source": [
        "# Exercise: Cars, Cars, Cars ( but no motorcycles :[ )    "
      ]
    },
    {
      "cell_type": "markdown",
      "metadata": {
        "id": "RA_EqG_z0yY6",
        "colab_type": "text"
      },
      "source": [
        "We'll test our knowledge of merging, and concatenating by working with some datasets on cars."
      ]
    },
    {
      "cell_type": "code",
      "metadata": {
        "id": "Z8PtQcpk1E-a",
        "colab_type": "code",
        "colab": {}
      },
      "source": [
        "cars1 = pd.read_csv(\"https://raw.githubusercontent.com/dylanwalker/BA865/master/datasets/cars1.csv\")\n",
        "cars2_engine = pd.read_csv(\"https://raw.githubusercontent.com/dylanwalker/BA865/master/datasets/cars2_engine.csv\")\n",
        "cars2_perf = pd.read_csv(\"https://raw.githubusercontent.com/dylanwalker/BA865/master/datasets/cars2_perf.csv\")\n",
        "cars2_info = pd.read_csv(\"https://raw.githubusercontent.com/dylanwalker/BA865/master/datasets/cars2_info.csv\")\n",
        "\n",
        "display('cars1','cars2_engine','cars2_perf','cars2_info')"
      ],
      "execution_count": 0,
      "outputs": []
    },
    {
      "cell_type": "markdown",
      "metadata": {
        "id": "lb291hVG1S46",
        "colab_type": "text"
      },
      "source": [
        "Q1: The first dataset `cars1` has some blank columns. Get rid of them:"
      ]
    },
    {
      "cell_type": "code",
      "metadata": {
        "id": "UMsTqQN21eaO",
        "colab_type": "code",
        "colab": {}
      },
      "source": [
        "# write your code here\n",
        "cars1 = cars1.loc[:, \"mpg\":\"car\"] # using .loc to slice only the columns we want to keep"
      ],
      "execution_count": 0,
      "outputs": []
    },
    {
      "cell_type": "markdown",
      "metadata": {
        "id": "bR8NGGbx1gKL",
        "colab_type": "text"
      },
      "source": [
        "Q2: Look at the number of observations in each of the datasets (cars1, cars2_perf, cars2_engine, cars2_info).  Do any of the datasets contain duplicate data? If so, clean them."
      ]
    },
    {
      "cell_type": "code",
      "metadata": {
        "id": "7RWYGw4H1mG8",
        "colab_type": "code",
        "colab": {}
      },
      "source": [
        "# write your code here\n",
        "cars1.drop_duplicates(inplace=True)\n",
        "cars2_perf.drop_duplicates(inplace=True)\n",
        "cars2_engine.drop_duplicates(inplace=True)\n",
        "cars2_info.drop_duplicates(inplace=True)"
      ],
      "execution_count": 0,
      "outputs": []
    },
    {
      "cell_type": "markdown",
      "metadata": {
        "id": "iuQ24cNO1qDF",
        "colab_type": "text"
      },
      "source": [
        "Q3: Combine the data in cars2_engine, cars2_perf, and cars2_info into a single dataframe called cars2:"
      ]
    },
    {
      "cell_type": "code",
      "metadata": {
        "id": "nzEp6_KN2ctw",
        "colab_type": "code",
        "colab": {}
      },
      "source": [
        "# write your code here\n",
        "cars2=pd.merge(cars2_engine,cars2_perf)\n",
        "cars2=pd.merge(cars2,cars2_info)\n",
        "cars2"
      ],
      "execution_count": 0,
      "outputs": []
    },
    {
      "cell_type": "markdown",
      "metadata": {
        "id": "kC08UFMcJHgC",
        "colab_type": "text"
      },
      "source": [
        "Q4: Get rid of the extra unnamed column in cars2 and then combine the data in cars1 and cars2 together."
      ]
    },
    {
      "cell_type": "code",
      "metadata": {
        "id": "WypNhVHvJLwY",
        "colab_type": "code",
        "colab": {}
      },
      "source": [
        "# write your code here\n",
        "cars2=cars2.loc[:,\"car\":\"origin\"] # get rid of the unnamed column in cars2\n",
        "cars=pd.concat([cars1,cars2],sort=True) # concatenate the cars1 and cars2 dataframes together\n",
        "cars"
      ],
      "execution_count": 0,
      "outputs": []
    },
    {
      "cell_type": "markdown",
      "metadata": {
        "id": "FZ7BhyvXyiHC",
        "colab_type": "text"
      },
      "source": [
        "# Exercise: International Alcohol Consumption"
      ]
    },
    {
      "cell_type": "markdown",
      "metadata": {
        "id": "AJNQ-zOSzaLo",
        "colab_type": "text"
      },
      "source": [
        ""
      ]
    },
    {
      "cell_type": "code",
      "metadata": {
        "id": "DtUfkQzCza2G",
        "colab_type": "code",
        "colab": {}
      },
      "source": [
        "\n",
        "drinks = pd.read_csv('https://raw.githubusercontent.com/justmarkham/DAT8/master/data/drinks.csv')\n",
        "drinks.head()"
      ],
      "execution_count": 0,
      "outputs": []
    },
    {
      "cell_type": "markdown",
      "metadata": {
        "id": "RpFVOsT4zhbI",
        "colab_type": "text"
      },
      "source": [
        "Q1: Which continent drinks more beer on average?"
      ]
    },
    {
      "cell_type": "code",
      "metadata": {
        "id": "MZQKD5lkzsz4",
        "colab_type": "code",
        "colab": {}
      },
      "source": [
        "# code your answer here\n",
        "drinks.groupby('country').beer_servings.mean().sort_values(ascending=False)"
      ],
      "execution_count": 0,
      "outputs": []
    },
    {
      "cell_type": "markdown",
      "metadata": {
        "id": "XbKsirYvzvfP",
        "colab_type": "text"
      },
      "source": [
        "Q2: For each continent, print the statistics for wine consumption:"
      ]
    },
    {
      "cell_type": "code",
      "metadata": {
        "id": "7YXEITZNz3Ee",
        "colab_type": "code",
        "colab": {}
      },
      "source": [
        "# code your answer here\n",
        "drinks.groupby('continent').wine_servings.describe()"
      ],
      "execution_count": 0,
      "outputs": []
    },
    {
      "cell_type": "markdown",
      "metadata": {
        "id": "JFV-5YTIz6HK",
        "colab_type": "text"
      },
      "source": [
        "Q3: What is the mean alcohol consumption per contintent for every continent?"
      ]
    },
    {
      "cell_type": "code",
      "metadata": {
        "id": "o7EhIdRg0FPJ",
        "colab_type": "code",
        "colab": {}
      },
      "source": [
        "# code your answer here\n",
        "drinks.groupby('continent').total_litres_of_pure_alcohol.mean()"
      ],
      "execution_count": 0,
      "outputs": []
    },
    {
      "cell_type": "markdown",
      "metadata": {
        "id": "9tTEn-ZG0G0K",
        "colab_type": "text"
      },
      "source": [
        "Q4: Using only one line of code, compute the mean, min and max spirit consumption per continent."
      ]
    },
    {
      "cell_type": "code",
      "metadata": {
        "id": "FHAycdIi0bz0",
        "colab_type": "code",
        "colab": {}
      },
      "source": [
        "# code your answer here\n",
        "drinks.groupby('continent').spirit_servings.agg(['mean','min', 'max']).sort_values(['mean'],ascending=False) # the .sort_values() part is not necessary"
      ],
      "execution_count": 0,
      "outputs": []
    },
    {
      "cell_type": "markdown",
      "metadata": {
        "id": "Q-zOhC1ouqdG",
        "colab_type": "text"
      },
      "source": [
        "# Exercise: Does the number of planets detected by each method change over the years?  "
      ]
    },
    {
      "cell_type": "markdown",
      "metadata": {
        "id": "NKdue5g00Yly",
        "colab_type": "text"
      },
      "source": [
        "We want to know how the number of planets detected by each method changes over the years.\n",
        "<br>\n",
        "<br>\n",
        "Want we're after is a dataframe where the index is a MultiIndex of (year,method) (where method is e.g., Radial Velocity, Pulsar Timing, etc.) and there is a column (that we'll name 'number') for the count for each year and method.\n",
        "<br>\n",
        "<br>\n",
        "Once the dataframe is structure like this, we can just call `.plot()`.  if the figure is not sized correctly, try adding the keyword argument `figsize=(width,height)` and replace `width` and `height` by integers e.g. `figsize=(20,10)`.\n",
        "<br>\n",
        "<br>\n",
        "Some hints:\n",
        "- you'll need to group by more than one column to get the MultiIndex\n",
        "- the order of the columns in the groupby matters, because we'll need to use `unstack()` to get the detection method's to become column labels."
      ]
    },
    {
      "cell_type": "code",
      "metadata": {
        "id": "lPfsGLO0PmUG",
        "colab_type": "code",
        "colab": {}
      },
      "source": [
        "# Enter your code here"
      ],
      "execution_count": 0,
      "outputs": []
    },
    {
      "cell_type": "markdown",
      "metadata": {
        "id": "xMmqhisRPoTG",
        "colab_type": "text"
      },
      "source": [
        "## Solution: Don't look until you've tried it!"
      ]
    },
    {
      "cell_type": "code",
      "metadata": {
        "id": "rCpNkubku42x",
        "colab_type": "code",
        "colab": {}
      },
      "source": [
        "pmot_df=planets.groupby(['year','method'])['number'].count() # this will produce a multiIndexed df where index is (year, method) and one column: count\n",
        "pmot_df.unstack().plot(); # This will plot a series for each column vs the index (year)"
      ],
      "execution_count": 0,
      "outputs": []
    },
    {
      "cell_type": "markdown",
      "metadata": {
        "id": "HnEyGAVg2z87",
        "colab_type": "text"
      },
      "source": [
        "# Exercise: Make a boxplot of movie revenue by each genre"
      ]
    },
    {
      "cell_type": "markdown",
      "metadata": {
        "id": "gJhoSq7M2KKr",
        "colab_type": "text"
      },
      "source": [
        "\n",
        "\n",
        "For this exercise, we'll use `movies_df`, containing imdb movie data.  What we'd like to do is make a boxplot with a box for each genre to show how the revenue is distributed for movies that are part of that genre.\n",
        "<br>\n",
        "<br>\n",
        "Recall how the imdb movies data handles the fact that a movie could belong to one or more genres using a comma-separated string:\n"
      ]
    },
    {
      "cell_type": "code",
      "metadata": {
        "id": "m7AAUwRmsUDG",
        "colab_type": "code",
        "colab": {}
      },
      "source": [
        "movies_df[['genre']]"
      ],
      "execution_count": 0,
      "outputs": []
    },
    {
      "cell_type": "markdown",
      "metadata": {
        "id": "sszaW6_vsjih",
        "colab_type": "text"
      },
      "source": [
        "To make our boxplot, we need to get this dataframe into \"long\" format.  If the genre field was a list instead of a string, we would be in a similar situation as with the pets example. So how can we get it to be come a list?  \n",
        "\n",
        "Pandas has some cool methods that let you work with columns that are strings.\n",
        "\n",
        "In fact, many are vectorized versions of Pythons regular string methods:\n",
        "\n",
        "\n",
        "|             |                  |                  |                  |\n",
        "|-------------|------------------|------------------|------------------|\n",
        "|``len()``    | ``lower()``      | ``translate()``  | ``islower()``    | \n",
        "|``ljust()``  | ``upper()``      | ``startswith()`` | ``isupper()``    | \n",
        "|``rjust()``  | ``find()``       | ``endswith()``   | ``isnumeric()``  | \n",
        "|``center()`` | ``rfind()``      | ``isalnum()``    | ``isdecimal()``  | \n",
        "|``zfill()``  | ``index()``      | ``isalpha()``    | ``split()``      | \n",
        "|``strip()``  | ``rindex()``     | ``isdigit()``    | ``rsplit()``     | \n",
        "|``rstrip()`` | ``capitalize()`` | ``isspace()``    | ``partition()``  | \n",
        "|``lstrip()`` |  ``swapcase()``  |  ``istitle()``   | ``rpartition()`` |\n",
        "\n",
        "But they also have methods for pattern matching with regular expressions:\n",
        "\n",
        "| Method | Description |\n",
        "|--------|-------------|\n",
        "| ``match()`` | Call ``re.match()`` on each element, returning a boolean. |\n",
        "| ``extract()`` | Call ``re.match()`` on each element, returning matched groups as strings.|\n",
        "| ``findall()`` | Call ``re.findall()`` on each element |\n",
        "| ``replace()`` | Replace occurrences of pattern with some other string|\n",
        "| ``contains()`` | Call ``re.search()`` on each element, returning a boolean |\n",
        "| ``count()`` | Count occurrences of pattern|\n",
        "| ``split()``   | Equivalent to ``str.split()``, but accepts regexps |\n",
        "| ``rsplit()`` | Equivalent to ``str.rsplit()``, but accepts regexps |\n",
        "\n",
        "I mentions these not only because they are very useful when working with text data, but also because we can use them for this exercise in order to take the genre, which is a string of comma-separated genre names, and convert it into a list.\n",
        "\n",
        "Here's how:\n"
      ]
    },
    {
      "cell_type": "code",
      "metadata": {
        "id": "tJtJPtz0tXEj",
        "colab_type": "code",
        "colab": {}
      },
      "source": [
        "movies_df.genre.str.split(',')"
      ],
      "execution_count": 0,
      "outputs": []
    },
    {
      "cell_type": "markdown",
      "metadata": {
        "id": "dcBsj7I_tcji",
        "colab_type": "text"
      },
      "source": [
        "We can actually make this a new column of our dataframe. Lets call it \"genre_list\":"
      ]
    },
    {
      "cell_type": "code",
      "metadata": {
        "id": "d4xa8lIvtltA",
        "colab_type": "code",
        "colab": {}
      },
      "source": [
        "movies_df['genre_list']=movies_df.genre.str.split(',')\n",
        "movies_df"
      ],
      "execution_count": 0,
      "outputs": []
    },
    {
      "cell_type": "markdown",
      "metadata": {
        "id": "honYOB0ou-Ex",
        "colab_type": "text"
      },
      "source": [
        "Ok, now you're ready to go!  In order to make the boxplot, you'll need to:\n",
        "- use `.explode()` to get the genre_list into long format.\n",
        "- use `.boxplot()` with the appropriate `column` and `by` keyword arguments.\n",
        "- I'd also suggest adding a `figsize=(40,8)` argument to `.boxplot()` because this figure will need to be fairly wide."
      ]
    },
    {
      "cell_type": "code",
      "metadata": {
        "id": "kcHOyY7GAuUb",
        "colab_type": "code",
        "colab": {}
      },
      "source": [
        "# Input your code here"
      ],
      "execution_count": 0,
      "outputs": []
    },
    {
      "cell_type": "markdown",
      "metadata": {
        "id": "jReiPWlGAzLG",
        "colab_type": "text"
      },
      "source": [
        "## Solution -- Don't look until you've tried it!"
      ]
    },
    {
      "cell_type": "code",
      "metadata": {
        "id": "b8kJ4QWQnZ7G",
        "colab_type": "code",
        "colab": {}
      },
      "source": [
        "# SOLUTION: \n",
        "mdf = movies_df.copy()\n",
        "mdf['genreList']=movies_df.genre.apply(lambda x: x.split(',')) # make a genre column that is a list instead of a comma-separated string\n",
        "mdf['genreList']=movies_df.genre.str.split(',') # this does the same thing with a string methbod\n",
        "\n",
        "# Now we can use the 'explode' method which will take a list column and turn it into a bunch of rows\n",
        "mdf[['revenue_millions','rating','genreList']].explode('genreList').boxplot(column='revenue_millions',by='genreList',figsize=(40,8));"
      ],
      "execution_count": 0,
      "outputs": []
    }
  ]
}