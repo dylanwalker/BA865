{
  "nbformat": 4,
  "nbformat_minor": 0,
  "metadata": {
    "colab": {
      "name": "BA865 - Lecture 07 - Exercise Solutions.ipynb",
      "provenance": [],
      "private_outputs": true,
      "collapsed_sections": [],
      "authorship_tag": "ABX9TyOttFVqogW2x2uLQdPegTom",
      "include_colab_link": true
    },
    "kernelspec": {
      "name": "python3",
      "display_name": "Python 3"
    }
  },
  "cells": [
    {
      "cell_type": "markdown",
      "metadata": {
        "id": "view-in-github",
        "colab_type": "text"
      },
      "source": [
        "<a href=\"https://colab.research.google.com/github/dylanwalker/BA865/blob/master/BA865_Lecture_07_Exercise_Solutions.ipynb\" target=\"_parent\"><img src=\"https://colab.research.google.com/assets/colab-badge.svg\" alt=\"Open In Colab\"/></a>"
      ]
    },
    {
      "cell_type": "code",
      "metadata": {
        "id": "MNtEiOK6zAUL",
        "colab_type": "code",
        "colab": {}
      },
      "source": [
        "import torch\n",
        "import pandas as pd\n",
        "import numpy as np"
      ],
      "execution_count": 0,
      "outputs": []
    },
    {
      "cell_type": "markdown",
      "metadata": {
        "id": "knWrJSKJLUq0",
        "colab_type": "text"
      },
      "source": [
        "# Define a simple NN and train it to predict music genre on spotify data"
      ]
    },
    {
      "cell_type": "markdown",
      "metadata": {
        "id": "nGJXHCo5cAWO",
        "colab_type": "text"
      },
      "source": [
        "For this exercise, we'll use a dataset from Spotify containing music attributes such as bpm, energy, and danceability. It has 45 songs that belong to either the 'rock' genre or the 'dance pop' genre. For this example, as above, we won't bother to split the data into training and test sets (again, the data here is pretty small)."
      ]
    },
    {
      "cell_type": "code",
      "metadata": {
        "id": "UaGrp217cAWQ",
        "colab_type": "code",
        "colab": {}
      },
      "source": [
        "# Read the data\n",
        "musicFile = 'https://raw.githubusercontent.com/dylanwalker/BA865/master/datasets/spotify.csv'\n",
        "musicData = pd.read_csv(musicFile, encoding='latin-1')\n",
        "musicData.head()"
      ],
      "execution_count": 0,
      "outputs": []
    },
    {
      "cell_type": "markdown",
      "metadata": {
        "id": "DR1UqknYcAWd",
        "colab_type": "text"
      },
      "source": [
        "The first step is to define the dataset. \n",
        "\n",
        "Make a new column in the dataframe called 'genre_class'. Set it to be 0 for 'rock' and 1 for 'dance pop' (these are the only genres in the dataset).\n",
        "\n",
        "We need to get our pandas data into torch tensors. One way to do this is to first convert them to numpy arrays and then call `torch.from_numpy()` on the numpy arrays. We'll want to set the `dtype=float32` when we call `np.array()` on the pandas columns.\n",
        "\n",
        "Define the musical attributes ('bpm' through 'speechiness') as a pytorch tensor called `features`.\n",
        "\n",
        "Define a pytorch tensor called `targets`  based on the column `genre_class`.\n",
        "\n"
      ]
    },
    {
      "cell_type": "code",
      "metadata": {
        "id": "O7m0_I03dAQk",
        "colab_type": "code",
        "colab": {}
      },
      "source": [
        "# INSERT YOUR CODE HERE\n",
        "musicData['genre_class'] = 0\n",
        "musicData.loc[musicData['top genre']=='dance pop','genre_class'] = 1\n",
        "features = torch.from_numpy(np.array(musicData.iloc[:,3:10], dtype='float32'))\n",
        "targets = torch.from_numpy(np.array(musicData['genre_class'], dtype='float32'))"
      ],
      "execution_count": 0,
      "outputs": []
    },
    {
      "cell_type": "code",
      "metadata": {
        "id": "uH_mbLY9TPyw",
        "colab_type": "code",
        "colab": {}
      },
      "source": [
        "targets\n",
        "features"
      ],
      "execution_count": 0,
      "outputs": []
    },
    {
      "cell_type": "markdown",
      "metadata": {
        "id": "5k3m8gHkkobC",
        "colab_type": "text"
      },
      "source": [
        "Now create a TensorDataSet from `features` and `targets` called `train_ds`.\n",
        "\n",
        "Also create a DataLoader called `train_dl` from `train_ds` using `batch_size=10` and `shuffle=True`. "
      ]
    },
    {
      "cell_type": "code",
      "metadata": {
        "id": "3ImvTDwRknYc",
        "colab_type": "code",
        "colab": {}
      },
      "source": [
        "from torch.utils.data import TensorDataset, DataLoader\n",
        "# INSERT YOUR CODE HERE\n",
        "train_ds = TensorDataset(features,targets)\n",
        "batch_size = 10\n",
        "train_dl = DataLoader(train_ds, batch_size, shuffle=True)"
      ],
      "execution_count": 0,
      "outputs": []
    },
    {
      "cell_type": "markdown",
      "metadata": {
        "id": "1cAjLanZthHd",
        "colab_type": "text"
      },
      "source": [
        "Note that we can see the shapes of tensors drawn from the dataloader with our given batch size:"
      ]
    },
    {
      "cell_type": "code",
      "metadata": {
        "id": "IPelWIJHtp4E",
        "colab_type": "code",
        "colab": {}
      },
      "source": [
        "x1,y1=next(iter(train_dl)) # pull a single x,y from the data loader\n",
        "print(x1.shape)\n",
        "print(y1.shape)\n",
        "print(x1)\n",
        "print(y1)"
      ],
      "execution_count": 0,
      "outputs": []
    },
    {
      "cell_type": "code",
      "metadata": {
        "id": "qtd0REFNsX7A",
        "colab_type": "code",
        "colab": {}
      },
      "source": [
        "y1.view(-1,1)"
      ],
      "execution_count": 0,
      "outputs": []
    },
    {
      "cell_type": "markdown",
      "metadata": {
        "id": "nNnPd4WRt0jP",
        "colab_type": "text"
      },
      "source": [
        "If we wanted to pass these through a loss function, we would likely have to alter the shape of the `y`, to something that our loss function can understand. We can do this with a `.view(-1,1)` operation, which will make it a tensor with 90 rows and 1 column (instead of a 1d tensor), like so:"
      ]
    },
    {
      "cell_type": "code",
      "metadata": {
        "id": "gX4uvvQyuDym",
        "colab_type": "code",
        "colab": {}
      },
      "source": [
        "print(x1,y1.view(-1,1))\n",
        "#y1\n",
        "#y1.view(-1,1)\n",
        "#print(y1.view(-1,1).shape) # this will output a shape of [batch_size,1]"
      ],
      "execution_count": 0,
      "outputs": []
    },
    {
      "cell_type": "markdown",
      "metadata": {
        "id": "c4aQYmpMcAWv",
        "colab_type": "text"
      },
      "source": [
        "For our neural network model we'll use a single fully connected layer (`torch.nn.Linear()`), followed by a sigmoid activation function (`torch.nn.Sigmoid()`). \n",
        "\n",
        "Note that `torch.nn.Linear()` takes two arguments that specify the size of the input and output. You'll have to figure out what these should be based on the data. Remember that we want to connect all the features to a single output thta is then passed through the activation function. `toch.nn.Sigmoid()` does not need any arguments.\n",
        "\n",
        "We can create a model object from these two layers by passing them as arguments to `torch.nn.Sequential()`. This will make a neural network that connects the output of each layer to the input of the next.\n",
        "\n",
        "By using the sigmoid function, the output of the fully connected layers is converted into a value between 0 and 1. If the converted value is larger than 0.5, we will interpret this as the model predicting the genre of a music to be 'dance pop' (since we set `genre_class=1` for 'dance pop'. Otherwise, the model predicts the genre to be 'rock' music.\n",
        "\n",
        "We'll set the random seed of pytorch manually, using `torch.manual_seed(0)` just to ensure that we are all working on the same shuffled sequence. This step is not needed in general when you train a NN with shuffling, but just included to make sure we're all on the same page."
      ]
    },
    {
      "cell_type": "code",
      "metadata": {
        "id": "7phZNjsNcAWw",
        "colab_type": "code",
        "colab": {}
      },
      "source": [
        "torch.manual_seed(0)\n",
        "# model = FILL IN YOUR CODE HERE\n",
        "model = torch.nn.Sequential(torch.nn.Linear(7, 1), torch.nn.Sigmoid())"
      ],
      "execution_count": 0,
      "outputs": []
    },
    {
      "cell_type": "markdown",
      "metadata": {
        "id": "T_-vGJ8XcAW1",
        "colab_type": "text"
      },
      "source": [
        "Now instantiate an SGD optimizer using `torch.optim.SGD()`. We can use a learning rate of `lr=1e-4`.\n",
        "\n",
        "For the loss function, we'll use the binary cross entropy loss, `torch.nn.BCELoss()` with the argument `reduction='mean'`. BCELoss is often used in logistic regression."
      ]
    },
    {
      "cell_type": "code",
      "metadata": {
        "id": "pZlcoxeCcAW3",
        "colab_type": "code",
        "colab": {}
      },
      "source": [
        "# optimizer = FILL IN YOUR CODE HERE\n",
        "# loss_function = FILL IN YOUR CODE HERE\n",
        "lr_rate = 1e-4\n",
        "optimizer = torch.optim.SGD(model.parameters(), lr=lr_rate)\n",
        "loss_function = torch.nn.BCELoss(reduction='mean') # binary cross entropy"
      ],
      "execution_count": 0,
      "outputs": []
    },
    {
      "cell_type": "markdown",
      "metadata": {
        "id": "9xbDnw-qcAW7",
        "colab_type": "text"
      },
      "source": [
        "Now write the code for training the model over 1000 epochs. You can look back at my `fit()` function defined above. You don't need to write this as a function, but can instead just write the code directly.\n",
        "\n",
        "The model will be trained for 1000 epochs (i.e., you need to loop over epochs).\n",
        "\n",
        "When you call `loss_function`, on the predictions (`pred`) and the targets (`yb`), you will need to adjust the shape of the targets, as explained above.\n",
        "\n",
        "We can calculate a running_loss for each epoch by setting `running_loss=0` before looping over the items in `train_dl`.  We can add up the contribution from each batch to the running loss by adding a line `running_loss+=loss.item()` after calling `loss.backward()`.\n",
        "\n",
        "Finally, we may like to print out the loss for some epochs (there are 1000 epochs, so its overkill to print out the loss for each one). Instead we can print out the loss for only certain values of the epoch -- for example when the epoch divided by 100 has a remainder of 99, or `epoch%100==99`. When this occurs, print out the average loss for that epoch, `running_loss/len(train_dl)`. \n",
        "\n",
        "You can also try your hand at calculating either the average training accuracy for an epcoh or the \"last batch training accuracy\" of the model at these particular epochs."
      ]
    },
    {
      "cell_type": "code",
      "metadata": {
        "id": "kRC-YvOGcAW8",
        "colab_type": "code",
        "colab": {}
      },
      "source": [
        "# FILL IN YOUR CODE HERE\n",
        "n_epochs = 500\n",
        "model.train()\n",
        "for epoch in range(n_epochs):\n",
        "  pass # replace this with your code \n",
        "\n",
        "n_epochs = 300\n",
        "model.train() \n",
        "for epoch in range(n_epochs):\n",
        "    running_loss = 0.0\n",
        "    for X, y in train_dl:\n",
        "        optimizer.zero_grad()\n",
        "        pred = model(X)\n",
        "        loss = loss_function(pred, y.view(-1,1))\n",
        "        loss.backward()\n",
        "        running_loss += loss.item()\n",
        "        optimizer.step()\n",
        "    if epoch%10==9:\n",
        "        pred = np.array([0 if x<=0.5 else 1 for x in pred])\n",
        "        loss_value = round(running_loss/len(train_dl), 2)\n",
        "        print(f'Epoch: {epoch+1: <{3}}, Loss: {loss_value: <{3}}')"
      ],
      "execution_count": 0,
      "outputs": []
    },
    {
      "cell_type": "markdown",
      "metadata": {
        "id": "gG1FIjwPcAXD",
        "colab_type": "text"
      },
      "source": [
        "Finally, when the model has been fully trained, let's look at a prediction for a particular song. We'll predict the genre of Ariana Grande's \"no tears left to cry.\" This song is classified as 'dance pop' in the Spotify. Here's the music video:"
      ]
    },
    {
      "cell_type": "code",
      "metadata": {
        "id": "4rQuWBXncAXH",
        "colab_type": "code",
        "colab": {}
      },
      "source": [
        "from IPython.display import YouTubeVideo\n",
        "YouTubeVideo('ffxKSjUwKdU',width=400,height=300)"
      ],
      "execution_count": 0,
      "outputs": []
    },
    {
      "cell_type": "markdown",
      "metadata": {
        "id": "kshQZkvpxcT5",
        "colab_type": "text"
      },
      "source": [
        "This particular song has the features (bpm, energy, danceability, liveness, valence, acousticness, speechiness): [122, 71, 70, 29, 35, 4, 6]\n",
        "\n",
        "Get the prediction for this particular song by passing the appropriate input into the model to get the output. How do you interpret this output?"
      ]
    },
    {
      "cell_type": "code",
      "metadata": {
        "id": "HXF40eWBcAXN",
        "colab_type": "code",
        "colab": {}
      },
      "source": [
        "# INSERT YOUR CODE HERE\n",
        "no_tears_left_to_cry = torch.tensor([122, 71, 70, 29, 35, 4, 6]).float()\n",
        "print(model(no_tears_left_to_cry))"
      ],
      "execution_count": 0,
      "outputs": []
    },
    {
      "cell_type": "markdown",
      "metadata": {
        "id": "xUIPjryfcAXT",
        "colab_type": "text"
      },
      "source": [
        "The model returns 0.56 for \"no tears left to cry,\" so it classifies the song as \"dance pop.\""
      ]
    }
  ]
}