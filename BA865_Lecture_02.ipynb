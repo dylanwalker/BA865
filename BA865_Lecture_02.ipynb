{
  "nbformat": 4,
  "nbformat_minor": 0,
  "metadata": {
    "colab": {
      "name": "BA865 - Lecture 02.ipynb",
      "provenance": [],
      "collapsed_sections": [],
      "include_colab_link": true
    },
    "kernelspec": {
      "name": "python3",
      "display_name": "Python 3"
    }
  },
  "cells": [
    {
      "cell_type": "markdown",
      "metadata": {
        "id": "view-in-github",
        "colab_type": "text"
      },
      "source": [
        "<a href=\"https://colab.research.google.com/github/dylanwalker/BA865/blob/master/BA865_Lecture_02.ipynb\" target=\"_parent\"><img src=\"https://colab.research.google.com/assets/colab-badge.svg\" alt=\"Open In Colab\"/></a>"
      ]
    },
    {
      "cell_type": "markdown",
      "metadata": {
        "id": "A2gUU0qq355h",
        "colab_type": "text"
      },
      "source": [
        "# Code Preface"
      ]
    },
    {
      "cell_type": "code",
      "metadata": {
        "id": "4YacRm5Z321E",
        "colab_type": "code",
        "colab": {}
      },
      "source": [
        "from random import randint"
      ],
      "execution_count": 0,
      "outputs": []
    },
    {
      "cell_type": "markdown",
      "metadata": {
        "id": "zsyIK-p_Fo0D",
        "colab_type": "text"
      },
      "source": [
        "# Classes and Object Orientation"
      ]
    },
    {
      "cell_type": "markdown",
      "metadata": {
        "id": "xSiBZhn9FsXY",
        "colab_type": "text"
      },
      "source": [
        "## What is a class?"
      ]
    },
    {
      "cell_type": "markdown",
      "metadata": {
        "id": "xDuirhH4V9nQ",
        "colab_type": "text"
      },
      "source": [
        "\n",
        "\n",
        "\n",
        "\n",
        "In Python, we have seen scalar type variables:\n",
        "- int, float, bool, None\n",
        "\n",
        "We have also seen more complex non-scalar types that have their own structure. \n",
        "- this includes collections such as List, Dict, Tuples\n",
        "- and also other types such as String\n",
        "\n",
        "What are these more complicated types?\n",
        "- They are actually defined by classes\n",
        "\n",
        "A class is an \"idea\" -- it is the template for an object. It describes the structure of the object that you create with the class. You can think of a class as a \"cookie cutter\". We use them to create objects, which you can think of as the \"cookie\".\n",
        "\n",
        "![](https://drive.google.com/uc?id=1sTrs7GRvdZAGB5rwRtTDYUEM6lxHOrLv)\n"
      ]
    },
    {
      "cell_type": "markdown",
      "metadata": {
        "id": "IGVlFJjqFwkf",
        "colab_type": "text"
      },
      "source": [
        "## Why Classes? Inspired by Struct"
      ]
    },
    {
      "cell_type": "markdown",
      "metadata": {
        "id": "LUvq1JUfWGsc",
        "colab_type": "text"
      },
      "source": [
        "\n",
        "\n",
        "A long time ago in a galaxy far far away... programmers realized they needed something more than just regular variables. They wanted a way to group together a bunch of variables that were naturally related.\n",
        "\n",
        "Suppose we wanted to represent a point in 3D space. We would need to keep track of the three coordinates for the point, the x,y and z coordinates. We could just define them as three variables in our code:\n",
        "\n",
        "```\n",
        "x=2.0\n",
        "y=3.5\n",
        "z=1.3\n",
        "```\n",
        "Notice that nowhere in the code is the idea that these three variables are related to the same point. And what if we wanted to represent a whole bunch of points?  Should we do this?\n",
        "\n",
        "```\n",
        "x1=2.0\n",
        "y1=3.5\n",
        "z1=1.3\n",
        "\n",
        "x2=0.5\n",
        "y2=1.78\n",
        "z2=-2.4\n",
        "```\n",
        "\n",
        "It starts to get very messy. This is where the idea of a Struct came in.\n",
        "\n",
        "A Struct (short for structure) is a way of structuring a bunch of related variables together. They don't formally exist in Python, because classes can do what structs can do and a whole lot more. So I'll show you what a struct looks like in the C programming language:\n",
        "\n",
        "```\n",
        "struct Point {\n",
        "  float x;\n",
        "  float y;\n",
        "  float z;\n",
        "}\n",
        "```\n",
        "\n",
        "The struct is a definition of a point variable, which holds the three coordinate variables x, y, z \"inside of it\". If we wanted to make a new point in our C program, we would do it like this:\n",
        "\n",
        "```\n",
        "struct Point somePoint;\n",
        "somePoint.x=2.0;\n",
        "somePoint.y=3.5;\n",
        "somePonit.z=1.3;\n",
        "```\n",
        "The first line above declares that the variable somePoint is a struct and that the template defined earlier tells us its structure. The next three lines set the values of the x,y,z variables that live \"inside of\" somePoint.\n",
        "\n",
        "The idea of structs really helped programmers out with organizing their code better and grouping related variables together.\n",
        "\n",
        "But what if we had some function that was designed specifically to be used on points. Where should we put that function? \n",
        "\n",
        "Structs don't allow you to define such a function that \"lives inside\". But classes do! \n"
      ]
    },
    {
      "cell_type": "markdown",
      "metadata": {
        "id": "zfCKt26zF0OQ",
        "colab_type": "text"
      },
      "source": [
        "## From Structs to Classes"
      ]
    },
    {
      "cell_type": "markdown",
      "metadata": {
        "id": "NGbyhg1M1ldZ",
        "colab_type": "text"
      },
      "source": [
        "Let's imagine that Python allowed us to define a struct and that we had one for a Person. The variables that might live inside this Person struct could include:\n",
        "- name, age, height, relationshipStatus\n",
        "\n",
        "So imagine we had already defined the struct, and we wanted to make a new person in our code. We might do it like this:\n",
        "\n",
        "<img src=\"https://drive.google.com/uc?id=1cLjoSTOwTuvtNqCLIAMCzrEm9z6eDh54\" align=\"right\" height=140 style=\"padding-right: 5px;\">\n",
        "\n",
        "```python\n",
        "somePerson = Person() # Use the template definition we're pretending we created\n",
        "somePerson.name = \"Holly Gennaro\"\n",
        "somePerson.age = 40\n",
        "somePerson.height = 162.5\n",
        "somePerson.relationshipStatus = \"separated\"\n",
        "```\n",
        "---\n",
        "<font color=blue>*In case, you couldn't tell, I'm using characters from my favorite movie, **Die Hard**, to illustrate this example. This is a picture of Holly Gennaro, who separated from the hero, John McClane, and moved to LA to work for the Nakatomi Corporation. She used her maiden name \"Holly Gennaro\" at her new job and it was a point of disagreement between the couple.*</font>\n",
        "\n",
        "---\n",
        "\n",
        "Even better if we could define a bunch of things at the time of creation:\n",
        "```python\n",
        "somePerson=Person(\"Holly Gennaro\",40,162.5,\"separated\")\n",
        "```\n",
        "\n",
        "Somewhere later in our code, we might want to change the values of the variables inside this person. We could do it in the usual way:\n",
        "```python\n",
        "somePerson.relationshipStatus=\"married\"\n",
        "```\n",
        "\n",
        "But maybe we want to control how the variables inside can change. For example, when the person \"reunites with the hero\", we might want to change her relationship status to \"married\" and also change her name to \"Holly McClane\" (re-adopting her married last name).  It would be nice if we could just make both changes at the same time using a function:\n",
        "\n",
        "```python\n",
        "somePerson.reuniteWithHero(\"Holly McClane\")\n",
        "```\n",
        "Such a function could change set relationshipStatus=\"married\" and also change the person's name to the \"Holly McClane\" (the argument we passed into the function). Because the function only operates on the variables that \"live inside of\" the person, it should really also \"live inside\" the person. Structs can't accomodate that, but classes can. And, as we will see, classes can do a lot of other really useful things.\n"
      ]
    },
    {
      "cell_type": "markdown",
      "metadata": {
        "id": "dptGOxs_Fadk",
        "colab_type": "text"
      },
      "source": [
        "## Defining a Class"
      ]
    },
    {
      "cell_type": "markdown",
      "metadata": {
        "id": "hoLxlYsGWXhQ",
        "colab_type": "text"
      },
      "source": [
        "A Class definition includes:\n",
        "- The **Name** of the class\n",
        " - what you will use to create a new object from that class e.g., Person()\n",
        "- **Properties** (or attributes)\n",
        " - the variables that \"live inside\" the object of that class type e.g., height\n",
        "- **Methods**\n",
        " - Functions that \"live inside\" the object of that class type e.g., reuniteWithHero()\n",
        "\n",
        "Here's how we would define the class for the example used earlier (you should run this code now!):"
      ]
    },
    {
      "cell_type": "code",
      "metadata": {
        "id": "PeOlFhOMpNSy",
        "colab_type": "code",
        "colab": {}
      },
      "source": [
        "# An example class for a person\n",
        "class Person():\n",
        "  def __init__(self, name, age, height, relationshipStatus):\n",
        "    self.name = name\n",
        "    self.age = age\n",
        "    self.height = height\n",
        "    self.relationshipStatus = relationshipStatus\n",
        "  \n",
        "  def reuniteWithHero(self, newName):\n",
        "    self.relationshipStatus = \"married\"\n",
        "    self.name=newName\n"
      ],
      "execution_count": 0,
      "outputs": []
    },
    {
      "cell_type": "markdown",
      "metadata": {
        "id": "QGJVmzOBFEvw",
        "colab_type": "text"
      },
      "source": [
        "You might be confused by some things in the definition of the class above. For example, what the heck is this ```__init__()``` method? What is this weird keyword ```self``` doing there? Why do we have all these statements like ```self.x = x```?\n",
        "\n",
        "I'll explain all of this soon, but for now, just focus on the concept that this class is a \"cookie cutter\" that defines the properties (variables that \"live inside it\") and the methods (functions that \"live inside it\"). \n",
        "\n",
        "We will use this definition to **instantiate** an object of this type.  The word instantiate describes using our \"cookie cutter\" (class) to create a \"cookie\" (object). \n",
        "\n",
        "We say that \"somePerson is an instance of the class Person\". \n",
        "\n",
        "\n",
        "And here's how we would use the class definition to create a new instance:"
      ]
    },
    {
      "cell_type": "code",
      "metadata": {
        "id": "pT5aBDXIFLBU",
        "colab_type": "code",
        "colab": {}
      },
      "source": [
        "somePerson = Person(\"Holly Gennaro\", 40, 162.5, \"separated\")"
      ],
      "execution_count": 0,
      "outputs": []
    },
    {
      "cell_type": "markdown",
      "metadata": {
        "id": "UvjS8sFNF2YB",
        "colab_type": "text"
      },
      "source": [
        "Now that we've instantiated a new person object called somePerson, we can use it in our code. We can also call its methods:"
      ]
    },
    {
      "cell_type": "code",
      "metadata": {
        "id": "7LiWzLwUF5AA",
        "colab_type": "code",
        "outputId": "5c3d09ae-4990-42d1-f1f6-48c8b21f8727",
        "colab": {
          "base_uri": "https://localhost:8080/",
          "height": 51
        }
      },
      "source": [
        "print(f\"The person's name is {somePerson.name}. Their relationship status is {somePerson.relationshipStatus}.\") # I'm using f-strings here to print with a nice format\n",
        "somePerson.reuniteWithHero(\"Holly McClane\") # use the reuniteWithHero() method\n",
        "print(f\"The person's name is {somePerson.name}. Their relationship status is {somePerson.relationshipStatus}.\")\n"
      ],
      "execution_count": 0,
      "outputs": [
        {
          "output_type": "stream",
          "text": [
            "The person's name is Holly Gennaro. Their relationship status is separated\n",
            "The person's name is Holly McClane. Their relationship status is married\n"
          ],
          "name": "stdout"
        }
      ]
    },
    {
      "cell_type": "markdown",
      "metadata": {
        "id": "mDwDCoG0E09f",
        "colab_type": "text"
      },
      "source": [
        "Ok, now let's go back to the definition of the class and try to make sense of what's going on there."
      ]
    },
    {
      "cell_type": "markdown",
      "metadata": {
        "id": "JZY9es9-EuXx",
        "colab_type": "text"
      },
      "source": [
        "# Anatomy of a class"
      ]
    },
    {
      "cell_type": "markdown",
      "metadata": {
        "id": "14a0-vK-bxKq",
        "colab_type": "text"
      },
      "source": [
        "Let's look at the pieces of our class definition one by one. We'll start with the `self` keyword\n",
        "\n",
        "---\n",
        "\n",
        "<img src=\"https://drive.google.com/uc?id=1gfuP_QCQ5Wnmw2zROqiInb4s61VXDPwH\" width=700>\n",
        "\n",
        "---\n",
        "\n",
        "`self` is a special keyword that we only use inside of class definitions. It is a placeholder variable that will hold a reference to the object that we instantiate.  Basically, this reference always points to itself. Let's see this in practice:\n"
      ]
    },
    {
      "cell_type": "code",
      "metadata": {
        "id": "Un9UveaOcbDh",
        "colab_type": "code",
        "outputId": "36fe6b82-674a-4784-f9d9-26a16113eb48",
        "colab": {
          "base_uri": "https://localhost:8080/",
          "height": 34
        }
      },
      "source": [
        "print(somePerson)\n",
        "# The reference that this prints out is the location in memory where the somePerson object is stored."
      ],
      "execution_count": 0,
      "outputs": [
        {
          "output_type": "stream",
          "text": [
            "<__main__.Person object at 0x7fe952ae0be0>\n"
          ],
          "name": "stdout"
        }
      ]
    },
    {
      "cell_type": "markdown",
      "metadata": {
        "id": "5Hwg6Qwtd4lV",
        "colab_type": "text"
      },
      "source": [
        "Ok, what's the deal with this weird ```__init__()``` method?\n",
        "\n",
        "This is the class **constructor**. It is a special function that is called when we create an object that is an instance of the class.\n",
        "\n",
        "---\n",
        "\n",
        "<img src=\"https://drive.google.com/uc?id=1Jiq79DUYGGNShDzTHId2USupCXczj0FN\" width=700>\n",
        "\n",
        "---\n",
        "\n",
        "Notice that we said our constructor method has some arguments that it expects:\n",
        " - name, age, height, relationshipStatus. \n",
        "\n",
        "When we create somePerson with:\n",
        "```python\n",
        "somePerson = Person(\"Holly Gennaro\", 40, 162.5, \"separated\")\n",
        "```\n",
        "we are actually calling the ```__init__()``` constructor.  <font color=blue>When we call any method, we basically pretend that the self argument isn't there. </font>That's why the first argument of ```Person()``` is the name. Python already knows that you are talking about the somePerson instance when you call a method like ```somePerson.reuniteWithHero(\"Holly McClane\")``` so it fills in the first argument for you.\n",
        "<br>\n",
        "<br>\n",
        "\n",
        "\n",
        "---\n",
        "*Remember: once a function or method is run, all the arguments passed into it and all the variables defined within it will no longer exist or be accessible when the function or method terminates. Objects, on the other hand, live on after you declare them in your program, just like variables in the main program.*\n",
        "\n",
        "---\n",
        "<br>\n",
        "\n",
        "When code inside the constructor does something like this:\n",
        "```python\n",
        "self.name = name\n",
        "```\n",
        "What it is doing is taking the argument `name` that you have passed into the method and setting the name property of the object to its value. When the method terminates the argument name will no longer be accessible. However, the code `self.name = name` defines a new property name to be a variable that lives inside the object instance (in this case `somePerson`). So when we pass in the name \"Holly Gennaro\", this is equivalent to running:\n",
        "```python\n",
        "somePerson.name = \"Holly Gennaro\"\n",
        "```  \n",
        "\n",
        "You can check that this is the case by printing the property:\n"
      ]
    },
    {
      "cell_type": "code",
      "metadata": {
        "id": "6P3e1E7Ts1t2",
        "colab_type": "code",
        "outputId": "7163c51c-7f2d-41cd-8919-09586714ce26",
        "colab": {
          "base_uri": "https://localhost:8080/",
          "height": 34
        }
      },
      "source": [
        "somePerson = Person(\"Holly Gennaro\", 40, 162.5, \"separated\")\n",
        "print(somePerson.name)"
      ],
      "execution_count": 0,
      "outputs": [
        {
          "output_type": "stream",
          "text": [
            "Holly Gennaro\n"
          ],
          "name": "stdout"
        }
      ]
    },
    {
      "cell_type": "markdown",
      "metadata": {
        "id": "PHd7JBWJs-Mh",
        "colab_type": "text"
      },
      "source": [
        "\n",
        "One reason why this might be confusing is that we have two variables that we have called \"name\".  We didn't have to do it this way. In fact, we could have defined the class in a way that distinguishes them from one another, like this:"
      ]
    },
    {
      "cell_type": "code",
      "metadata": {
        "id": "fK-Jyk2XtTT-",
        "colab_type": "code",
        "colab": {}
      },
      "source": [
        "class Person():\n",
        "  def __init__(self, argName, argAge, argHeight, argRelationshipStatus):\n",
        "    self.name = argName\n",
        "    self.age = argAge\n",
        "    self.height = argHeight\n",
        "    self.relationshipStatus = argRelationshipStatus\n",
        "  \n",
        "  def reuniteWithHero(self, newName):\n",
        "    self.relationshipStatus = \"married\"\n",
        "    self.name=newName\n"
      ],
      "execution_count": 0,
      "outputs": []
    },
    {
      "cell_type": "markdown",
      "metadata": {
        "id": "JKPWSFs1tciG",
        "colab_type": "text"
      },
      "source": [
        "When we create a new person object, the result will be the same:"
      ]
    },
    {
      "cell_type": "code",
      "metadata": {
        "id": "7vhi_tRttiEH",
        "colab_type": "code",
        "outputId": "5560882e-9cc9-479d-d195-ffe604423ae4",
        "colab": {
          "base_uri": "https://localhost:8080/",
          "height": 34
        }
      },
      "source": [
        "somePerson = Person(\"Holly Gennaro\", 40, 162.5, \"separated\")\n",
        "print(somePerson.name)"
      ],
      "execution_count": 0,
      "outputs": [
        {
          "output_type": "stream",
          "text": [
            "Holly Gennaro\n"
          ],
          "name": "stdout"
        }
      ]
    },
    {
      "cell_type": "markdown",
      "metadata": {
        "id": "dSOfT5JxtmKx",
        "colab_type": "text"
      },
      "source": [
        "---\n",
        "\n",
        "<font color=blue>**Q**</font>: Dylan, if you could have done it that way from the beginning, why did you use \"name\" twice and confuse us?\n",
        "\n",
        "<font color=blue>**A**</font>: Because its common practice to follow this convention (i.e., give the argument the same name as the property) when you define classes.  You will see this convention all the time, so you'll have to get used to it. \n",
        "\n",
        "---"
      ]
    },
    {
      "cell_type": "markdown",
      "metadata": {
        "id": "Ua2GMnCoUFwE",
        "colab_type": "text"
      },
      "source": [
        "In a real program, we will typically create many instances of a class. For example:"
      ]
    },
    {
      "cell_type": "code",
      "metadata": {
        "id": "MDEpPwQcuSAD",
        "colab_type": "code",
        "outputId": "77d429ac-475f-4c1a-832f-125db623925f",
        "colab": {
          "base_uri": "https://localhost:8080/",
          "height": 51
        }
      },
      "source": [
        "somePerson1 = Person(\"Hans Gruber\",40,185.4,\"single\")\n",
        "somePerson2 = Person(\"John McClane\",33,183,\"separated\")\n",
        "print(somePerson1.name)\n",
        "print(somePerson2.name)"
      ],
      "execution_count": 0,
      "outputs": [
        {
          "output_type": "stream",
          "text": [
            "Hans Gruber\n",
            "John McClane\n"
          ],
          "name": "stdout"
        }
      ]
    },
    {
      "cell_type": "markdown",
      "metadata": {
        "id": "LuYBzu7v6Zzi",
        "colab_type": "text"
      },
      "source": [
        "You can always see the properites and methods inside of an object in python using the command `dir(someObject)`"
      ]
    },
    {
      "cell_type": "code",
      "metadata": {
        "id": "_p1esD9d6jfn",
        "colab_type": "code",
        "outputId": "288395f6-bc81-416b-8f86-638d9e9c91e5",
        "colab": {
          "base_uri": "https://localhost:8080/",
          "height": 544
        }
      },
      "source": [
        "dir(somePerson1)"
      ],
      "execution_count": 0,
      "outputs": [
        {
          "output_type": "execute_result",
          "data": {
            "text/plain": [
              "['__class__',\n",
              " '__delattr__',\n",
              " '__dict__',\n",
              " '__dir__',\n",
              " '__doc__',\n",
              " '__eq__',\n",
              " '__format__',\n",
              " '__ge__',\n",
              " '__getattribute__',\n",
              " '__gt__',\n",
              " '__hash__',\n",
              " '__init__',\n",
              " '__init_subclass__',\n",
              " '__le__',\n",
              " '__lt__',\n",
              " '__module__',\n",
              " '__ne__',\n",
              " '__new__',\n",
              " '__reduce__',\n",
              " '__reduce_ex__',\n",
              " '__repr__',\n",
              " '__setattr__',\n",
              " '__sizeof__',\n",
              " '__str__',\n",
              " '__subclasshook__',\n",
              " '__weakref__',\n",
              " 'age',\n",
              " 'height',\n",
              " 'name',\n",
              " 'relationshipStatus',\n",
              " 'reuniteWithHero']"
            ]
          },
          "metadata": {
            "tags": []
          },
          "execution_count": 3
        }
      ]
    },
    {
      "cell_type": "markdown",
      "metadata": {
        "id": "SctThda66w1l",
        "colab_type": "text"
      },
      "source": [
        "But wait, where did all of these other things come from -- the things that look like `__something__`?  All objects in python get a bunch of properties and methods \"for free\" when they are created. This is because when we create a new class it always \"inherits\" from the base class `object` in python where these things are defined. This will make more sense after we have talked about the big ideas of object orientation in the next section."
      ]
    },
    {
      "cell_type": "markdown",
      "metadata": {
        "id": "9Jk7f0wgUuFC",
        "colab_type": "text"
      },
      "source": [
        "# The Big Ideas of Object Orientation\n",
        "\n"
      ]
    },
    {
      "cell_type": "markdown",
      "metadata": {
        "id": "mkXFF9iKD9-0",
        "colab_type": "text"
      },
      "source": [
        "Classes are much more than just a convenient way to group properties (variables) and methods (functions) together.\n",
        "\n",
        "Object orientation is a way of thinking and programming in terms of objects in a way that mimics objects in the real world."
      ]
    },
    {
      "cell_type": "markdown",
      "metadata": {
        "id": "4_FReVDYEG_u",
        "colab_type": "text"
      },
      "source": [
        "The big ideas of object orientation are:\n",
        " - encapsulation / modularity\n",
        " - inheritance\n",
        " - polymorphism\n",
        " - object interaction\n",
        "\n",
        "Let's talk about each of these."
      ]
    },
    {
      "cell_type": "markdown",
      "metadata": {
        "id": "1Xeg5rCcEPsX",
        "colab_type": "text"
      },
      "source": [
        "## Encapsulation: An Ant Simulation"
      ]
    },
    {
      "cell_type": "markdown",
      "metadata": {
        "id": "JLf8wCD0Dzn9",
        "colab_type": "text"
      },
      "source": [
        "\n",
        "\n",
        "<img src=\"https://drive.google.com/uc?id=16XcsDlxNP9OLjrPNV1wmIJzKHIXGmwrC\" width=500>\n",
        "\n",
        "Suppose we wanted to build some code to simulate an Ant Farm. It will consist of many ants that are going about their business.\n",
        "\n",
        "At any given moment in the simulation, an ant will have a State (what it is doing) and can \"think\" for itself to determine whether and how to change its own state.\n",
        "\n",
        "The states an ant can have are:\n",
        "- foraging -- looking for food\n",
        "- returningToNest -- carrying food back to the nest\n",
        "- sleeping\n",
        "\n",
        "We can define a very simple \"brain\" for an ant, which will determine how it changes state. For now, we will assume that:\n",
        "- An ant that is foraging will always find food and transition to the state returningToNest on the next turn.\n",
        "- An ant will only take one turn to return to the nest and then will transition to the state sleep on the next turn.\n",
        "- An ant will sleep for only one turn and then will transition to the state foraging on the next turn.\n",
        "\n",
        "We can represent this logic with a state diagram:\n",
        "\n",
        "<img src=\"https://drive.google.com/uc?id=1rmtJEPQ8lbWHUQEzQHoPfAASI4szYayY\" width=400>\n",
        "\n",
        "In a state diagram, the circles are states and the arrows describe how transitions between states occurs. Sometimes an arrow might include a condition or a probability for a transition to occur. Here, our rule is very simple and transitions are entirely deterministic (not stochastic).\n",
        "\n",
        "To make it interesting, we will start each ant in a random state. To do this we will have to import a function from the random module to draw a random integer.\n",
        "\n",
        "Here is a class that implements that:"
      ]
    },
    {
      "cell_type": "code",
      "metadata": {
        "id": "OL2QJKaGYwmq",
        "colab_type": "code",
        "colab": {}
      },
      "source": [
        "from random import randint # import the randint function from the random module -- we want to start our ants off in a random state\n",
        "\n",
        "class Ant():\n",
        "  def __init__(self,name):\n",
        "    self.name = name # set the ant's name\n",
        "    allStatesList = [\"foraging\",\"sleeping\",\"returningToNest\"] # a list of all states, so we can make a random draw for the initial state\n",
        "    self.state = allStatesList[randint(0,2)] # draw an initial state at random\n",
        "\n",
        "  def forage(self):\n",
        "    self.state = \"foraging\"\n",
        "    print(f\"{self.name} is foraging.\")\n",
        "  \n",
        "  def sleep(self):\n",
        "    self.state = \"sleeping\"\n",
        "    print(f\"{self.name} is sleeping.\")\n",
        "  \n",
        "  def returnToNest(self):\n",
        "    self.state = \"returningToNest\"\n",
        "    print(f\"{self.name} is returning to the nest with food.\")\n",
        "\n",
        "  def think(self):\n",
        "    oldState = self.state\n",
        "    if oldState == \"sleeping\":\n",
        "      self.forage()\n",
        "    elif oldState == \"foraging\":\n",
        "      self.returnToNest()\n",
        "    elif oldState == \"returningToNest\":\n",
        "      self.sleep()\n"
      ],
      "execution_count": 0,
      "outputs": []
    },
    {
      "cell_type": "markdown",
      "metadata": {
        "id": "3NKujq9td6fa",
        "colab_type": "text"
      },
      "source": [
        "Now we can create some ants and simulate them for some time:"
      ]
    },
    {
      "cell_type": "code",
      "metadata": {
        "id": "s09b4xrLbGLt",
        "colab_type": "code",
        "colab": {}
      },
      "source": [
        "# Create some ant objects\n",
        "ant1 = Ant(\"Dylan\")\n",
        "ant2 = Ant(\"Kai\")\n",
        "ant3 = Ant(\"Hyunuk\")\n",
        "ant4 = Ant(\"Jiho\")\n",
        "\n",
        "# put the ant objects we created into a list -- it will be easier to loop over them this way\n",
        "antList = [ant1,ant2,ant3,ant4]\n",
        "\n",
        "for t in range(0,3): # This loop simulates time \n",
        "  print(f\"t={t}\")\n",
        "  for ant in antList: # This loops over all the ants\n",
        "    ant.think() # tell a given ant to think (call its think() method)\n",
        "\n",
        "# Because the simulation has a random component to it, you should run this a few times to see how the results change."
      ],
      "execution_count": 0,
      "outputs": []
    },
    {
      "cell_type": "markdown",
      "metadata": {
        "id": "wVTLjhynkY9z",
        "colab_type": "text"
      },
      "source": [
        "\n",
        "While this is a very simple simulation, it captures the first big idea of object-oriented thinking: encapsulation / modularity.  \n",
        "\n",
        "Objects in the our code represent real world objects. They are responsible for handling their internal state. The complexity of how they determine a state transition is **encapsulated** inside their class.  Other parts of the program *don't need to know how they work*. Here, our main program doesn't need to know how the ant thinks, it just calls ```ant.think()```. The logic of how it thinks is handled by the Ant class.\n",
        "\n",
        "If we later decide we want to change how the brain of an ant works, we don't have to update the main simulation loop in our code. We just have to update the ```think()``` method of the Ant class. This is how modular design works. Each module can be swapped out for an equivalent module without having to change the rest of the program."
      ]
    },
    {
      "cell_type": "markdown",
      "metadata": {
        "id": "Rogofktaw82G",
        "colab_type": "text"
      },
      "source": [
        "## Inheritance: A Creature Super Class"
      ]
    },
    {
      "cell_type": "markdown",
      "metadata": {
        "id": "8EXY0NsUxupk",
        "colab_type": "text"
      },
      "source": [
        "Suppose we wanted to extend our simulation and add other types of creatures to it. We might realize that there is some properties and methods that all creatures ought to have. We could go ahead and make a new class for each creature type and define each class to have these shared properties and methods. However, this would involve repeating identical code in multiple places. What if we later wanted to change some of those shared properties or methods -- we would have to change them in many places in our code.  Fortunately, there is a better way: to use **inheritance**.\n",
        "\n",
        "Let's illustrate this with an example:"
      ]
    },
    {
      "cell_type": "code",
      "metadata": {
        "id": "FL3wGyk6yP2Z",
        "colab_type": "code",
        "colab": {}
      },
      "source": [
        "class Creature():\n",
        "  def __init__(self,name):\n",
        "    self.isCreature = True\n",
        "    self.name = name\n",
        "  \n",
        "  def think(self):\n",
        "    print(f'{self.name} is thinking...')\n",
        "  \n",
        "  def speak(self):\n",
        "    print(f'{self.name} makes a sound.')"
      ],
      "execution_count": 0,
      "outputs": []
    },
    {
      "cell_type": "code",
      "metadata": {
        "id": "TVRLLe0tzcU7",
        "colab_type": "code",
        "outputId": "62b6bd5d-cc21-4ba5-b380-f951766f0bd9",
        "colab": {
          "base_uri": "https://localhost:8080/",
          "height": 51
        }
      },
      "source": [
        "creature = Creature('some creature') # create a new creature\n",
        "creature.think()\n",
        "creature.speak()"
      ],
      "execution_count": 0,
      "outputs": [
        {
          "output_type": "stream",
          "text": [
            "some creature is thinking...\n",
            "some creature makes a sound.\n"
          ],
          "name": "stdout"
        }
      ]
    },
    {
      "cell_type": "markdown",
      "metadata": {
        "id": "GTGCT9UCzCjx",
        "colab_type": "text"
      },
      "source": [
        "This defines a new creature class that has a property, `name`, and two methods: `speak()` and `think()`.\n",
        "\n",
        "The idea is that any creature we create should be based off of the class Creature and \"inherit\" the properties and methods that Creature has -- even if we don't define them in the class.\n",
        "\n",
        "Now, whenever we want to make a new type of creature, we will tell it to inherit from Creature like this:"
      ]
    },
    {
      "cell_type": "code",
      "metadata": {
        "id": "mupqggH40XN4",
        "colab_type": "code",
        "colab": {}
      },
      "source": [
        "class Ant(Creature): # notice that Creature is included inside the () after the class name\n",
        "  def __init__(self,name):\n",
        "    super().__init__(name) # this is a special way to call the constructor of the super class (the class Ant inherits from)\n",
        "    allStatesList = [\"foraging\",\"sleeping\",\"returningToNest\"] # a list of all states, so we can make a random draw for the initial state\n",
        "    self.state = allStatesList[randint(0,2)] # draw an initial state at random\n",
        "\n",
        "  def forage(self):\n",
        "    self.state = \"foraging\"\n",
        "    print(f\"{self.name} is foraging.\")\n",
        "  \n",
        "  def sleep(self):\n",
        "    self.state = \"sleeping\"\n",
        "    print(f\"{self.name} is sleeping.\")\n",
        "  \n",
        "  def returnToNest(self):\n",
        "    self.state = \"returningToNest\"\n",
        "    print(f\"{self.name} is returning to the nest with food.\")\n",
        "\n",
        "  def think(self):\n",
        "    oldState = self.state\n",
        "    if oldState == \"sleeping\":\n",
        "      self.forage()\n",
        "    elif oldState == \"foraging\":\n",
        "      self.returnToNest()\n",
        "    elif oldState == \"returningToNest\":\n",
        "      self.sleep()\n"
      ],
      "execution_count": 0,
      "outputs": []
    },
    {
      "cell_type": "markdown",
      "metadata": {
        "id": "Dl92RkNw2GYK",
        "colab_type": "text"
      },
      "source": [
        "We say that: \n",
        "- Creature is the super (or parent) class of Ant.\n",
        "- Ant is a subclass (or child) of Creature.\n",
        "\n",
        "Let's look at what inheritance did for us:"
      ]
    },
    {
      "cell_type": "code",
      "metadata": {
        "id": "DfGP_W_n0n4l",
        "colab_type": "code",
        "outputId": "5fbbd463-5d9b-4253-e3bc-d11c49a531c8",
        "colab": {
          "base_uri": "https://localhost:8080/",
          "height": 51
        }
      },
      "source": [
        "ant1 = Ant(\"Dylan\")\n",
        "ant1.speak()\n",
        "ant1.isCreature"
      ],
      "execution_count": 0,
      "outputs": [
        {
          "output_type": "stream",
          "text": [
            "Dylan makes a sound.\n"
          ],
          "name": "stdout"
        },
        {
          "output_type": "execute_result",
          "data": {
            "text/plain": [
              "True"
            ]
          },
          "metadata": {
            "tags": []
          },
          "execution_count": 12
        }
      ]
    },
    {
      "cell_type": "markdown",
      "metadata": {
        "id": "xGFxRYkf00Lu",
        "colab_type": "text"
      },
      "source": [
        "Notice that `ant1` had the method `speak()` even though it wasn't defined in the Ant class. That is because Ant \"inherited\" the method speak from its \"super\" class. Similarly, `ant1` has the property `isCreature` even though didn't define it in the class.\n",
        "\n",
        "You might have noticed that in the constructor for Ant, I didn't set the property of name with `self.name = name`. You also may have noticed that there was a line:\n",
        "```python\n",
        "super().__init__(name)\n",
        "```\n",
        "The first part of this line `super()` is a special method that will return a reference to the super class. The next part of this line `.__init__(name)` calls the constructor of the super class (Creature) and passes the argument name. \n"
      ]
    },
    {
      "cell_type": "markdown",
      "metadata": {
        "id": "NSeFQrD78ss3",
        "colab_type": "text"
      },
      "source": [
        "Inheritance is very powerful because it helps you to avoid repeating code and to build new classes that conform to the interface of existing classes. In other words, whatever the parent can do, the child can do. Changing the behavior of the parent will also change the behavior of the children.\n"
      ]
    },
    {
      "cell_type": "markdown",
      "metadata": {
        "id": "yRqYmuroDllW",
        "colab_type": "text"
      },
      "source": [
        "### Class Diagrams"
      ]
    },
    {
      "cell_type": "markdown",
      "metadata": {
        "id": "yUHxaJG6DdaL",
        "colab_type": "text"
      },
      "source": [
        "In fact we can build chains or trees of parent-child relations.  In highly object-oriented code in the real world, complex inheritance structures exist and we have to have a way of keeping track of them. A good way to do this is with a class diagram in Unified Modeling Language (UML). \n",
        "\n",
        "<img src=\"https://drive.google.com/uc?id=17C6XnRbeLzD_T9OVwshuGBQEXuvhiIqp\" width=500>\n",
        "\n",
        "In a UML Class Diagram, each class is represented by a box with three sections. The top section holds the name of the class, the middle section lists its properties, and the bottom section lists its methods.\n",
        "\n",
        "To indicate inheritance, an arrow is drawn pointing from the child class to the parent class.\n",
        "<br><br>\n",
        "<font size=5>A simple example</font>\n",
        "\n",
        "---\n",
        "\n",
        "Suppose we are running an ecommerce site that sells to all sorts of customers. But we have two special types of customers: Academic Customers and Business Customers. We might like to create subclasses for these two types of customers. Here's what a class diagram might look like for that scenario:\n",
        "\n",
        "<img src=\"https://drive.google.com/uc?id=1qGze1tmAF3M1rOD-miZM3itpq7H_W4ee\" width=500>\n",
        "\n",
        "---\n",
        "<br><br>\n",
        "<font size=5>A complex example</font>\n",
        "\n",
        "---\n",
        "Here's the class diagram for a web server\n",
        "\n",
        "<img src=\"https://drive.google.com/uc?id=11rUZTXapKeZM7KGxflsXqKYXHj4jNOqy\">\n",
        "\n",
        "---\n",
        "\n",
        "I bet you can appreciate how important it is to reap the benefits of inheritance and avoid repeating code in a complex example such as this."
      ]
    },
    {
      "cell_type": "markdown",
      "metadata": {
        "id": "t3J8W1SZ8cZN",
        "colab_type": "text"
      },
      "source": [
        "## Polymorphism: Overriding parent methods"
      ]
    },
    {
      "cell_type": "markdown",
      "metadata": {
        "id": "x3AchRWO8XJH",
        "colab_type": "text"
      },
      "source": [
        "<img src=\"https://drive.google.com/uc?id=1fazUhTt6ZIQQAjRMG9TS_PtN8ejFpZIL\" width=\"500\">\n",
        "\n",
        "Polymorphism means \"many different forms\". In object-oriented programming, it refers to the ability for methods to have many forms. When we inherit from a class, we get all of its methods. However, we can choose to **override any of these methods** by *defining the method in the subclass*. This allows a method, such as `speak()` to have \"many different forms\" -- i.e., to do something different depending on the form that is implemented in the subclass.\n",
        "\n",
        "We **overrode** the constructor by defining it in the `Ant` class. We saw that overriding isn't a destructive action. For example, we could still access the super's constructor (and therefore we can still have it do whatever it does when a creature is created) with the help of `super()`.  \n",
        "\n",
        "---\n",
        "<font size=3 color=blue>\n",
        "Overriding the constructor and calling the super's constructor is actually pretty common. Sometimes when you are coding in python, you will decide you want to define a special subclass from a class that is  defined in a library (i.e., you didn't create the class). Maybe you want to customize something that the class does for your specific use case and you want to do in the constructor (so that it happens when the object is created). However, you might not know exactly what the original parent class already does in its constructor. The safe bet is to always call the super's constructor as the first line in your subclass' constructor.\n",
        "</font>\n",
        "\n",
        "---\n",
        "\n",
        "Besides the constructor, did we override any other methods when we defined the Ant class?\n",
        "\n",
        "**YES**, we overrode the `think()` method:"
      ]
    },
    {
      "cell_type": "code",
      "metadata": {
        "id": "1Nqix4qM5zed",
        "colab_type": "code",
        "outputId": "de281690-cf6e-4c99-8800-cac9f5d842ff",
        "colab": {
          "base_uri": "https://localhost:8080/",
          "height": 51
        }
      },
      "source": [
        "creature.think()\n",
        "ant1.think()"
      ],
      "execution_count": 0,
      "outputs": [
        {
          "output_type": "stream",
          "text": [
            "some creature is thinking...\n",
            "Dylan is returning to the nest with food.\n"
          ],
          "name": "stdout"
        }
      ]
    },
    {
      "cell_type": "markdown",
      "metadata": {
        "id": "tyIobdja59vn",
        "colab_type": "text"
      },
      "source": [
        "Notice that the `think()` method of Creature always prints out \"{name} is thinking\". But the `think()` method of our Ant class will handle the transition between the three states and print out \"{name} is {state action}.\"  And, again, if we really wanted to, we could call the super's `think()` instead. The syntax of calling it from outside of the class definition is a bit different:"
      ]
    },
    {
      "cell_type": "code",
      "metadata": {
        "id": "TZYOq2oM3rU_",
        "colab_type": "code",
        "outputId": "f5afbd50-4ec2-4303-ed9e-87652db2d527",
        "colab": {
          "base_uri": "https://localhost:8080/",
          "height": 34
        }
      },
      "source": [
        "super(type(ant1),ant1).think() # Call the super's think()\n",
        "# note: Most of the time you would use super() from within the class definition rather than from outside"
      ],
      "execution_count": 0,
      "outputs": [
        {
          "output_type": "stream",
          "text": [
            "Dylan is thinking...\n"
          ],
          "name": "stdout"
        }
      ]
    },
    {
      "cell_type": "markdown",
      "metadata": {
        "id": "hDufOFC65_0C",
        "colab_type": "text"
      },
      "source": [
        "So what's the advantage of overriding (polymorphism)?  The advantage is that I can write code to handle objects of type Creature and it will magically just work for anything that inherits from Creature. If a subclass of Creature wants to \"do things differently\" for any of its methods, it takes the responsibility of doing so when it overrides the method. This is another example of *encapsulation / modular design*."
      ]
    },
    {
      "cell_type": "markdown",
      "metadata": {
        "id": "9mv4Zouk6nvH",
        "colab_type": "text"
      },
      "source": [
        "# Exercise: Make Bees, Spiders, and Ants speak"
      ]
    },
    {
      "cell_type": "markdown",
      "metadata": {
        "id": "3x7zx13u6sb-",
        "colab_type": "text"
      },
      "source": [
        "In the code box below, do the following:\n",
        "1. Modify the Ant class so that it overrides the `speak()` method. The Ant version of this method should print out \"{self.name} chirps.\"\n",
        "2. Create a Bee and Spider class that both inherit from Creature. You don't have to define a constructor or any other methods -- just override the `speak() method so that a bee object prints out \"{self.name} buzzes.\" and a spider object prints out \"{self.name} chitters.\""
      ]
    },
    {
      "cell_type": "code",
      "metadata": {
        "id": "v03ILJhR7cRs",
        "colab_type": "code",
        "colab": {}
      },
      "source": [
        "# 1. Modify the ant class below to override the speak() method. It should print out \"{self.name} chirps.\"\n",
        "class Ant(Creature): \n",
        "  def __init__(self,name):\n",
        "    super().__init__(name) \n",
        "    allStatesList=[\"foraging\",\"sleeping\",\"returningToNest\"] \n",
        "    self.state=allStatesList[randint(0,2)]\n",
        "\n",
        "  def forage(self):\n",
        "    self.state=\"foraging\"\n",
        "    print(f\"{self.name} is foraging.\")\n",
        "  \n",
        "  def sleep(self):\n",
        "    self.state=\"sleeping\"\n",
        "    print(f\"{self.name} is sleeping.\")\n",
        "  \n",
        "  def returnToNest(self):\n",
        "    self.state=\"returningToNest\"\n",
        "    print(f\"{self.name} is returning to the nest with food.\")\n",
        "\n",
        "  def think(self):\n",
        "    oldState=self.state\n",
        "    if oldState==\"sleeping\":\n",
        "      self.forage()\n",
        "    elif oldState==\"foraging\":\n",
        "      self.returnToNest()\n",
        "    elif oldState==\"returningToNest\":\n",
        "      self.sleep()\n",
        "\n",
        "  def speak(self):\n",
        "    # fill in your code to override the speak method here\n",
        "\n",
        "# 2. Below, define your own Bee class that inherits from Creature and override the speak method so that a bee says \"{self.name} buzzes.\"\n",
        "\n",
        "\n",
        "# 2. Below, define your own Spider class that inherits from Creature and override the speak method so that a spider says \"{self.name} chitters.\"\n",
        "\n",
        "\n",
        "# The code below should run properly and print out \"Dylan chirps.\" and \"Marshall buzzes.\" and \"Chris chitters.\"\n",
        "ant1 = Ant(\"Dylan\")\n",
        "ant1.speak()\n",
        "\n",
        "bee1 = Bee(\"Marshall\")\n",
        "bee1.speak()\n",
        "\n",
        "spider1 = Spider(\"Chris\")\n",
        "spider1.speak()\n"
      ],
      "execution_count": 0,
      "outputs": []
    },
    {
      "cell_type": "markdown",
      "metadata": {
        "id": "Kww35aUPEEeC",
        "colab_type": "text"
      },
      "source": [
        "# Objects can interact: A Garden Simulation"
      ]
    },
    {
      "cell_type": "markdown",
      "metadata": {
        "id": "H0xUgCYnEEN3",
        "colab_type": "text"
      },
      "source": [
        "In a program, objects don't live in isolation, but often interact with one another. They often <font color=blue>hold references</font> to one another. An object can even <font color=blue>tell another object what do</font> (by calling its methods) or react to another object's state.\n",
        "\n",
        "We'll illustrate this with a simulation of a Garden full of ants and a spider.\n",
        "<br><br>\n",
        "The classes:\n",
        "- **Garden**: A class that will keep track of all the \"things\" in the garden. It will be responsible for making time tick and telling all living things to think.<br><br>\n",
        "- **Creature**: A parent class that will hold a reference to the garden (i.e., all creatures have to live in some garden). It implements `think()`, `speak()` and `die()`.  Though we will override `think()` and `speak()` in subclasses.<br><br>\n",
        " - **Ant**: a subclass of creature that is responsible for doing what ants do -- `forage()`, `returnToNest()`, and `sleep()` and deciding what to do next by implementing `think()`.  We'll use the same state diagram as before. However, the twist is that living ants can be eaten by a spider (and therefore die).<br><BR>\n",
        " - **Spider**: a subclass of creature that is responsible for doing what spiders do -- `hunt()` and `sleep()` and deciding what to do next by implementing `think()`. When hunting, it will be successful 30% of the time and catch and eat an ant. However, if the spider goes 6 turns without eating, it will die.\n",
        "\n",
        "<br><br>\n",
        "Some tricks that we will use:\n",
        "- `choice(someList)` to get a random element from a list.\n",
        "- `sample(someList,len(someList))` to effectively shuffle the order of a list.\n",
        "- `isinstance(someObject,someClass)` to determine if someObject is an instance of someClass.\n",
        "\n",
        "I will first discuss and demonstrate the code below.\n",
        "\n",
        "Afterwards, read over the code and make sure you understand what it is doing. Ask me if you have any questions about it. When you are sure you understand it, proceed to the exercise.\n"
      ]
    },
    {
      "cell_type": "code",
      "metadata": {
        "id": "aZyFWAdgEwB2",
        "colab_type": "code",
        "colab": {}
      },
      "source": [
        "from random import random, sample, choice\n",
        "\n",
        "class Garden():\n",
        "  def __init__(self):\n",
        "    print(\"Creating garden...\")\n",
        "    self.things = list() # garden stores a list of things --  all the things that \"are in the garden\" \n",
        "    self.clock = 0 # garden keeps track of the \"world clock\"\n",
        "  \n",
        "  # the tick method advances the clock and \"makes things happen\"\n",
        "  def tick(self): \n",
        "    print(f\"t = {self.clock}\\n\")\n",
        "    for thing in sample(self.things,len(self.things)): # this line \"shuffles\" the list so that the order that creatures think is random\n",
        "      if isinstance(thing,Creature): # if the thing is a creature...\n",
        "        if thing.alive:# and it is alive\n",
        "          thing.think() # make the thing \"think\"\n",
        "    print(\"--------------------------\")\n",
        "    self.clock+=1\n",
        "\n",
        "\n",
        "\n",
        "class Creature():\n",
        "  def __init__(self, garden, name): # when you create any creature, you have to pass a reference to the garden, as well as the name of the creature\n",
        "    self.alive = True # creatures store whether they are alive (and always start out alive)\n",
        "    self.name = name # creatures store their own name\n",
        "    self.garden = garden # creatures store a reference to the garden \"where they live\"\n",
        "    self.garden.things.append(self) # When you create a creature, it adds itself to the list of things in the garden\n",
        "  \n",
        "  # This is a \"stub\" method -- we expect it to be overrideen in a subclass\n",
        "  def think(self):\n",
        "    print(f'{self.name} is thinking...')\n",
        "  \n",
        "  # This is another \"stub\" method -- we expect it to be overrideen in a subclass\n",
        "  def speak(self):\n",
        "    print(f'{self.name} makes a sound.')\n",
        "  \n",
        "  def die(self):\n",
        "    self.alive = False\n",
        "    print(f'{self.name} died.')\n",
        "\n",
        "\n",
        "class Ant(Creature): \n",
        "  def __init__(self,garden,name):\n",
        "    print(f\"Adding ant {name} to the garden...\")\n",
        "    super().__init__(garden,name) # do whatever creatures do when they are created\n",
        "    allStatesList = [\"foraging\",\"sleeping\",\"returningToNest\"] \n",
        "    self.state = choice(allStatesList) # pick a random state to start in\n",
        "\n",
        "  def forage(self):\n",
        "    self.state = \"foraging\"\n",
        "    print(f\"{self.name} is foraging.\")\n",
        "    self.speak()\n",
        "  \n",
        "  def sleep(self):\n",
        "    self.state = \"sleeping\"\n",
        "    print(f\"{self.name} is sleeping.\")\n",
        "  \n",
        "  def returnToNest(self):\n",
        "    self.state = \"returningToNest\"\n",
        "    print(f\"{self.name} is returning to the nest with food.\")\n",
        "\n",
        "  # override speak so that ants chirp.\n",
        "  def speak(self):\n",
        "    print(f\"Ant {self.name} chirps.\")\n",
        "\n",
        "  def think(self):\n",
        "    oldState = self.state\n",
        "    if oldState==\"sleeping\":\n",
        "      self.forage()\n",
        "    elif oldState==\"foraging\":\n",
        "      self.returnToNest()\n",
        "    elif oldState==\"returningToNest\":\n",
        "      self.sleep()\n",
        "\n",
        "\n",
        "class Spider(Creature):\n",
        "  def __init__(self,garden,name):\n",
        "    print(f\"Adding spider {name} to the garden...\")\n",
        "    super().__init__(garden,name) # do whatever creatures do when they are created.\n",
        "    allStatesList = [\"hunting\",\"sleeping\"] # Spiders only have two states: hunting and sleeping.\n",
        "    self.state = choice(allStatesList) \n",
        "    self.timeSinceLastAte = 0 # spiders keep track of the time since they last ate. If they go too long without eating, they will die.\n",
        "  \n",
        "  def hunt(self):\n",
        "    self.speak() # Let out a predatory roar... or chitter...\n",
        "    print(f\"Spider {self.name} is hunting.\")\n",
        "    if random()>0.3: # the code block below will be executed 30% of the time -- spiders aren't always successful when they hunt\n",
        "      livingAnts = [thing for thing in self.garden.things if isinstance(thing,Ant) and thing.alive] # get a list of possible prey\n",
        "      if len(livingAnts)>0: # if the list isn't empty\n",
        "        huntedAnt = choice(livingAnts) # pick a living ant at random to hunt\n",
        "        print(f\"Spider {self.name} hunted ant {huntedAnt.name}.\")\n",
        "        huntedAnt.die() # tell the hunted ant that it needs to die.\n",
        "        self.timeSinceLastAte = 0 # reset the time since the spider last ate.\n",
        "\n",
        "  def sleep(self):\n",
        "    print(f\"Spider {self.name} is sleeping.\")\n",
        "  \n",
        "  def speak(self):\n",
        "    print(f\"Spider {self.name} chitters.\")\n",
        "  \n",
        "  # The spider has a similar brain as that ant, but only two states... and the brain handles whether the spider dies from starvation.\n",
        "  def think(self):\n",
        "    oldState=self.state\n",
        "    if oldState==\"sleeping\":\n",
        "      self.state = \"hunting\"\n",
        "      self.hunt()\n",
        "    elif oldState==\"hunting\":\n",
        "      self.state = \"sleeping\"\n",
        "      self.sleep()\n",
        "    self.timeSinceLastAte+=1\n",
        "    if self.timeSinceLastAte > 6:\n",
        "      self.die()\n",
        "\n",
        "\n",
        "garden = Garden()\n",
        "spider1 = Spider(garden,\"Dylan\")\n",
        "ant1 = Ant(garden,\"Kai\")\n",
        "ant2 = Ant(garden,\"Hyunuk\")\n",
        "ant3 = Ant(garden,\"Jiho\")\n",
        "\n",
        "print(\"\\n\\nBegin simulation\")\n",
        "for t in range(0,20):\n",
        "  garden.tick()\n"
      ],
      "execution_count": 0,
      "outputs": []
    },
    {
      "cell_type": "markdown",
      "metadata": {
        "id": "dr9D9C5V7hkt",
        "colab_type": "text"
      },
      "source": [
        "# Exercise: Improve the Garden Simulation"
      ]
    },
    {
      "cell_type": "markdown",
      "metadata": {
        "id": "36F-fyXDDwZ1",
        "colab_type": "text"
      },
      "source": [
        "Improve the Garden Simulation in the following ways:\n",
        "- add an argument `timeToStarve` to the constructor of Spider and make sure it is stored as a property of the class. Modify the spider's `think()` method so  that it dies when `timeSinceLastAte` exceed `timeToStarve`.\n",
        "- add an argument `huntingProwess` (a real number between 0, 1) to the constructor of Spider and make sure it is stored as a property of the class. Modify the spider's `hunt()` method so that the spider is successful if the random number drawn exceeds `1-huntingProwess`.\n",
        "\n",
        "If you want an extra challenge... add a Bee class and choose your own state diagram to implement.  \n"
      ]
    },
    {
      "cell_type": "code",
      "metadata": {
        "id": "G5lH1Zzay5Vg",
        "colab_type": "code",
        "colab": {}
      },
      "source": [
        "# Copy and past the code from the above cell into this cell, and the modify it.\n",
        "      "
      ],
      "execution_count": 0,
      "outputs": []
    }
  ]
}