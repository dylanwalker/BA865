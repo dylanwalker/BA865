{
  "nbformat": 4,
  "nbformat_minor": 0,
  "metadata": {
    "colab": {
      "name": "BA865 - Lecture 02.ipynb",
      "provenance": [],
      "collapsed_sections": [],
      "include_colab_link": true
    },
    "kernelspec": {
      "name": "python3",
      "display_name": "Python 3"
    }
  },
  "cells": [
    {
      "cell_type": "markdown",
      "metadata": {
        "id": "view-in-github",
        "colab_type": "text"
      },
      "source": [
        "<a href=\"https://colab.research.google.com/github/dylanwalker/BA865/blob/master/BA865_Lecture_02.ipynb\" target=\"_parent\"><img src=\"https://colab.research.google.com/assets/colab-badge.svg\" alt=\"Open In Colab\"/></a>"
      ]
    },
    {
      "cell_type": "markdown",
      "metadata": {
        "id": "xDuirhH4V9nQ",
        "colab_type": "text"
      },
      "source": [
        "#Classes and Object Orientation\n",
        "\n",
        "## What is a class?\n",
        "\n",
        "In Python, we have seen scalar type variables:\n",
        "- int, float, bool, None\n",
        "\n",
        "We have also seen more complex non-scalar types that have their own structure. \n",
        "- this includes collections such as List, Dict, Tuples\n",
        "- and also other types such as String\n",
        "\n",
        "What are these more complicated types?\n",
        "- They are actually defined by classes\n",
        "\n",
        "A class is an \"idea\" -- it is the template for an object. It describes the structure of the object that you create with the class. You can think of a class as a \"cookie cutter\". We use them to create objects, which you can think of as the \"cookie\".\n",
        "\n",
        "![](https://drive.google.com/uc?id=1sTrs7GRvdZAGB5rwRtTDYUEM6lxHOrLv)\n"
      ]
    },
    {
      "cell_type": "markdown",
      "metadata": {
        "id": "LUvq1JUfWGsc",
        "colab_type": "text"
      },
      "source": [
        "## Why Classes? Inspired by Struct\n",
        "\n",
        "A long time ago in a galaxy far far away... programmers realized they needed something more than just regular variables. They wanted a way to group together a bunch of variables that were naturally related.\n",
        "\n",
        "Suppose we wanted to represent a point in 3D space. We would need to keep track of the three coordinates for the point, the x,y and z coordinates. We could just define them as three variables in our code:\n",
        "\n",
        "```\n",
        "x=2.0\n",
        "y=3.5\n",
        "z=1.3\n",
        "```\n",
        "Notice that nowhere in the code is the idea that these three variables are related to the same point. And what if we wanted to represent a whole bunch of points?  Should we do this?\n",
        "\n",
        "```\n",
        "x1=2.0\n",
        "y1=3.5\n",
        "z1=1.3\n",
        "\n",
        "x2=0.5\n",
        "y2=1.78\n",
        "z2=-2.4\n",
        "```\n",
        "\n",
        "It starts to get very messy. This is where the idea of a Struct came in.\n",
        "\n",
        "A Struct (short for structure) is a way of structuring a bunch of related variables together. They don't formally exist in Python, because classes can do what structs can do and a whole lot more. So I'll show you what a struct looks like in the C programming language:\n",
        "\n",
        "```\n",
        "struct Point {\n",
        "  float x;\n",
        "  float y;\n",
        "  float z;\n",
        "}\n",
        "```\n",
        "\n",
        "The struct is a definition of a point variable, which holds the three coordinate variables x, y, z \"inside of it\". If we wanted to make a new point in our C program, we would do it like this:\n",
        "\n",
        "```\n",
        "struct Point somePoint;\n",
        "somePoint.x=2.0;\n",
        "somePoint.y=3.5;\n",
        "somePonit.z=1.3;\n",
        "```\n",
        "The first line above declares that the variable somePoint is a struct and that the template defined earlier tells us its structure. The next three lines set the values of the x,y,z variables that live \"inside of\" somePoint.\n",
        "\n",
        "The idea of structs really helped programmers out with organizing their code better and grouping related variables together.\n",
        "\n",
        "But what if we had some function that was designed specifically to be used on points. Where should we put that function? \n",
        "\n",
        "Structs don't allow you to define such a function that \"lives inside\". But classes do! \n"
      ]
    },
    {
      "cell_type": "markdown",
      "metadata": {
        "id": "NGbyhg1M1ldZ",
        "colab_type": "text"
      },
      "source": [
        "\n",
        "\n",
        "\n",
        "## From Structs to Classes\n",
        "Let's imagine that Python allowed us to define a struct and that we had one for a Person. The variables that might live inside this Person struct could include:\n",
        "- name, age, height, relationshipStatus\n",
        "\n",
        "So imagine we had already defined the struct, and we wanted to make a new person in our code. We might do it like this:\n",
        "\n",
        "<img src=\"https://drive.google.com/uc?id=1cLjoSTOwTuvtNqCLIAMCzrEm9z6eDh54\" align=\"right\" height=140 style=\"padding-right: 5px;\">\n",
        "\n",
        "```\n",
        "somePerson = Person() # Use the template definition we're pretending we created\n",
        "somePerson.name = \"Holly Gennaro\"\n",
        "somePerson.age = 40\n",
        "somePerson.height = 162.5\n",
        "somePerson.relationshipStatus = \"separated\"\n",
        "```\n",
        "---\n",
        "*In case, you couldn't tell, I'm using characters from my favorite movie, **Die Hard**, to illustrate this example. This is a picture of Holly Gennaro, who separated from the hero, John McClane, and moved to LA to work for the Nakatomi Corporation. She used her maiden name \"Holly Gennaro\" at her new job and it was a point of disagreement between the couple.*\n",
        "\n",
        "---\n",
        "\n",
        "Even better if we could define a bunch of things at the time of creation:\n",
        "```\n",
        "somePerson=Person(\"Holly Gennaro\",40,162.5,\"separated\")\n",
        "```\n",
        "\n",
        "Somewhere later in our code, we might want to change the values of the variables inside this person. We could do it in the usual way:\n",
        "```\n",
        "somePerson.relationshipStatus=\"married\"\n",
        "```\n",
        "\n",
        "But maybe we want to control how the variables inside can change. For example, when the person \"reunites with the hero\", we might want to change her relationship status to \"married\" and also change her name to \"Holly McClane\" (re-adopting her married last name).  It would be nice if we could just make both changes at the same time using a function:\n",
        "\n",
        "```\n",
        "somePerson.reuniteWithHero(\"Holly McClane\")\n",
        "```\n",
        "Such a function could change set relationshipStatus=\"married\" and also change the person's name to the \"Holly McClane\" (the argument we passed into the function).\n",
        "\n",
        "Because the function only operates on the variables that \"live inside of\" the person, it should really also \"live inside\" the person. Struct's can't accomodate that, but classes can. And, as we will see, classes can do a lot of other really useful things.\n"
      ]
    },
    {
      "cell_type": "markdown",
      "metadata": {
        "id": "hoLxlYsGWXhQ",
        "colab_type": "text"
      },
      "source": [
        "## Defining a Class\n",
        "\n",
        "A Class definition includes:\n",
        "- The name of the class\n",
        " - what you will use to create a new object from that class e.g., Person()\n",
        "- **Properties** (or attributes)\n",
        " - the variables that \"live inside\" the object of that class type e.g., height\n",
        "- **Methods**\n",
        " - Functions that \"live inside\" the object of that class type e.g., reuniteWithHero()\n",
        "\n",
        "Here's how we would define the class for the example used earlier (you should run this code now!):\n",
        "\n"
      ]
    },
    {
      "cell_type": "code",
      "metadata": {
        "id": "PeOlFhOMpNSy",
        "colab_type": "code",
        "colab": {}
      },
      "source": [
        "# An example class for a person\n",
        "class Person():\n",
        "  def __init__(self, name, age, height, relationshipStatus):\n",
        "    self.name = name\n",
        "    self.age = age\n",
        "    self.height = height\n",
        "    self.relationshipStatus = relationshipStatus\n",
        "  \n",
        "  def reuniteWithHero(self, newName):\n",
        "    self.relationshipStatus = \"married\"\n",
        "    self.name=newName\n"
      ],
      "execution_count": 0,
      "outputs": []
    },
    {
      "cell_type": "markdown",
      "metadata": {
        "id": "QGJVmzOBFEvw",
        "colab_type": "text"
      },
      "source": [
        "You might be confused by some things in the definition of the class above. For example, what the heck is this ```__init__()``` method? What is this weird keyword ```self``` doing there? Why do we have all these statements like ```self.x = x```?\n",
        "\n",
        "I'll explain all of this soon, but for now, just focus on the concept that this class is a \"cookie cutter\" that defines the properties (variables that \"live inside it\") and the methods (functions that \"live inside it\"). \n",
        "\n",
        "We will use this definition to **instantiate** an object of this type.  The word instantiate describes using our \"cookie cutter\" (class) to create a \"cookie\" (object). \n",
        "\n",
        "We say that \"somePerson is an instance of the class Person\". \n",
        "\n",
        "\n",
        "And here's how we would use the class definition to create a new instance:"
      ]
    },
    {
      "cell_type": "code",
      "metadata": {
        "id": "pT5aBDXIFLBU",
        "colab_type": "code",
        "colab": {}
      },
      "source": [
        "somePerson = Person(\"Holly Gennaro\", 40, 162.5, \"separated\")"
      ],
      "execution_count": 0,
      "outputs": []
    },
    {
      "cell_type": "markdown",
      "metadata": {
        "id": "UvjS8sFNF2YB",
        "colab_type": "text"
      },
      "source": [
        "Now that we've instantiated a new person object called somePerson, we can use it in our code. We can also call its methods:"
      ]
    },
    {
      "cell_type": "code",
      "metadata": {
        "id": "7LiWzLwUF5AA",
        "colab_type": "code",
        "outputId": "5c3d09ae-4990-42d1-f1f6-48c8b21f8727",
        "colab": {
          "base_uri": "https://localhost:8080/",
          "height": 51
        }
      },
      "source": [
        "print(f\"The person's name is {somePerson.name}. Their relationship status is {somePerson.relationshipStatus}.\") # I'm using f-strings here to print with a nice format\n",
        "somePerson.reuniteWithHero(\"Holly McClane\") # use the reuniteWithHero() method\n",
        "print(f\"The person's name is {somePerson.name}. Their relationship status is {somePerson.relationshipStatus}.\")\n"
      ],
      "execution_count": 0,
      "outputs": [
        {
          "output_type": "stream",
          "text": [
            "The person's name is Holly Gennaro. Their relationship status is separated\n",
            "The person's name is Holly McClane. Their relationship status is married\n"
          ],
          "name": "stdout"
        }
      ]
    },
    {
      "cell_type": "markdown",
      "metadata": {
        "id": "mDwDCoG0E09f",
        "colab_type": "text"
      },
      "source": [
        "Ok, now let's go back to the definition of the class and try to make sense of what's going on there."
      ]
    },
    {
      "cell_type": "markdown",
      "metadata": {
        "id": "14a0-vK-bxKq",
        "colab_type": "text"
      },
      "source": [
        "# Anatomy of a class\n",
        "\n",
        "Let's look at the pieces of our class definition one by one:\n",
        "[INSERT PIC OF self keyword]()\n",
        "\n",
        "self is a special keyword that we only use inside of class definitions. It is a placeholder variable that will hold a reference to the object that we instantiate.  Basically, this reference always points to itself. Let's see this in practice:\n"
      ]
    },
    {
      "cell_type": "code",
      "metadata": {
        "id": "Un9UveaOcbDh",
        "colab_type": "code",
        "outputId": "36fe6b82-674a-4784-f9d9-26a16113eb48",
        "colab": {
          "base_uri": "https://localhost:8080/",
          "height": 34
        }
      },
      "source": [
        "print(somePerson)\n",
        "# The reference that this prints out is the location in memory where the somePerson object is stored."
      ],
      "execution_count": 0,
      "outputs": [
        {
          "output_type": "stream",
          "text": [
            "<__main__.Person object at 0x7fe952ae0be0>\n"
          ],
          "name": "stdout"
        }
      ]
    },
    {
      "cell_type": "markdown",
      "metadata": {
        "id": "5Hwg6Qwtd4lV",
        "colab_type": "text"
      },
      "source": [
        "Ok, what's the deal with this weird ```__init__()``` method?\n",
        "[INSERT PIC OF init method]()\n",
        "\n",
        "Notice that we said our constructor method has some arguments that it expects:\n",
        " - name, age, height, relationshipStatus. \n",
        "\n",
        "When we create somePerson with:\n",
        "```\n",
        "somePerson = Person(\"Holly Gennaro\", 40, 162.5, \"separated\")\n",
        "```\n",
        "we are actually calling the ```__init__()``` constructor.  When we call any method, we basically pretend that the self argument isn't there. That's why the first argument of ```Person()``` is the name. Python already knows that you are talking about the somePerson instance when you call a method like ```somePerson.reuniteWithHero(\"Holly McClane\")``` so it fills in the first argument for you.\n",
        "\n",
        "\n",
        "\n",
        "Remember:\n",
        "Once a function or method is run, all the arguments passed into it and all the variables defined within it will no longer exist or be accessible when the function or method terminates. \n",
        "\n",
        "Objects, on the other hand, live on after you declare them in your program, just like variables in the main program.\n",
        "\n",
        "When code inside the constructor does something like this:\n",
        "```\n",
        "self.name = name\n",
        "```\n",
        "what it is doing is taking the argument ```name``` that you have passed into the method and setting the name property of the object to its value. When the method terminates the argument name will no longer be accessible. However, the code ```self.name = name``` defines a new property name to be a variable that lives inside the object instance (in this case ```somePerson```). So when we pass in the name \"Holly Gennaro\", this is equivalent to running:\n",
        "```\n",
        "somePerson.name = \"Holly Gennaro\"\n",
        "```  \n",
        "\n",
        "You can check that this is the case by printing the property:\n"
      ]
    },
    {
      "cell_type": "code",
      "metadata": {
        "id": "6P3e1E7Ts1t2",
        "colab_type": "code",
        "outputId": "7163c51c-7f2d-41cd-8919-09586714ce26",
        "colab": {
          "base_uri": "https://localhost:8080/",
          "height": 34
        }
      },
      "source": [
        "somePerson = Person(\"Holly Gennaro\", 40, 162.5, \"separated\")\n",
        "print(somePerson.name)"
      ],
      "execution_count": 0,
      "outputs": [
        {
          "output_type": "stream",
          "text": [
            "Holly Gennaro\n"
          ],
          "name": "stdout"
        }
      ]
    },
    {
      "cell_type": "markdown",
      "metadata": {
        "id": "PHd7JBWJs-Mh",
        "colab_type": "text"
      },
      "source": [
        "\n",
        "One reason why this might be confusing is that we have two variables that we have called \"name\".  We didn't have to do it this way. In fact, we could have defined the class in a way that distinguishes them from one another, like this:"
      ]
    },
    {
      "cell_type": "code",
      "metadata": {
        "id": "fK-Jyk2XtTT-",
        "colab_type": "code",
        "colab": {}
      },
      "source": [
        "class Person():\n",
        "  def __init__(self, argName, argAge, argHeight, argRelationshipStatus):\n",
        "    self.name = argName\n",
        "    self.age = argAge\n",
        "    self.height = argHeight\n",
        "    self.relationshipStatus = argRelationshipStatus\n",
        "  \n",
        "  def reuniteWithHero(self, newName):\n",
        "    self.relationshipStatus = \"married\"\n",
        "    self.name=newName\n"
      ],
      "execution_count": 0,
      "outputs": []
    },
    {
      "cell_type": "markdown",
      "metadata": {
        "id": "JKPWSFs1tciG",
        "colab_type": "text"
      },
      "source": [
        "When we create a new person object, the result will be the same:"
      ]
    },
    {
      "cell_type": "code",
      "metadata": {
        "id": "7vhi_tRttiEH",
        "colab_type": "code",
        "outputId": "5560882e-9cc9-479d-d195-ffe604423ae4",
        "colab": {
          "base_uri": "https://localhost:8080/",
          "height": 34
        }
      },
      "source": [
        "somePerson = Person(\"Holly Gennaro\", 40, 162.5, \"separated\")\n",
        "print(somePerson.name)"
      ],
      "execution_count": 0,
      "outputs": [
        {
          "output_type": "stream",
          "text": [
            "Holly Gennaro\n"
          ],
          "name": "stdout"
        }
      ]
    },
    {
      "cell_type": "markdown",
      "metadata": {
        "id": "dSOfT5JxtmKx",
        "colab_type": "text"
      },
      "source": [
        "Q: Dylan, if you could have done it that way from the beginning, why did you use \"name\" twice and confuse us?\n",
        "\n",
        "A: Because its common practice to follow this convention (i.e., give the argument the same name as the property) when you define classes.  You will see this convention all the time, so you'll have to get used to it. "
      ]
    },
    {
      "cell_type": "markdown",
      "metadata": {
        "id": "Ua2GMnCoUFwE",
        "colab_type": "text"
      },
      "source": [
        "In a real program, we will typically create many instances of a class. For example:"
      ]
    },
    {
      "cell_type": "code",
      "metadata": {
        "id": "MDEpPwQcuSAD",
        "colab_type": "code",
        "outputId": "06ec1139-04f8-47fd-8ae2-97f034e1f33c",
        "colab": {
          "base_uri": "https://localhost:8080/",
          "height": 51
        }
      },
      "source": [
        "somePerson1 = Person(\"Hans Gruber\",40,185.4,\"single\")\n",
        "somePerson2 = Person(\"John McClane\",33,183,\"separated\")\n",
        "print(somePerson1.name)\n",
        "print(somePerson2.name)"
      ],
      "execution_count": 0,
      "outputs": [
        {
          "output_type": "stream",
          "text": [
            "Hans Gruber\n",
            "John McClane\n"
          ],
          "name": "stdout"
        }
      ]
    },
    {
      "cell_type": "markdown",
      "metadata": {
        "id": "9Jk7f0wgUuFC",
        "colab_type": "text"
      },
      "source": [
        "# Object Orientation\n",
        "\n",
        "Classes are much more than just a convenient way to group properties (variables) and methods (functions) together.\n",
        "\n",
        "Object orientation is a way of thinking and programming in terms of objects in a way that mimics objects in the real world.\n",
        "\n",
        "## The Big Ideas of Object Orientation\n",
        "\n",
        "The big ideas of object orientation are:\n",
        " - encapsulation / modularity\n",
        " - inheritance\n",
        " - polymorphism\n",
        "\n",
        "## Encapsulation: An Ant Simulation\n",
        "\n",
        "<img src=\"https://drive.google.com/uc?id=16XcsDlxNP9OLjrPNV1wmIJzKHIXGmwrC\" width=500>\n",
        "\n",
        "Suppose we wanted to build some code to simulate an Ant Farm. It will consist of many ants that are going about their business.\n",
        "\n",
        "At any given moment in the simulation, an ant will have a State (what it is doing) and can \"think\" for itself to determine whether and how to change its own state.\n",
        "\n",
        "The states an ant can have are:\n",
        "- foraging -- looking for food\n",
        "- returnToNest -- carrying food back to the nest\n",
        "- sleeping\n",
        "\n",
        "We can define a very simple \"brain\" for an ant, which will determine how it changes state. For now, we will assume that:\n",
        "- An ant that is foraging will always find food and transition to the state returningToNest on the next turn.\n",
        "- An ant will only take one turn to return to the nest and then will transition to the state sleep on the next turn.\n",
        "- An ant will sleep for only one turn and then will transition to the state foraging on the next turn.\n",
        "\n",
        "We can represent this logic with a state diagram:\n",
        "[INSERT ANT STATE DIAGRAM]()\n",
        "\n",
        "To make it interesting, we will start each ant in a random state. To do this we will have to import a function from the random module to draw a random integer.\n",
        "\n",
        "Here is a class that implements that:"
      ]
    },
    {
      "cell_type": "code",
      "metadata": {
        "id": "OL2QJKaGYwmq",
        "colab_type": "code",
        "colab": {}
      },
      "source": [
        "from random import randint # import the randint function from the random module -- we want to start our ants off in a random state\n",
        "\n",
        "class Ant():\n",
        "  def __init__(self,name):\n",
        "    self.name=name # set the ant's name\n",
        "    allStatesList=[\"foraging\",\"sleeping\",\"returningToNest\"] # a list of all states, so we can make a random draw for the initial state\n",
        "    self.state=allStatesList[randint(0,2)] # draw an initial state at random\n",
        "\n",
        "  def forage(self):\n",
        "    self.state=\"foraging\"\n",
        "    print(f\"{self.name} is foraging.\")\n",
        "  \n",
        "  def sleep(self):\n",
        "    self.state=\"sleeping\"\n",
        "    print(f\"{self.name} is sleeping.\")\n",
        "  \n",
        "  def returnToNest(self):\n",
        "    self.state=\"returningToNest\"\n",
        "    print(f\"{self.name} is returning to the nest with food.\")\n",
        "\n",
        "  def think(self):\n",
        "    oldState=self.state\n",
        "    if oldState==\"sleeping\":\n",
        "      self.forage()\n",
        "    elif oldState==\"foraging\":\n",
        "      self.returnToNest()\n",
        "    elif oldState==\"returningToNest\":\n",
        "      self.sleep()\n"
      ],
      "execution_count": 0,
      "outputs": []
    },
    {
      "cell_type": "markdown",
      "metadata": {
        "id": "3NKujq9td6fa",
        "colab_type": "text"
      },
      "source": [
        "Now we can create some ants and simulate them for some time:"
      ]
    },
    {
      "cell_type": "code",
      "metadata": {
        "id": "s09b4xrLbGLt",
        "colab_type": "code",
        "colab": {}
      },
      "source": [
        "# Create some ant objects\n",
        "ant1=Ant(\"Dylan\")\n",
        "ant2=Ant(\"Kai\")\n",
        "ant3=Ant(\"Hyunuk\")\n",
        "ant4=Ant(\"Jiho\")\n",
        "\n",
        "# put the ant objects we created into a list -- it will be easier to loop over them this way\n",
        "antList=[ant1,ant2,ant3,ant4]\n",
        "\n",
        "for t in range(0,3): # This loop simulates time \n",
        "  print(f\"t={t}\")\n",
        "  for ant in antList: # This loops over all the ants\n",
        "    ant.think() # tell a given ant to think (call its think() method)\n",
        "\n",
        "# Because the simulation has a random component to it, you should run this a few times to see how the results change."
      ],
      "execution_count": 0,
      "outputs": []
    },
    {
      "cell_type": "markdown",
      "metadata": {
        "id": "wVTLjhynkY9z",
        "colab_type": "text"
      },
      "source": [
        "\n",
        "While this is a very simple simulation, it captures the first big idea of object-oriented thinking: encapsulation / modularity.  \n",
        "\n",
        "Objects in the our code represent real world objects. They are responsible for handling their internal state. The complexity of how they determine a state transition is **encapsulated** inside their class.  Other parts of the program *don't need to know how they work*. Here, our main program doesn't need to know how the ant thinks, it just calls ```ant.think()```. The logic of how it thinks is handled by the Ant class.\n",
        "\n",
        "If we later decide we want to change how the brain of an ant works, we don't have to update the main simulation loop in our code. We just have to update the ```think()``` method of the Ant class. This is how modular design works. Each module can be swapped out for an equivalent module without having to change the rest of the program."
      ]
    }
  ]
}