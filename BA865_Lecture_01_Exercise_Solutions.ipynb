{
  "nbformat": 4,
  "nbformat_minor": 0,
  "metadata": {
    "colab": {
      "name": "BA865 - Lecture 01 - Exercise Solutions.ipynb",
      "provenance": [],
      "private_outputs": true,
      "collapsed_sections": [
        "eav5NPN8T8z4",
        "9UoTInHgWODw"
      ],
      "authorship_tag": "ABX9TyN3GWty4zCDLXlUT1fRB+LO",
      "include_colab_link": true
    },
    "kernelspec": {
      "name": "python3",
      "display_name": "Python 3"
    }
  },
  "cells": [
    {
      "cell_type": "markdown",
      "metadata": {
        "id": "view-in-github",
        "colab_type": "text"
      },
      "source": [
        "<a href=\"https://colab.research.google.com/github/dylanwalker/BA865/blob/master/BA865_Lecture_01_Exercise_Solutions.ipynb\" target=\"_parent\"><img src=\"https://colab.research.google.com/assets/colab-badge.svg\" alt=\"Open In Colab\"/></a>"
      ]
    },
    {
      "cell_type": "markdown",
      "metadata": {
        "id": "mjEMbLWfTruN",
        "colab_type": "text"
      },
      "source": [
        "# Exercise Solutions"
      ]
    },
    {
      "cell_type": "markdown",
      "metadata": {
        "id": "eav5NPN8T8z4",
        "colab_type": "text"
      },
      "source": [
        "# Lecture 01 - Write funtions to save/load a dictionary from/to a file"
      ]
    },
    {
      "cell_type": "code",
      "metadata": {
        "id": "99I9D0hHUDgm",
        "colab_type": "code",
        "colab": {}
      },
      "source": [
        "movieCharacters = {'John McClane':'Bruce Willis','Hans Gruber':'Alan Rickman', 'Holly Gennaro':'Bonnie Bedelia', 'Sgt. Al Powell':'Reginald VelJohnson'}\n",
        "\n",
        "def saveDictToFile(someDict,fileName):\n",
        "  with open(fileName,'w') as f:\n",
        "    for k,v in someDict.items():\n",
        "      f.write(f\"{k},{v}\\n\")\n",
        "\n",
        "def loadDictFromFile(fileName):\n",
        "  with open(fileName,'r') as f:\n",
        "    lines = f.readlines()\n",
        "  someDict={}\n",
        "  for line in lines:\n",
        "    k,v = line.strip(\"\\n\").split(',')\n",
        "    someDict[k] = v\n",
        "  return someDict\n",
        "\n",
        "saveDictToFile(movieCharacters,'movieCharacters.txt')\n",
        "\n",
        "someDict = loadDictFromFile('movieCharacters.txt')\n",
        "\n",
        "print(movieCharacters)\n",
        "print(someDict)\n"
      ],
      "execution_count": 0,
      "outputs": []
    },
    {
      "cell_type": "markdown",
      "metadata": {
        "id": "9UoTInHgWODw",
        "colab_type": "text"
      },
      "source": [
        "# Lecture 01 - Make an RPG Character Generator"
      ]
    },
    {
      "cell_type": "code",
      "metadata": {
        "id": "fSo4QorHWSI7",
        "colab_type": "code",
        "colab": {}
      },
      "source": [
        "def makeCharacter():\n",
        "  charName = input(\"Input character's name:\")\n",
        "  charClass = input(\"Input character's class (e.g., Fighter, Wizard, Thief):\")\n",
        "  charRace = input(\"Input character's race (e.g., Human, Elf, Goblin):\")\n",
        "  charStrength = input(\"Input character's Strength (1 to 10):\")\n",
        "  charDefense = input(\"Input character's Defense (1 to 10):\")\n",
        "  charIntelligence = input(\"Input character's Intelligence (1 to 10):\")\n",
        "  charDexterity = input(\"Input character's Dexterity (1 to 10):\")\n",
        "  charDict = {'name':charName,'class':charClass,'race':charRace,'strength':charStrength,\n",
        "              'defense':charDefense,'intelligence':charIntelligence,'dexterity':charDexterity}\n",
        "  return charDict\n",
        "\n",
        "c = makeCharacter() # create a new character\n",
        "print(c) # print out the character\n",
        "  \n",
        "def saveCharacter(character,fileName):\n",
        "  with open(fileName,'w') as f:\n",
        "    for k,v in character.items():\n",
        "      f.write(f\"{k},{v}\\n\")\n",
        "\n",
        "def loadCharacter(fileName):\n",
        "  with open(fileName,'r') as f:\n",
        "    lines = f.readlines()\n",
        "  character={}\n",
        "  for line in lines:\n",
        "    k,v = line.strip(\"\\n\").split(',')\n",
        "    character[k] = v\n",
        "  return character\n",
        "\n",
        "\n",
        "saveCharacter(c,'RPGCharacter.txt') # Save character to a file\n",
        "c2 = loadCharacter('RPGCharacter.txt') # load character from the file\n",
        "\n",
        "print(c2) # print character loaded from file\n",
        "\n"
      ],
      "execution_count": 0,
      "outputs": []
    }
  ]
}