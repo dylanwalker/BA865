{
  "nbformat": 4,
  "nbformat_minor": 0,
  "metadata": {
    "colab": {
      "name": "BA865 - Lecture 07.ipynb",
      "provenance": [],
      "collapsed_sections": [
        "49gdNNhso9_S",
        "v0lA3GhgYiMR",
        "Qtwyb54EZN6h",
        "791rE2g2cGTY"
      ],
      "authorship_tag": "ABX9TyProXjkfUL9KVZ7W5jlHz/r",
      "include_colab_link": true
    },
    "kernelspec": {
      "name": "python3",
      "display_name": "Python 3"
    },
    "accelerator": "GPU"
  },
  "cells": [
    {
      "cell_type": "markdown",
      "metadata": {
        "id": "view-in-github",
        "colab_type": "text"
      },
      "source": [
        "<a href=\"https://colab.research.google.com/github/dylanwalker/BA865/blob/master/BA865_Lecture_07.ipynb\" target=\"_parent\"><img src=\"https://colab.research.google.com/assets/colab-badge.svg\" alt=\"Open In Colab\"/></a>"
      ]
    },
    {
      "cell_type": "markdown",
      "metadata": {
        "id": "PZqH0luro3Tv",
        "colab_type": "text"
      },
      "source": [
        "# Code Preface"
      ]
    },
    {
      "cell_type": "code",
      "metadata": {
        "id": "cEtG0MVbovdk",
        "colab_type": "code",
        "colab": {}
      },
      "source": [
        "import torch\n",
        "import numpy as np\n",
        "import pandas as pd\n",
        "import matplotlib.pyplot as plt\n"
      ],
      "execution_count": 0,
      "outputs": []
    },
    {
      "cell_type": "markdown",
      "metadata": {
        "id": "49gdNNhso9_S",
        "colab_type": "text"
      },
      "source": [
        "# Pytorch"
      ]
    },
    {
      "cell_type": "markdown",
      "metadata": {
        "id": "3eL2GnygpB6Y",
        "colab_type": "text"
      },
      "source": [
        "![](https://drive.google.com/uc?id=1OFx-0HlKzV2kOVaD2SNkZwOUpHhClMiJ)\n",
        "\n",
        "## What is PyTorch?\n",
        "\n",
        "Pytorch is an open source machine learning framework that we can use to build and train artificial neural networks.\n",
        "\n",
        "\n",
        "## Why PyTorch?\n",
        "\n",
        "You might have heard about a very popular Neural Network library called Tensorflow. And you might be wondering \"Why aren't we learning Tensorflow?\".\n",
        "\n",
        "There are a few answers to this question:\n",
        "- Declarative vs Imperative:\n",
        " - Tensorflow was designed to be **declarative**. In Tensorflow, you set up your neural network architecture as a static graph before a model can run. The graph is full of all of these placeholders that will be replaced with tensors built from data when the model is run.  In this sense, the model is kind of an enclosed box that you define ahead of time, with only a few ways that you can communicate or pass data into this box. \n",
        " - In contrast, PyTorch is imperative. You can define, change and pass data through nodes of the graph as you go. This means your ability to change things on the fly and peer into what is happening, and even **debug** easily.\n",
        "- Static vs Dynamic:\n",
        " - Because you build static graphs in Tensorflow, it is harder to implement dynamic neural network architectures. Other dynamical things, such as input data that has varying size have to be handled with workarounds (such as padding the data).\n",
        " - But PyTorch is naturally dynamics and so its relatively easy to do these things.\n",
        "- Pedagogical reasons:\n",
        " - The Tensorflow API is a bit cluttered. There are many ways to do things and it isn't always clear what is the best way to do it. While there is a ton of support online (because the community of Tensorflow users is quite large), it has evolved significantly over the years and you may easily find outdated methods and approaches.\n",
        " - PyTorch is very easy to learn and is more \"Pythonic\".\n",
        "\n",
        "\n",
        "To be clear, there are lots of other differences and Tensorflow has some many advantages. Not to mention that Tensorflow has a new Eager execution framework that allows you to do more dynamic things with it. Its also very easy to deploy in production and can be very computationally efficient. Ultimately if you continue to learn and work with neural networks, you will likely have to learn both frameworks. However, I chose PyTorch as a starting framework because I believe it provides a smoother learning curve.  And once you know PyTorch and the fundamentals of neural networks, it will then be easier to learn Tensorflow if you choose.\n",
        "\n",
        "\n",
        "## What does PyTorch do for us?\n",
        "\n",
        "One of the many thing that pytorch provides is the ability to make and work with tensor objects.\n",
        "\n",
        "A tensor is a number, vector, matrix, or any n-dimensional array.  You might be thinking \"Hey, wait a minute, we already have a library for working with numbers, vectors, matrices and n-dimensional arrays -- its called numpy!\".\n",
        "\n",
        "\n",
        "That's true, but pytorch is different because the tensor objects are built to automatically compute gradients (derivatives) when they are linked to one another through an expression. Computing gradients is an important aspect of the backward propagation step that is used in the training loop to train a neural network.\n",
        "\n",
        "We will see how all of this works together, but for now let's just explore how to create and work with some very basic tensors.\n",
        "\n"
      ]
    },
    {
      "cell_type": "markdown",
      "metadata": {
        "id": "qQDb-eIYudT7",
        "colab_type": "text"
      },
      "source": [
        "# Basics of Pytorch tensors"
      ]
    },
    {
      "cell_type": "markdown",
      "metadata": {
        "id": "fbqfGqMhKrYk",
        "colab_type": "text"
      },
      "source": [
        "The first thing we need to do is to import the pytorch module and decide whether we want to execute our code on a CPU (Central Processing Unit) or a GPU (Graphics Processing Unit).\n",
        "\n",
        "The operations involved in working with tensors and training neural network can benefit from parellelization significantly. Just as tools such as numpy take advantage of linear algebra libraries to vectorize operations, pytorch can also take advatage of libraries to parallelize computations. Whereas modern CPUs have increased the number of cores over the years, they still pale in comparison to the number of cores on GPUs which can number in the hundreds to thousands. Neural networking frameworks such as Pytorch can leverage libraries, such as CUDA (a parallelel computing framework developed by NVIDIA) to take advantage of all the GPU cores.\n",
        "\n",
        "Of course, in order to do this, we need to be executing the code on a machine that has a GPU.\n",
        "\n",
        "Google Colab offers GPUs and TPUs (Tensor Processing Units) as options under the runtime settings: \n",
        "`Runtime->Change Runtime Type->Hardware Accelerator-> GPU or TPU`. \n",
        "\n",
        "Let's do this now, so that we have access to a GPU.\n",
        "\n",
        "We won't need to do this for now, as we'll be executing relatively shallow neural nets that can still be trained in a reasonable amount of time with just a CPU.\n",
        "\n",
        "\n",
        "When you work with pytorch, you can specify whether to use the CPU or GPU (if one is available). So I will show you code to do this.\n"
      ]
    },
    {
      "cell_type": "code",
      "metadata": {
        "id": "X7Cl09mYVmG1",
        "colab_type": "code",
        "colab": {
          "base_uri": "https://localhost:8080/",
          "height": 34
        },
        "outputId": "bd2218ff-248e-44c2-af24-712269a00cff"
      },
      "source": [
        "import torch\n",
        "torch.cuda.is_available() # This will return True if we have  setup a GPU on this Colab runtime or False otherwise"
      ],
      "execution_count": 0,
      "outputs": [
        {
          "output_type": "execute_result",
          "data": {
            "text/plain": [
              "True"
            ]
          },
          "metadata": {
            "tags": []
          },
          "execution_count": 1
        }
      ]
    },
    {
      "cell_type": "markdown",
      "metadata": {
        "id": "cQTE9Y7aV3XS",
        "colab_type": "text"
      },
      "source": [
        "Now let's see how to make some simple tensors. It is very similar to how you create multi-dimensional arrays in numpy:"
      ]
    },
    {
      "cell_type": "code",
      "metadata": {
        "id": "VatKhQn_V6_J",
        "colab_type": "code",
        "colab": {
          "base_uri": "https://localhost:8080/",
          "height": 51
        },
        "outputId": "1141bb14-376d-4cac-d970-0d593ffbb370"
      },
      "source": [
        "x = torch.tensor([[0.,3.0,-3.4],[-2.4,8.0,5.9]]) # A 2x2 tensor of floats\n",
        "x"
      ],
      "execution_count": 0,
      "outputs": [
        {
          "output_type": "execute_result",
          "data": {
            "text/plain": [
              "tensor([[ 0.0000,  3.0000, -3.4000],\n",
              "        [-2.4000,  8.0000,  5.9000]])"
            ]
          },
          "metadata": {
            "tags": []
          },
          "execution_count": 2
        }
      ]
    },
    {
      "cell_type": "code",
      "metadata": {
        "id": "00wdD4PzWOBp",
        "colab_type": "code",
        "colab": {
          "base_uri": "https://localhost:8080/",
          "height": 34
        },
        "outputId": "4578cba2-611d-4700-e2c4-22b79ae031c9"
      },
      "source": [
        "x.shape"
      ],
      "execution_count": 0,
      "outputs": [
        {
          "output_type": "execute_result",
          "data": {
            "text/plain": [
              "torch.Size([2, 3])"
            ]
          },
          "metadata": {
            "tags": []
          },
          "execution_count": 3
        }
      ]
    },
    {
      "cell_type": "code",
      "metadata": {
        "id": "IUo3vjE6WdlA",
        "colab_type": "code",
        "colab": {
          "base_uri": "https://localhost:8080/",
          "height": 34
        },
        "outputId": "257e0e27-8131-44fa-839c-df1fb7b7525c"
      },
      "source": [
        "x.dtype"
      ],
      "execution_count": 0,
      "outputs": [
        {
          "output_type": "execute_result",
          "data": {
            "text/plain": [
              "torch.float32"
            ]
          },
          "metadata": {
            "tags": []
          },
          "execution_count": 4
        }
      ]
    },
    {
      "cell_type": "code",
      "metadata": {
        "id": "dOfNUjByWjWk",
        "colab_type": "code",
        "colab": {
          "base_uri": "https://localhost:8080/",
          "height": 51
        },
        "outputId": "c6912dbf-6e40-46a3-ac8d-a48fd973aad7"
      },
      "source": [
        "torch.zeros(2,2) # a 2x2 tensor with all values set to 0"
      ],
      "execution_count": 0,
      "outputs": [
        {
          "output_type": "execute_result",
          "data": {
            "text/plain": [
              "tensor([[0., 0.],\n",
              "        [0., 0.]])"
            ]
          },
          "metadata": {
            "tags": []
          },
          "execution_count": 5
        }
      ]
    },
    {
      "cell_type": "code",
      "metadata": {
        "id": "Qrfbf8kDWtTt",
        "colab_type": "code",
        "colab": {
          "base_uri": "https://localhost:8080/",
          "height": 34
        },
        "outputId": "471e3191-6139-411c-fd52-a79443d8dfa6"
      },
      "source": [
        "torch.rand(1) # a 1-D tensor (scalar) filled with random values."
      ],
      "execution_count": 0,
      "outputs": [
        {
          "output_type": "execute_result",
          "data": {
            "text/plain": [
              "tensor([0.4093])"
            ]
          },
          "metadata": {
            "tags": []
          },
          "execution_count": 6
        }
      ]
    },
    {
      "cell_type": "markdown",
      "metadata": {
        "id": "R7pInScZXc36",
        "colab_type": "text"
      },
      "source": [
        "You can do all the things with tensors that you can do with numpy, such as the usual arithmetic operations:"
      ]
    },
    {
      "cell_type": "code",
      "metadata": {
        "id": "bszszMvZW2n4",
        "colab_type": "code",
        "colab": {
          "base_uri": "https://localhost:8080/",
          "height": 170
        },
        "outputId": "30f7cfb2-2690-43c0-9ae4-bab34008f15d"
      },
      "source": [
        "x=torch.ones(3,5)\n",
        "y=torch.rand(3,5)\n",
        "print(x)\n",
        "print(y)\n",
        "print(x+y)"
      ],
      "execution_count": 0,
      "outputs": [
        {
          "output_type": "stream",
          "text": [
            "tensor([[1., 1., 1., 1., 1.],\n",
            "        [1., 1., 1., 1., 1.],\n",
            "        [1., 1., 1., 1., 1.]])\n",
            "tensor([[0.3120, 0.4941, 0.5750, 0.4528, 0.3552],\n",
            "        [0.2273, 0.0461, 0.7824, 0.4748, 0.7558],\n",
            "        [0.3404, 0.7870, 0.9506, 0.9632, 0.7586]])\n",
            "tensor([[1.3120, 1.4941, 1.5750, 1.4528, 1.3552],\n",
            "        [1.2273, 1.0461, 1.7824, 1.4748, 1.7558],\n",
            "        [1.3404, 1.7870, 1.9506, 1.9632, 1.7586]])\n"
          ],
          "name": "stdout"
        }
      ]
    },
    {
      "cell_type": "code",
      "metadata": {
        "id": "n05nEqJfXu1K",
        "colab_type": "code",
        "colab": {
          "base_uri": "https://localhost:8080/",
          "height": 68
        },
        "outputId": "5c612b15-05ef-4038-c84b-0cf8a029ba36"
      },
      "source": [
        "y/x"
      ],
      "execution_count": 0,
      "outputs": [
        {
          "output_type": "execute_result",
          "data": {
            "text/plain": [
              "tensor([[0.3120, 0.4941, 0.5750, 0.4528, 0.3552],\n",
              "        [0.2273, 0.0461, 0.7824, 0.4748, 0.7558],\n",
              "        [0.3404, 0.7870, 0.9506, 0.9632, 0.7586]])"
            ]
          },
          "metadata": {
            "tags": []
          },
          "execution_count": 8
        }
      ]
    },
    {
      "cell_type": "markdown",
      "metadata": {
        "id": "ppargG41X5KX",
        "colab_type": "text"
      },
      "source": [
        "And tensors in torch have their own version of Ufuncs and support broadcasting (just like numpy):"
      ]
    },
    {
      "cell_type": "code",
      "metadata": {
        "id": "4PvQMOqDX_eC",
        "colab_type": "code",
        "colab": {
          "base_uri": "https://localhost:8080/",
          "height": 68
        },
        "outputId": "1ecf5c61-06e0-429a-9744-cbd944ef468c"
      },
      "source": [
        "y+1 # will add 1 to every element of y"
      ],
      "execution_count": 0,
      "outputs": [
        {
          "output_type": "execute_result",
          "data": {
            "text/plain": [
              "tensor([[1.3120, 1.4941, 1.5750, 1.4528, 1.3552],\n",
              "        [1.2273, 1.0461, 1.7824, 1.4748, 1.7558],\n",
              "        [1.3404, 1.7870, 1.9506, 1.9632, 1.7586]])"
            ]
          },
          "metadata": {
            "tags": []
          },
          "execution_count": 9
        }
      ]
    },
    {
      "cell_type": "markdown",
      "metadata": {
        "id": "-_DUq-6OYObR",
        "colab_type": "text"
      },
      "source": [
        "Tensors can live in the main memory of the machine (if we are going to work with them on the CPU) or they can live in the graphics cards dedicated memory (if we are going to work with them on the GPU):"
      ]
    },
    {
      "cell_type": "code",
      "metadata": {
        "id": "de6Zyp0oYYV5",
        "colab_type": "code",
        "colab": {
          "base_uri": "https://localhost:8080/",
          "height": 34
        },
        "outputId": "4ef44738-829b-4fe9-e076-766397921008"
      },
      "source": [
        "some_cpu_tensor=torch.rand(5,4)\n",
        "some_cpu_tensor.device"
      ],
      "execution_count": 0,
      "outputs": [
        {
          "output_type": "execute_result",
          "data": {
            "text/plain": [
              "device(type='cpu')"
            ]
          },
          "metadata": {
            "tags": []
          },
          "execution_count": 10
        }
      ]
    },
    {
      "cell_type": "code",
      "metadata": {
        "id": "Zrmj44eNYgXE",
        "colab_type": "code",
        "colab": {
          "base_uri": "https://localhost:8080/",
          "height": 102
        },
        "outputId": "2a5f4670-462a-42c6-f37a-484403d49a0c"
      },
      "source": [
        "some_gpu_tensor=torch.cuda.FloatTensor(5,4).uniform_() # notice the call to do this on the GPU is a bit different\n",
        "some_gpu_tensor"
      ],
      "execution_count": 0,
      "outputs": [
        {
          "output_type": "execute_result",
          "data": {
            "text/plain": [
              "tensor([[0.5044, 0.6095, 0.8013, 0.9982],\n",
              "        [0.5139, 0.2512, 0.8870, 0.2063],\n",
              "        [0.2856, 0.0620, 0.6600, 0.6966],\n",
              "        [0.4058, 0.1237, 0.7958, 0.0478],\n",
              "        [0.3445, 0.3358, 0.9868, 0.9559]], device='cuda:0')"
            ]
          },
          "metadata": {
            "tags": []
          },
          "execution_count": 11
        }
      ]
    },
    {
      "cell_type": "markdown",
      "metadata": {
        "id": "YBZZI1zBZt7N",
        "colab_type": "text"
      },
      "source": [
        "Notice the property `device` indicates `cuda` (i.e., that it lives on the GPU)\n",
        "\n",
        "We can also move a tensor to the GPU or CPU:"
      ]
    },
    {
      "cell_type": "code",
      "metadata": {
        "id": "CkdJHdT-Zx5_",
        "colab_type": "code",
        "colab": {
          "base_uri": "https://localhost:8080/",
          "height": 102
        },
        "outputId": "f45446ea-5d44-4cac-aefc-322ef41b9dd9"
      },
      "source": [
        "some_cpu_tensor.to(\"cuda\") # This will return a tensor that is identical to the one we created earlier, but that lives in the memory on the GPU"
      ],
      "execution_count": 0,
      "outputs": [
        {
          "output_type": "execute_result",
          "data": {
            "text/plain": [
              "tensor([[0.2113, 0.5231, 0.4118, 0.5382],\n",
              "        [0.9442, 0.9952, 0.7134, 0.5808],\n",
              "        [0.1033, 0.4795, 0.7453, 0.0477],\n",
              "        [0.1476, 0.9959, 0.5878, 0.4741],\n",
              "        [0.2353, 0.7484, 0.9957, 0.7354]], device='cuda:0')"
            ]
          },
          "metadata": {
            "tags": []
          },
          "execution_count": 12
        }
      ]
    },
    {
      "cell_type": "code",
      "metadata": {
        "id": "v0vnL9mLZ8Tx",
        "colab_type": "code",
        "colab": {
          "base_uri": "https://localhost:8080/",
          "height": 102
        },
        "outputId": "edf8c01a-a4ae-40c6-e145-179ce9a683c8"
      },
      "source": [
        "some_gpu_tensor.to(\"cpu\") # This will return a tensor that is identical to the one we created earlier, but the lives in the memory on the CPU"
      ],
      "execution_count": 25,
      "outputs": [
        {
          "output_type": "execute_result",
          "data": {
            "text/plain": [
              "tensor([[0.5044, 0.6095, 0.8013, 0.9982],\n",
              "        [0.5139, 0.2512, 0.8870, 0.2063],\n",
              "        [0.2856, 0.0620, 0.6600, 0.6966],\n",
              "        [0.4058, 0.1237, 0.7958, 0.0478],\n",
              "        [0.3445, 0.3358, 0.9868, 0.9559]])"
            ]
          },
          "metadata": {
            "tags": []
          },
          "execution_count": 25
        }
      ]
    },
    {
      "cell_type": "markdown",
      "metadata": {
        "id": "KRJqhnpsaj2p",
        "colab_type": "text"
      },
      "source": [
        "Note that the above calls return copies of the tensor that live in the memory of either the CPU or GPU, but they do not affect the original tensor we created. If we want to work with that copy we have to assign it to a variable. "
      ]
    },
    {
      "cell_type": "code",
      "metadata": {
        "id": "tnjfMg22agRo",
        "colab_type": "code",
        "colab": {
          "base_uri": "https://localhost:8080/",
          "height": 102
        },
        "outputId": "98da2c0e-94dc-4724-f3a5-bfac8951d81e"
      },
      "source": [
        "some_cpu_tensor"
      ],
      "execution_count": 0,
      "outputs": [
        {
          "output_type": "execute_result",
          "data": {
            "text/plain": [
              "tensor([[0.2113, 0.5231, 0.4118, 0.5382],\n",
              "        [0.9442, 0.9952, 0.7134, 0.5808],\n",
              "        [0.1033, 0.4795, 0.7453, 0.0477],\n",
              "        [0.1476, 0.9959, 0.5878, 0.4741],\n",
              "        [0.2353, 0.7484, 0.9957, 0.7354]])"
            ]
          },
          "metadata": {
            "tags": []
          },
          "execution_count": 14
        }
      ]
    },
    {
      "cell_type": "markdown",
      "metadata": {
        "id": "X2gLV568aw_F",
        "colab_type": "text"
      },
      "source": [
        "`some_cpu_tensor` still lives in the CPU."
      ]
    },
    {
      "cell_type": "code",
      "metadata": {
        "id": "Qg2CblYga4dI",
        "colab_type": "code",
        "colab": {
          "base_uri": "https://localhost:8080/",
          "height": 102
        },
        "outputId": "1cfc57b9-9361-4d6d-8f77-a7d34648677c"
      },
      "source": [
        "another_gpu_tensor = some_cpu_tensor.to(\"cuda\")\n",
        "another_gpu_tensor"
      ],
      "execution_count": 0,
      "outputs": [
        {
          "output_type": "execute_result",
          "data": {
            "text/plain": [
              "tensor([[0.2113, 0.5231, 0.4118, 0.5382],\n",
              "        [0.9442, 0.9952, 0.7134, 0.5808],\n",
              "        [0.1033, 0.4795, 0.7453, 0.0477],\n",
              "        [0.1476, 0.9959, 0.5878, 0.4741],\n",
              "        [0.2353, 0.7484, 0.9957, 0.7354]], device='cuda:0')"
            ]
          },
          "metadata": {
            "tags": []
          },
          "execution_count": 15
        }
      ]
    },
    {
      "cell_type": "markdown",
      "metadata": {
        "id": "bnRPmODVbE7x",
        "colab_type": "text"
      },
      "source": [
        "Pytorch tensors support all the usual numpy functions. So you should feel right at home working with them. For that reason, I won't go through all the basic things that you can do with tensors. \n",
        "\n",
        "For example:"
      ]
    },
    {
      "cell_type": "code",
      "metadata": {
        "id": "HxQGhmO2bKwg",
        "colab_type": "code",
        "colab": {
          "base_uri": "https://localhost:8080/",
          "height": 34
        },
        "outputId": "34e60294-fca0-456c-e4e1-7237ccc225cf"
      },
      "source": [
        "some_gpu_tensor.max()"
      ],
      "execution_count": 0,
      "outputs": [
        {
          "output_type": "execute_result",
          "data": {
            "text/plain": [
              "tensor(0.9982, device='cuda:0')"
            ]
          },
          "metadata": {
            "tags": []
          },
          "execution_count": 16
        }
      ]
    },
    {
      "cell_type": "markdown",
      "metadata": {
        "id": "2pJ-0PLZbeqM",
        "colab_type": "text"
      },
      "source": [
        "# Gradients and Autograd"
      ]
    },
    {
      "cell_type": "markdown",
      "metadata": {
        "id": "i6qiwJ3FblST",
        "colab_type": "text"
      },
      "source": [
        "At this point, you might again be wondering why we need pytorch if numpy can do all these things already. But there is one very important thing that pytorch tensors do that is very useful for working with neural networks. They can automatically differentiate -- or in other words, they can calculate gradients (multi-dimensional derivatives) when we combine tensors together with mathematical expressions.  This is exactly what is needed for the \"back propagation\" step of training a neural net.\n",
        "\n",
        "When we create a tensor, we can tell pytorch to enable calculation of  gradients for that tensor by specifying the keyword argument `requires_grad=True`."
      ]
    },
    {
      "cell_type": "code",
      "metadata": {
        "id": "GjDMrlcLc3Nk",
        "colab_type": "code",
        "colab": {
          "base_uri": "https://localhost:8080/",
          "height": 34
        },
        "outputId": "d2a233d7-4eb9-4a82-e008-94567348044a"
      },
      "source": [
        "x=torch.rand(1,requires_grad=True)\n",
        "x"
      ],
      "execution_count": 0,
      "outputs": [
        {
          "output_type": "execute_result",
          "data": {
            "text/plain": [
              "tensor([0.1859], requires_grad=True)"
            ]
          },
          "metadata": {
            "tags": []
          },
          "execution_count": 17
        }
      ]
    },
    {
      "cell_type": "markdown",
      "metadata": {
        "id": "1zZkwwxqg5Uj",
        "colab_type": "text"
      },
      "source": [
        "`requires_grad` is contagious -- any expression that depends on a tensor that requires a gradient will also require a gradient:"
      ]
    },
    {
      "cell_type": "code",
      "metadata": {
        "id": "hNcDzWnAdJLz",
        "colab_type": "code",
        "colab": {
          "base_uri": "https://localhost:8080/",
          "height": 51
        },
        "outputId": "5132b490-e3eb-4f45-92ad-ffb72ab8b527"
      },
      "source": [
        "y=x**2 # remember ** means \"raise to the power\"\n",
        "print(y)\n",
        "print(y.requires_grad)"
      ],
      "execution_count": 0,
      "outputs": [
        {
          "output_type": "stream",
          "text": [
            "tensor([0.0346], grad_fn=<PowBackward0>)\n",
            "True\n"
          ],
          "name": "stdout"
        }
      ]
    },
    {
      "cell_type": "markdown",
      "metadata": {
        "id": "VZEslSz4hDj4",
        "colab_type": "text"
      },
      "source": [
        "Two things to notice:\n",
        "1. `y` has a function associated with it called `grad_fn`. The name of the functions gives a hint at what it is for `PowBackward0`. The `Pow` indicates that it is from a power operation and `Backward` indicates that it is used to propagate the gradient backward. \n",
        "2. Because `y` depends on `x` which requires a gradient, it zlso requires a gradient (contagious)."
      ]
    },
    {
      "cell_type": "markdown",
      "metadata": {
        "id": "4Da3Wd7vhRN0",
        "colab_type": "text"
      },
      "source": [
        "Whenever we have a **scalar tensor** (a tensor that holds only one value, not a vector or multi-dimensional array) that depends on other tensors, we can tell pytorch to calculate the gradient. We do this by calling `y.backward()`. The term backward here refers to back propagation and it is the fundamental way that we train a neural network. By \"train\" I mean, adjust the weights and biases of a NN to minimize the loss function.\n"
      ]
    },
    {
      "cell_type": "code",
      "metadata": {
        "id": "c3L04U_7iMoT",
        "colab_type": "code",
        "colab": {}
      },
      "source": [
        "y.backward() # tell pytorch to calculate the gradients involved in the definition of y"
      ],
      "execution_count": 0,
      "outputs": []
    },
    {
      "cell_type": "code",
      "metadata": {
        "id": "d4jXj4hWdS3t",
        "colab_type": "code",
        "colab": {
          "base_uri": "https://localhost:8080/",
          "height": 51
        },
        "outputId": "97f03bbe-b07c-4097-998c-2ecb5887b00d"
      },
      "source": [
        "print(f'dy/dx = {x.grad}')\n",
        "print(2*x)"
      ],
      "execution_count": 0,
      "outputs": [
        {
          "output_type": "stream",
          "text": [
            "dy/dx = tensor([0.3718])\n",
            "tensor([0.3718], grad_fn=<MulBackward0>)\n"
          ],
          "name": "stdout"
        }
      ]
    },
    {
      "cell_type": "markdown",
      "metadata": {
        "id": "uBbqvULTikDe",
        "colab_type": "text"
      },
      "source": [
        "Notice that pytorch correctly calculated the gradient:  $dy/dx=2x$\n",
        "\n",
        "How this works is that tensorflow takes expressions between tensors and uses them to build a *computational graph* behind the scenes. All operators in this graph are implemented by the **autograd** package. Pytorch can pass data forward through this graph (i.e., start with the input, perform the operations to get the output) and also propagate things backward through this graph by applying the chain rule (remember your calculus?). Autograd is designed in a modular way so that the functions it implements only have to worry about their own role (their own differentiation with respect to inputs and outputs) in the chain rule process.  "
      ]
    },
    {
      "cell_type": "markdown",
      "metadata": {
        "id": "917zUBzHi24w",
        "colab_type": "text"
      },
      "source": [
        "Some important things to note here:\n",
        "- Automatic differentiation is all handled for us in the background by autograd -- we won't actually need to manually look at `.grad`s\n",
        "- By default, the `.grad` values accumulate. This is useful for pytorch do \"do its thing\" when we tell it to backward propagate the loss. But if we wanted to handle some portions of this process manually, we have to remember that gradients will accumulate unless we set them to zero. \n",
        " - We can zero gradients with a call to `INSERT HERE`\n",
        " - we'll actually do this today when we manually implement linear regression.\n",
        "\n",
        "\n",
        " ## How does autograd do it's thing?\n",
        " * At this stage, you ou don't need to know... and you probably don't want to know.\n",
        " - Ok, really want to know? Have a [look at this video](https://youtu.be/MswxJw-8PvE) or [this blog post](https://blog.paperspace.com/pytorch-101-understanding-graphs-and-automatic-differentiation/).\n",
        " - Autograd is a really clever implementation of automatic differentiation. So, naturally it is not trivial to understand.\n"
      ]
    },
    {
      "cell_type": "markdown",
      "metadata": {
        "id": "5XwgehineanS",
        "colab_type": "text"
      },
      "source": [
        "# Getting a scalar and getting a numpy from a tensor"
      ]
    },
    {
      "cell_type": "markdown",
      "metadata": {
        "id": "DMmlgIjael7H",
        "colab_type": "text"
      },
      "source": [
        "There are some circumstances where you might want to get the value of a scalar rather than as a tensor type.  You can do this with the `.item()` method:\n"
      ]
    },
    {
      "cell_type": "code",
      "metadata": {
        "id": "1kx_TfI7exdN",
        "colab_type": "code",
        "colab": {
          "base_uri": "https://localhost:8080/",
          "height": 34
        },
        "outputId": "fcb52b19-f567-4546-8206-53f990721cea"
      },
      "source": [
        "st = torch.tensor([5.2])\n",
        "st.item()"
      ],
      "execution_count": 0,
      "outputs": [
        {
          "output_type": "execute_result",
          "data": {
            "text/plain": [
              "5.199999809265137"
            ]
          },
          "metadata": {
            "tags": []
          },
          "execution_count": 21
        }
      ]
    },
    {
      "cell_type": "markdown",
      "metadata": {
        "id": "bWCSB21GfDEF",
        "colab_type": "text"
      },
      "source": [
        "In some circumstances, we might want to get a tensor as a numpy array.  If we want to do this, we must:\n",
        "-  use the `.detach()` method to get rid of any gradient part of the tensor and keep only the array part\n",
        "- then we can use the `.numpy()` method to get the detached tensor as a numpy array"
      ]
    },
    {
      "cell_type": "code",
      "metadata": {
        "id": "FGQf5qzTfgfH",
        "colab_type": "code",
        "colab": {
          "base_uri": "https://localhost:8080/",
          "height": 68
        },
        "outputId": "d46fa901-ead8-48f4-cfec-2658bb4aa4b3"
      },
      "source": [
        "at = torch.rand(10,requires_grad=True)\n",
        "at.detach().numpy()"
      ],
      "execution_count": 0,
      "outputs": [
        {
          "output_type": "execute_result",
          "data": {
            "text/plain": [
              "array([0.329629  , 0.0693776 , 0.32527   , 0.26580375, 0.6393086 ,\n",
              "       0.4051391 , 0.5667848 , 0.91217935, 0.81547636, 0.5633238 ],\n",
              "      dtype=float32)"
            ]
          },
          "metadata": {
            "tags": []
          },
          "execution_count": 22
        }
      ]
    },
    {
      "cell_type": "markdown",
      "metadata": {
        "id": "uFs0Rp8yKsMh",
        "colab_type": "text"
      },
      "source": [
        "# Linear Regression with Pytorch -- the manual way"
      ]
    },
    {
      "cell_type": "markdown",
      "metadata": {
        "id": "-_CMNQsIugOj",
        "colab_type": "text"
      },
      "source": [
        "Now we will illustrate how pytorch can be used to implement the main training loop in training a neural network: \n",
        "- forward computation to get the result and calculate the loss by comparing the result to the \"right answer\"\n",
        "- backward propagation to adjust the weights to minimize the loss\n",
        "\n",
        "We'll do this through a simple example of linear regression.\n",
        "\n",
        "The data that we'll work with is data on Apple and Orange crop yields from different geographic regions and average data on temperature, rainfall and humidity:"
      ]
    },
    {
      "cell_type": "code",
      "metadata": {
        "id": "fRz42bf1AP2m",
        "colab_type": "code",
        "colab": {
          "base_uri": "https://localhost:8080/",
          "height": 204
        },
        "outputId": "9cb01b95-f406-4082-a911-5ffda551ba71"
      },
      "source": [
        "import pandas as pd\n",
        "crop_file='https://raw.githubusercontent.com/dylanwalker/BA865/master/datasets/crop_yield.csv'\n",
        "crop_df=pd.read_csv(crop_file)\n",
        "crop_df"
      ],
      "execution_count": 27,
      "outputs": [
        {
          "output_type": "execute_result",
          "data": {
            "text/html": [
              "<div>\n",
              "<style scoped>\n",
              "    .dataframe tbody tr th:only-of-type {\n",
              "        vertical-align: middle;\n",
              "    }\n",
              "\n",
              "    .dataframe tbody tr th {\n",
              "        vertical-align: top;\n",
              "    }\n",
              "\n",
              "    .dataframe thead th {\n",
              "        text-align: right;\n",
              "    }\n",
              "</style>\n",
              "<table border=\"1\" class=\"dataframe\">\n",
              "  <thead>\n",
              "    <tr style=\"text-align: right;\">\n",
              "      <th></th>\n",
              "      <th>Region</th>\n",
              "      <th>Temp_F</th>\n",
              "      <th>Rainfall_mm</th>\n",
              "      <th>Humidity_pct</th>\n",
              "      <th>Apples_ton</th>\n",
              "      <th>Oranges_ton</th>\n",
              "    </tr>\n",
              "  </thead>\n",
              "  <tbody>\n",
              "    <tr>\n",
              "      <th>0</th>\n",
              "      <td>Kanto</td>\n",
              "      <td>73</td>\n",
              "      <td>67</td>\n",
              "      <td>43</td>\n",
              "      <td>56</td>\n",
              "      <td>70</td>\n",
              "    </tr>\n",
              "    <tr>\n",
              "      <th>1</th>\n",
              "      <td>Johto</td>\n",
              "      <td>91</td>\n",
              "      <td>88</td>\n",
              "      <td>64</td>\n",
              "      <td>81</td>\n",
              "      <td>101</td>\n",
              "    </tr>\n",
              "    <tr>\n",
              "      <th>2</th>\n",
              "      <td>Hoenn</td>\n",
              "      <td>87</td>\n",
              "      <td>134</td>\n",
              "      <td>58</td>\n",
              "      <td>119</td>\n",
              "      <td>133</td>\n",
              "    </tr>\n",
              "    <tr>\n",
              "      <th>3</th>\n",
              "      <td>Sinnoh</td>\n",
              "      <td>102</td>\n",
              "      <td>43</td>\n",
              "      <td>37</td>\n",
              "      <td>22</td>\n",
              "      <td>37</td>\n",
              "    </tr>\n",
              "    <tr>\n",
              "      <th>4</th>\n",
              "      <td>Unova</td>\n",
              "      <td>69</td>\n",
              "      <td>96</td>\n",
              "      <td>70</td>\n",
              "      <td>103</td>\n",
              "      <td>119</td>\n",
              "    </tr>\n",
              "  </tbody>\n",
              "</table>\n",
              "</div>"
            ],
            "text/plain": [
              "   Region  Temp_F  Rainfall_mm  Humidity_pct  Apples_ton  Oranges_ton\n",
              "0   Kanto      73           67            43          56           70\n",
              "1   Johto      91           88            64          81          101\n",
              "2   Hoenn      87          134            58         119          133\n",
              "3  Sinnoh     102           43            37          22           37\n",
              "4   Unova      69           96            70         103          119"
            ]
          },
          "metadata": {
            "tags": []
          },
          "execution_count": 27
        }
      ]
    },
    {
      "cell_type": "code",
      "metadata": {
        "id": "u_34yutACwH1",
        "colab_type": "code",
        "colab": {
          "base_uri": "https://localhost:8080/",
          "height": 102
        },
        "outputId": "ce372163-8f25-41aa-c780-a9d622ce5c18"
      },
      "source": [
        "inputs=np.array(crop_df.iloc[:,1:4],dtype='float32')\n",
        "inputs=torch.from_numpy(inputs)\n",
        "inputs"
      ],
      "execution_count": 28,
      "outputs": [
        {
          "output_type": "execute_result",
          "data": {
            "text/plain": [
              "tensor([[ 73.,  67.,  43.],\n",
              "        [ 91.,  88.,  64.],\n",
              "        [ 87., 134.,  58.],\n",
              "        [102.,  43.,  37.],\n",
              "        [ 69.,  96.,  70.]])"
            ]
          },
          "metadata": {
            "tags": []
          },
          "execution_count": 28
        }
      ]
    },
    {
      "cell_type": "code",
      "metadata": {
        "id": "rXrhlRtUErqB",
        "colab_type": "code",
        "colab": {
          "base_uri": "https://localhost:8080/",
          "height": 102
        },
        "outputId": "5fb70aff-312c-4f7a-dee9-8a6bd0f937dc"
      },
      "source": [
        "targets=np.array(crop_df.iloc[:,4:],dtype='float32')\n",
        "targets=torch.from_numpy(targets)\n",
        "targets"
      ],
      "execution_count": 29,
      "outputs": [
        {
          "output_type": "execute_result",
          "data": {
            "text/plain": [
              "tensor([[ 56.,  70.],\n",
              "        [ 81., 101.],\n",
              "        [119., 133.],\n",
              "        [ 22.,  37.],\n",
              "        [103., 119.]])"
            ]
          },
          "metadata": {
            "tags": []
          },
          "execution_count": 29
        }
      ]
    },
    {
      "cell_type": "markdown",
      "metadata": {
        "id": "WKa92eiIFTOs",
        "colab_type": "text"
      },
      "source": [
        "We want to make a linear \"neural network\" that relates the inputs to the targets. In other words we want to implement the equation:\n",
        "\n",
        "\n",
        "$$\n",
        "\\hspace{1cm} Y\\hspace{1cm}=\\hspace{1.cm}X \\hspace{2.1cm} \\times \\hspace{1.cm} W^T \\hspace{1.cm}  + \\hspace{1cm} b \\hspace{1cm}\n",
        "$$\n",
        "\n",
        "$$\n",
        "\\left[ \\begin{array}{cc}\n",
        "y_{11} & y_{21} \\\\\n",
        "y_{12} & y_{22} \\\\\n",
        "y_{13} & y_{23} \\\\\n",
        "\\end{array} \\right]\n",
        "%\n",
        "=\n",
        "%\n",
        "\\left[ \\begin{array}{cc}\n",
        "73 & 67 & 43 \\\\\n",
        "91 & 88 & 64 \\\\\n",
        "\\vdots & \\vdots & \\vdots \\\\\n",
        "69 & 96 & 70\n",
        "\\end{array} \\right]\n",
        "%\n",
        "\\times\n",
        "%\n",
        "\\left[ \\begin{array}{cc}\n",
        "w_{11} & w_{21} \\\\\n",
        "w_{12} & w_{22} \\\\\n",
        "w_{13} & w_{23}\n",
        "\\end{array} \\right]\n",
        "%\n",
        "+\n",
        "%\n",
        "\\left[ \\begin{array}{cc}\n",
        "b_{1} & b_{2} \\\\\n",
        "b_{1} & b_{2} \\\\\n",
        "\\vdots & \\vdots \\\\\n",
        "b_{1} & b_{2} \\\\\n",
        "\\end{array} \\right]\n",
        "$$\n",
        "\n",
        "We'll start with some random weights and biases -- this is typically how we \"initialize\" the parameters of a neural network -- set them to some random values to start:"
      ]
    },
    {
      "cell_type": "code",
      "metadata": {
        "id": "7HrHZgWuIBGp",
        "colab_type": "code",
        "colab": {}
      },
      "source": [
        "w = torch.randn(2, 3, requires_grad=True)\n",
        "b = torch.randn(2, requires_grad=True)"
      ],
      "execution_count": 0,
      "outputs": []
    },
    {
      "cell_type": "markdown",
      "metadata": {
        "id": "ReuGkRewIvjl",
        "colab_type": "text"
      },
      "source": [
        "We'll define our model according to the above equation "
      ]
    },
    {
      "cell_type": "code",
      "metadata": {
        "id": "nGSkN6-LFSi9",
        "colab_type": "code",
        "colab": {}
      },
      "source": [
        "# Define the model\n",
        "def model(x):\n",
        "    return x @ w.t() + b  #note that @ is the matrix multiplication operator in numpy or pytorch"
      ],
      "execution_count": 0,
      "outputs": []
    },
    {
      "cell_type": "markdown",
      "metadata": {
        "id": "_E_mX_qkJKPI",
        "colab_type": "text"
      },
      "source": [
        "We took advantage of broadcasting in the above (since we only have two biases). We also took the transpose of the weight matrix with `.t()` (so that the dimensions match to permit a matrix multiplication). \n",
        "\n",
        "Our model is ready to generate predictions -- although, they won't be very good ones yet because we haven't trained it:"
      ]
    },
    {
      "cell_type": "code",
      "metadata": {
        "id": "_MW3JX1HIr5U",
        "colab_type": "code",
        "colab": {
          "base_uri": "https://localhost:8080/",
          "height": 102
        },
        "outputId": "0be00dbb-0f50-4b41-bf99-98aac7179061"
      },
      "source": [
        "# Generate predictions\n",
        "preds = model(inputs)\n",
        "print(preds)"
      ],
      "execution_count": 32,
      "outputs": [
        {
          "output_type": "stream",
          "text": [
            "tensor([[ -98.4060,  -55.5263],\n",
            "        [-133.6129,  -72.0252],\n",
            "        [-163.7156,  -43.6612],\n",
            "        [ -81.5571,  -90.7265],\n",
            "        [-139.6181,  -50.8553]], grad_fn=<AddBackward0>)\n"
          ],
          "name": "stdout"
        }
      ]
    },
    {
      "cell_type": "code",
      "metadata": {
        "id": "xFTn4XsVJp8X",
        "colab_type": "code",
        "colab": {
          "base_uri": "https://localhost:8080/",
          "height": 102
        },
        "outputId": "a10e6904-7692-4256-ebbe-65da9cb8e200"
      },
      "source": [
        "# Compare with targets\n",
        "print(targets)"
      ],
      "execution_count": 33,
      "outputs": [
        {
          "output_type": "stream",
          "text": [
            "tensor([[ 56.,  70.],\n",
            "        [ 81., 101.],\n",
            "        [119., 133.],\n",
            "        [ 22.,  37.],\n",
            "        [103., 119.]])\n"
          ],
          "name": "stdout"
        }
      ]
    },
    {
      "cell_type": "markdown",
      "metadata": {
        "id": "_gf19qVaJxC-",
        "colab_type": "text"
      },
      "source": [
        "The next step is to define a loss function, that describes how (poorly) our predictions match the targets. We'll use the mean squared error, since we are implementing linear regression. Different circumstances would require a potentially different loss function."
      ]
    },
    {
      "cell_type": "code",
      "metadata": {
        "id": "JTiBBjxiKEZW",
        "colab_type": "code",
        "colab": {}
      },
      "source": [
        "# MSE loss\n",
        "def mse(t1, t2):\n",
        "    diff = t1 - t2\n",
        "    return torch.sum(diff * diff) / diff.numel()"
      ],
      "execution_count": 0,
      "outputs": []
    },
    {
      "cell_type": "code",
      "metadata": {
        "id": "Eo-8lLvdKMoJ",
        "colab_type": "code",
        "colab": {
          "base_uri": "https://localhost:8080/",
          "height": 34
        },
        "outputId": "6035e68e-85e9-4153-cc31-0c7f8276a813"
      },
      "source": [
        "# Compute loss\n",
        "loss = mse(preds, targets)\n",
        "print(loss)"
      ],
      "execution_count": 35,
      "outputs": [
        {
          "output_type": "stream",
          "text": [
            "tensor(34148.4258, grad_fn=<DivBackward0>)\n"
          ],
          "name": "stdout"
        }
      ]
    },
    {
      "cell_type": "markdown",
      "metadata": {
        "id": "9E_EvUXGKihT",
        "colab_type": "text"
      },
      "source": [
        "We can now calculate the gradients of the loss with respect to the weights and biases:"
      ]
    },
    {
      "cell_type": "code",
      "metadata": {
        "id": "x2vNLsITKbOh",
        "colab_type": "code",
        "colab": {}
      },
      "source": [
        "# Compute gradients\n",
        "loss.backward()"
      ],
      "execution_count": 0,
      "outputs": []
    },
    {
      "cell_type": "code",
      "metadata": {
        "id": "D9dwjKznKdhJ",
        "colab_type": "code",
        "colab": {
          "base_uri": "https://localhost:8080/",
          "height": 85
        },
        "outputId": "e7f07121-6a2a-48e3-85b4-871d94c551c0"
      },
      "source": [
        "# Gradients for weights\n",
        "print(w)\n",
        "print(w.grad)"
      ],
      "execution_count": 37,
      "outputs": [
        {
          "output_type": "stream",
          "text": [
            "tensor([[-0.2059, -0.7678, -0.7322],\n",
            "        [-0.9186,  0.4750, -0.4733]], requires_grad=True)\n",
            "tensor([[-16540.2285, -18971.8633, -11517.4141],\n",
            "        [-13005.2715, -13821.4863,  -8666.6699]])\n"
          ],
          "name": "stdout"
        }
      ]
    },
    {
      "cell_type": "code",
      "metadata": {
        "id": "J53qPdf6Kg5j",
        "colab_type": "code",
        "colab": {
          "base_uri": "https://localhost:8080/",
          "height": 51
        },
        "outputId": "1b3cf8b8-96fa-42f3-9e41-eebd4ea9ec68"
      },
      "source": [
        "# Gradients for bias\n",
        "print(b)\n",
        "print(b.grad)"
      ],
      "execution_count": 38,
      "outputs": [
        {
          "output_type": "stream",
          "text": [
            "tensor([-0.4453,  0.0589], requires_grad=True)\n",
            "tensor([-199.5819, -154.5589])\n"
          ],
          "name": "stdout"
        }
      ]
    },
    {
      "cell_type": "markdown",
      "metadata": {
        "id": "ZdfLohkMK8Rp",
        "colab_type": "text"
      },
      "source": [
        "We know about derivatives and optimization from calculus:\n",
        "![](https://drive.google.com/uc?id=1ywzITKPARYGqM8eS_ha7OFbD4g0wF7fg)\n",
        "\n",
        "if the gradient is positive: \n",
        "- increasing the variable will increase the loss \n",
        "- decreasing the variable will decrease the loss \n",
        "\n",
        "If the gradient is negative:\n",
        "- increasing the variable will decrease the loss \n",
        "- decreasing the variable will increase the loss \n",
        "\n",
        "\n",
        "For now, we'll zero the gradients that for our `w` and `b` tensors, as we'll want to start the training process with no gradients accumulated:\n"
      ]
    },
    {
      "cell_type": "code",
      "metadata": {
        "id": "GVsvwqIqOw25",
        "colab_type": "code",
        "colab": {
          "base_uri": "https://localhost:8080/",
          "height": 34
        },
        "outputId": "37a7e0b5-09eb-4687-c0b6-12fad7e946c0"
      },
      "source": [
        "w.grad.zero_()\n",
        "b.grad.zero_()"
      ],
      "execution_count": 39,
      "outputs": [
        {
          "output_type": "execute_result",
          "data": {
            "text/plain": [
              "tensor([0., 0.])"
            ]
          },
          "metadata": {
            "tags": []
          },
          "execution_count": 39
        }
      ]
    },
    {
      "cell_type": "markdown",
      "metadata": {
        "id": "GhvTMBU5OlM5",
        "colab_type": "text"
      },
      "source": [
        "We'll use gradient descent as the rule for adjusting our weights and biases:\n",
        "```\n",
        "w -= w.grad * 1e-5\n",
        "b -= b.grad * 1e-5\n",
        "```\n",
        "This is in accordance with the intuition we developed above. We chose to multiply the gradient by a small number (which adjusts how big of a step we take). This is called the \"learning rate\".\n",
        "\n",
        "Now we are ready to implement our training loop. We will pass over our data several times to keep adjusting the weights and biases.  Each pass is called an *epoch*:"
      ]
    },
    {
      "cell_type": "code",
      "metadata": {
        "id": "LzEPmrksQfo1",
        "colab_type": "code",
        "colab": {}
      },
      "source": [
        "# Train for 100 epochs\n",
        "losses=[]\n",
        "num_epochs = 100\n",
        "for epoch in range(num_epochs):\n",
        "    preds = model(inputs)\n",
        "    loss = mse(preds, targets)\n",
        "    loss.backward()\n",
        "    losses.append(loss.item())\n",
        "    with torch.no_grad(): # this ensures that gradients won't be affected in the codeblock -- we already have the values of the gradient from the loss.backward() call\n",
        "        w -= w.grad * 1e-5 \n",
        "        b -= b.grad * 1e-5\n",
        "        w.grad.zero_() # zero the weight gradient after we adjusted the weight\n",
        "        b.grad.zero_() # zero the bias gradient after we adjusted the bias"
      ],
      "execution_count": 0,
      "outputs": []
    },
    {
      "cell_type": "markdown",
      "metadata": {
        "id": "mBOO9dXVRBL1",
        "colab_type": "text"
      },
      "source": [
        "Ok, let's see how we did:"
      ]
    },
    {
      "cell_type": "code",
      "metadata": {
        "id": "VF7Q0TMzR0Mv",
        "colab_type": "code",
        "colab": {
          "base_uri": "https://localhost:8080/",
          "height": 265
        },
        "outputId": "c1581f8e-3b54-475c-f645-3f1f8cbb1e2b"
      },
      "source": [
        "import matplotlib.pyplot as plt\n",
        "plt.plot(losses);"
      ],
      "execution_count": 41,
      "outputs": [
        {
          "output_type": "display_data",
          "data": {
            "image/png": "[encoded data removed]",
            "text/plain": [
              "<Figure size 432x288 with 1 Axes>"
            ]
          },
          "metadata": {
            "tags": []
          }
        }
      ]
    },
    {
      "cell_type": "code",
      "metadata": {
        "id": "XOCeTpgPRFrf",
        "colab_type": "code",
        "colab": {
          "base_uri": "https://localhost:8080/",
          "height": 34
        },
        "outputId": "c2f36ae5-d047-4dd7-9ede-3eea28bf45e9"
      },
      "source": [
        "# Calculate loss\n",
        "preds = model(inputs)\n",
        "loss = mse(preds, targets)\n",
        "print(loss)"
      ],
      "execution_count": 42,
      "outputs": [
        {
          "output_type": "stream",
          "text": [
            "tensor(216.2005, grad_fn=<DivBackward0>)\n"
          ],
          "name": "stdout"
        }
      ]
    },
    {
      "cell_type": "code",
      "metadata": {
        "id": "Ym4QgGaqRIgt",
        "colab_type": "code",
        "colab": {
          "base_uri": "https://localhost:8080/",
          "height": 279
        },
        "outputId": "96862c65-d887-473c-a0e1-92f131e3f499"
      },
      "source": [
        "# Plot predictions vs targets\n",
        "#  In order to get from tensors to numpy arrays that we can plot, we'll have to:\n",
        "#     - call detach() to return a copy with just the data and not the gradient\n",
        "#     - call numpy() to return a numpy array, since matplotlib doesn't know how to plot tensors\n",
        "plt.plot(targets.detach().numpy(),preds.detach().numpy(),'.');\n",
        "plt.xlabel('targets');\n",
        "plt.ylabel('predictions');"
      ],
      "execution_count": 43,
      "outputs": [
        {
          "output_type": "display_data",
          "data": {
            "image/png": "[encoded data removed]",
            "text/plain": [
              "<Figure size 432x288 with 1 Axes>"
            ]
          },
          "metadata": {
            "tags": []
          }
        }
      ]
    },
    {
      "cell_type": "markdown",
      "metadata": {
        "id": "hi01cs9zRXBd",
        "colab_type": "text"
      },
      "source": [
        "Not too shabby.\n",
        "\n",
        "Now we've seen how to implement the main training loop in pytorch. But we did almost everything else manually.\n",
        "\n",
        "Let's see what it would look like if we did the same thing but now using pytorch's built-in features."
      ]
    },
    {
      "cell_type": "markdown",
      "metadata": {
        "id": "1nk0vJF0y4ZY",
        "colab_type": "text"
      },
      "source": [
        "# Linear Regression with Pytorch -- the right way"
      ]
    },
    {
      "cell_type": "markdown",
      "metadata": {
        "id": "nknfhNYtUCG2",
        "colab_type": "text"
      },
      "source": [
        "Instead of doing everything ourselves, we are going to take advantage of the many tools and methods that pytorch has built into it. This includes:\n",
        "- Dataset and Dataloader objects\n",
        "- Neural network layers\n",
        "- Optimizers\n",
        "- Various predefined loss functions"
      ]
    },
    {
      "cell_type": "markdown",
      "metadata": {
        "id": "4Zqre0MLWEap",
        "colab_type": "text"
      },
      "source": [
        "## Dataset and DataLoader"
      ]
    },
    {
      "cell_type": "markdown",
      "metadata": {
        "id": "NfFefAbOWHSo",
        "colab_type": "text"
      },
      "source": [
        "First we need to import some stuff (we don't *have* to import these into our namespace, since they can be accessed from `torch.`, but it makes the calls shorter):"
      ]
    },
    {
      "cell_type": "code",
      "metadata": {
        "id": "xJA6n90TWH3O",
        "colab_type": "code",
        "colab": {}
      },
      "source": [
        "# Import tensor dataset & data loader\n",
        "from torch.utils.data import TensorDataset, DataLoader"
      ],
      "execution_count": 0,
      "outputs": []
    },
    {
      "cell_type": "markdown",
      "metadata": {
        "id": "_CW7yeqNWhTY",
        "colab_type": "text"
      },
      "source": [
        "We can use the `TensorDataset` class to handle our data. One of the things this does is it lets us grab a row from the inputs and target as a tuple: "
      ]
    },
    {
      "cell_type": "code",
      "metadata": {
        "id": "NMRJxTZLW3BJ",
        "colab_type": "code",
        "colab": {}
      },
      "source": [
        "# Define dataset\n",
        "train_ds = TensorDataset(inputs, targets)"
      ],
      "execution_count": 0,
      "outputs": []
    },
    {
      "cell_type": "code",
      "metadata": {
        "id": "HNmU0LAPWLtV",
        "colab_type": "code",
        "colab": {
          "base_uri": "https://localhost:8080/",
          "height": 102
        },
        "outputId": "a78a0f83-66e8-4dbf-e5fe-57364dfb6dfc"
      },
      "source": [
        "# Now we can get rows:\n",
        "train_ds[0:3]"
      ],
      "execution_count": 46,
      "outputs": [
        {
          "output_type": "execute_result",
          "data": {
            "text/plain": [
              "(tensor([[ 73.,  67.,  43.],\n",
              "         [ 91.,  88.,  64.],\n",
              "         [ 87., 134.,  58.]]), tensor([[ 56.,  70.],\n",
              "         [ 81., 101.],\n",
              "         [119., 133.]]))"
            ]
          },
          "metadata": {
            "tags": []
          },
          "execution_count": 46
        }
      ]
    },
    {
      "cell_type": "markdown",
      "metadata": {
        "id": "qsw5-aawXGiJ",
        "colab_type": "text"
      },
      "source": [
        "Next, we will use pytorch's `DataLoader` which allows can split the data into batches when we train (and even shuffle or resample, if we want). This is useful because in many cases datasets are too big to process completely. Shuffling data when training is almost always a good idea and resampling is useful if our data is imbalanced in some way.\n",
        "\n",
        "We'll define the `batch_size` when create the DataLoader. This is just the number of rows of the data that we will train over in a single epoch."
      ]
    },
    {
      "cell_type": "code",
      "metadata": {
        "id": "hl6gBLaVWN-P",
        "colab_type": "code",
        "colab": {}
      },
      "source": [
        "# Define data loader\n",
        "batch_size = 5\n",
        "train_dl = DataLoader(train_ds, batch_size, shuffle=True)"
      ],
      "execution_count": 0,
      "outputs": []
    },
    {
      "cell_type": "code",
      "metadata": {
        "id": "cGbdQNlvX8gC",
        "colab_type": "code",
        "colab": {
          "base_uri": "https://localhost:8080/",
          "height": 170
        },
        "outputId": "69473ecf-e13b-47be-c915-79af33cf2721"
      },
      "source": [
        "next(iter(train_dl)) # this will return 5 (batch_size) rows of inputs and targets after shuffling. \n",
        "# iter() defines an iterator and next() tells python to get the next iteration from it."
      ],
      "execution_count": 48,
      "outputs": [
        {
          "output_type": "execute_result",
          "data": {
            "text/plain": [
              "[tensor([[ 87., 134.,  58.],\n",
              "         [ 91.,  88.,  64.],\n",
              "         [ 69.,  96.,  70.],\n",
              "         [102.,  43.,  37.],\n",
              "         [ 73.,  67.,  43.]]), tensor([[119., 133.],\n",
              "         [ 81., 101.],\n",
              "         [103., 119.],\n",
              "         [ 22.,  37.],\n",
              "         [ 56.,  70.]])]"
            ]
          },
          "metadata": {
            "tags": []
          },
          "execution_count": 48
        }
      ]
    },
    {
      "cell_type": "markdown",
      "metadata": {
        "id": "v0lA3GhgYiMR",
        "colab_type": "text"
      },
      "source": [
        "## Use a predefined linear layer -- nn.Linear()"
      ]
    },
    {
      "cell_type": "markdown",
      "metadata": {
        "id": "gEiFF2UVYnQK",
        "colab_type": "text"
      },
      "source": [
        "Instead of:\n",
        "- defining weights and biases tensors manually\n",
        "- defining the linear function that uses weights nad biases to relate input to ouput via a matrix multiplication\n",
        "- initializing weights and biases to random values\n",
        "\n",
        "We can just use a layer that already does all that: ``torch.nn.Linear()``"
      ]
    },
    {
      "cell_type": "code",
      "metadata": {
        "id": "LreLLFFlZIcT",
        "colab_type": "code",
        "colab": {}
      },
      "source": [
        "model = torch.nn.Linear(3,2)"
      ],
      "execution_count": 0,
      "outputs": []
    },
    {
      "cell_type": "markdown",
      "metadata": {
        "id": "Qtwyb54EZN6h",
        "colab_type": "text"
      },
      "source": [
        "## Optimizer"
      ]
    },
    {
      "cell_type": "markdown",
      "metadata": {
        "id": "Hy4jIfIAZPMH",
        "colab_type": "text"
      },
      "source": [
        "Instead of manually implementing Gradient Descent to adjust weights and biases according to the gradient and some learning rate, we can use one of Pytorch's built-in optimizers.\n",
        "\n",
        "Here we won't use Gradient Descent (GD), but Stochastic Gradient Descent (SGD). The difference is that in SGD, you adjust your weights and biases not after one complete pass over all the training data, but after a batch. It's stochastic because the data loader shuffles the data and so the batches seen will change from run to run (or epoch to epoch).  "
      ]
    },
    {
      "cell_type": "code",
      "metadata": {
        "id": "P4T-EMI_b8aL",
        "colab_type": "code",
        "colab": {}
      },
      "source": [
        "# Define optimizer\n",
        "opt = torch.optim.SGD(model.parameters(), lr=1e-5) # lr is the learning rate"
      ],
      "execution_count": 0,
      "outputs": []
    },
    {
      "cell_type": "markdown",
      "metadata": {
        "id": "791rE2g2cGTY",
        "colab_type": "text"
      },
      "source": [
        "## Loss function"
      ]
    },
    {
      "cell_type": "markdown",
      "metadata": {
        "id": "tnB9aKvOcIQc",
        "colab_type": "text"
      },
      "source": [
        "Instead of using our manually defined `mse()` function, we'll use a predefined one."
      ]
    },
    {
      "cell_type": "code",
      "metadata": {
        "id": "3HjB8d5ScQJy",
        "colab_type": "code",
        "colab": {}
      },
      "source": [
        "loss_fn = torch.nn.functional.mse_loss"
      ],
      "execution_count": 0,
      "outputs": []
    },
    {
      "cell_type": "markdown",
      "metadata": {
        "id": "j0k9v371cZit",
        "colab_type": "text"
      },
      "source": [
        "So, for example, we could compute the loss:"
      ]
    },
    {
      "cell_type": "code",
      "metadata": {
        "id": "_974eJtDccfU",
        "colab_type": "code",
        "colab": {
          "base_uri": "https://localhost:8080/",
          "height": 34
        },
        "outputId": "09bf0b49-60ec-4cca-a563-3fe9f20ea381"
      },
      "source": [
        "loss = loss_fn(model(inputs),targets)\n",
        "print(loss)"
      ],
      "execution_count": 52,
      "outputs": [
        {
          "output_type": "stream",
          "text": [
            "tensor(8434.4795, grad_fn=<MseLossBackward>)\n"
          ],
          "name": "stdout"
        }
      ]
    },
    {
      "cell_type": "markdown",
      "metadata": {
        "id": "rqQ-aNX1cxPW",
        "colab_type": "text"
      },
      "source": [
        "## Define a fit function"
      ]
    },
    {
      "cell_type": "markdown",
      "metadata": {
        "id": "EZKNEVrkc0ZE",
        "colab_type": "text"
      },
      "source": [
        "Finally we will define a function to fit our model by putting all of the above pieces together:"
      ]
    },
    {
      "cell_type": "code",
      "metadata": {
        "id": "gPWSHhMyc9x3",
        "colab_type": "code",
        "colab": {}
      },
      "source": [
        "# Define a utility function to train the model\n",
        "def fit(num_epochs, model, loss_fn, opt):\n",
        "    for epoch in range(num_epochs):\n",
        "        for xb,yb in train_dl: # sample on batch of inputs,targets\n",
        "            # Generate predictions and calculate loss\n",
        "            pred = model(xb)\n",
        "            loss = loss_fn(pred, yb)\n",
        "            # Perform gradient descent\n",
        "            loss.backward()\n",
        "            opt.step() # this tells the optimizer to take one step -- it already knows about model parameters and the learning rate as we passed them when we create opt\n",
        "            opt.zero_grad() # tell the optimizer to zero the gradient so we start fresh on the next batch\n",
        "    print('Training loss: ', loss_fn(model(inputs), targets))"
      ],
      "execution_count": 0,
      "outputs": []
    },
    {
      "cell_type": "markdown",
      "metadata": {
        "id": "qNi-2x64diFW",
        "colab_type": "text"
      },
      "source": [
        "## Fit the model"
      ]
    },
    {
      "cell_type": "markdown",
      "metadata": {
        "id": "xLYzKPtOdkm4",
        "colab_type": "text"
      },
      "source": [
        "Now we can train the model by running our fit function:"
      ]
    },
    {
      "cell_type": "code",
      "metadata": {
        "id": "vBs31d7ndjrB",
        "colab_type": "code",
        "colab": {
          "base_uri": "https://localhost:8080/",
          "height": 34
        },
        "outputId": "d3f7de14-8daa-4b42-f638-e65bf30d83e2"
      },
      "source": [
        "# Train the model for 100 epochs\n",
        "fit(100, model, loss_fn, opt)"
      ],
      "execution_count": 54,
      "outputs": [
        {
          "output_type": "stream",
          "text": [
            "Training loss:  tensor(53.0385, grad_fn=<MseLossBackward>)\n"
          ],
          "name": "stdout"
        }
      ]
    },
    {
      "cell_type": "code",
      "metadata": {
        "id": "n8n3WMSMdt4Z",
        "colab_type": "code",
        "colab": {
          "base_uri": "https://localhost:8080/",
          "height": 279
        },
        "outputId": "dc23f825-5609-4ab2-ab80-e0454a0a27bf"
      },
      "source": [
        "# Get the predictions\n",
        "preds=model(inputs)\n",
        "\n",
        "# Plot predictions vs targets\n",
        "plt.plot(targets.detach().numpy(),preds.detach().numpy(),'.');\n",
        "plt.xlabel('targets');\n",
        "plt.ylabel('predictions');"
      ],
      "execution_count": 55,
      "outputs": [
        {
          "output_type": "display_data",
          "data": {
            "image/png": "[encoded data removed]",
            "text/plain": [
              "<Figure size 432x288 with 1 Axes>"
            ]
          },
          "metadata": {
            "tags": []
          }
        }
      ]
    },
    {
      "cell_type": "markdown",
      "metadata": {
        "id": "WU1XnCWSg2Er",
        "colab_type": "text"
      },
      "source": [
        "One important thing that we DID NOT DO in the above two examples is that we didn't split the data into training and test sets.  We could have accomplished this using:\n",
        "```\n",
        "train_ds,test_ds = torch.utils.data.random_split(full_ds,[len_train, len_test])\n",
        "```\n",
        "\n",
        "But we didn't do this because this was just for illustration purposes and the dataset we are using is pretty small."
      ]
    }
  ]
}