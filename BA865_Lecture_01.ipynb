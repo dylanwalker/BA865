{
  "nbformat": 4,
  "nbformat_minor": 0,
  "metadata": {
    "colab": {
      "name": "BA865 - Lecture 01.ipynb",
      "provenance": [],
      "collapsed_sections": [
        "7vYvRcn847XU",
        "qQEQ83MNDHIu",
        "fE3OZThvxH6L",
        "4Kce9dMJECyW",
        "l6-sqZKYDomU",
        "OZE1e3jJInb6",
        "7cXeQQYkJrgk",
        "czxABMOLK1y2",
        "4HPTe28PMieo",
        "fK47ccqdNqDj",
        "ppiSLNIDO3CQ",
        "W0cvmK2Dymuv",
        "EX9cCMUj_mGV",
        "kCpoD2dfALmR",
        "CnA_iNnnKOd1",
        "076A3qP2-NKl",
        "27L1-8wubY20"
      ],
      "include_colab_link": true
    },
    "kernelspec": {
      "name": "python3",
      "display_name": "Python 3"
    }
  },
  "cells": [
    {
      "cell_type": "markdown",
      "metadata": {
        "id": "view-in-github",
        "colab_type": "text"
      },
      "source": [
        "<a href=\"https://colab.research.google.com/github/dylanwalker/BA865/blob/master/BA865_Lecture_01.ipynb\" target=\"_parent\"><img src=\"https://colab.research.google.com/assets/colab-badge.svg\" alt=\"Open In Colab\"/></a>"
      ]
    },
    {
      "cell_type": "markdown",
      "metadata": {
        "id": "7vYvRcn847XU",
        "colab_type": "text"
      },
      "source": [
        "# Python Basics\n",
        "\n",
        "Q: What is Python?\n",
        "\n",
        "A: A programming language. Ok, end of lecture\n",
        "\n",
        "Q: How do I Python?\n",
        "\n",
        "A: There are a few different ways you can run Python code:\n",
        "\n",
        "\n",
        "1.   Open an interactive python shell at your command line and type in statements line by line.\n",
        "\n",
        "2.   Use an Integrated Development Environment (IDE) such as PyCharm or Eclipse (w/ PyDev plugin).  This allows you to edit the text of your code and even highlight and run statements line by line.\n",
        "![pycharm IDE](https://drive.google.com/uc?id=1md5HB7MIUZKjZzqhWQ5-Qh7b_TnUqBbb)\n",
        "3.  Edit your python code in a text file (python code files should always have the extension .py) in a (hopefully very good) text editor and then execute that file from the command line. \n",
        "![text editor](https://drive.google.com/uc?id=1bhGTz1RXtIIDRify6KD_5hBYHB2u1964)\n",
        "\n",
        "4.   Use a Jupyter Notebook. This allows you to interleave \"cells\" of regular text and images (in markdown format) with \"cells\" of python code. To do this, you have to have Jupyter installed on a machine. The actual notebook interface is \"served up\" by that local machine as a web service that you can access through a web browser. If you click the play button next to a \"cell\" of code, it will instruct the server machine to execute that line of code in a shell that is awaiting input and then send the output back to the browser.  Google provides a Jupyter notebook environment that is connected to Google's cloud computing service that you can use for free (with some limitations) through colab.research.google.com. This is what you are using to look at this lecture now. \n",
        "\n",
        "\n",
        "# Python Language\n",
        "Python is a little different from most of the programming language that you may \n",
        "have some experience with. \n",
        "\n",
        "Here are some things about Python:\n",
        "\n",
        "\n",
        "* In Python, whitespace matters. The indent level (tab) is used to indicate entering a new block of code, such as in a loop or if statement. There are no semicolons to end lines.\n",
        "![](https://drive.google.com/uc?id=1UhbV34Q40SPESQgMHW6uByPj_JKPGDTK)\n",
        "\n",
        "* Everything in python is an object (as in the class or object-oriented sense -- we'll talk more about what this means later).\n",
        "\n",
        "* We use the equal sign to assign a value or object to a variable. We don't have to declare a variable or its type before we do this (as in more formal languages such as C).\n",
        "\n",
        "* Python is also loosely typed. This means that the type of a variable is never specified (and in fact can change throughout the course of a program).\n",
        "\n",
        "* Python is typically **interpreted** rather than compiled (though there are implementations that compile). This means that programs are typically executed line by line.\n",
        "\n",
        "* You can use a hash symbol (#) to add comments in code. Python will treat everything on the same line after the hash symbol as a comment.\n",
        "\n",
        "\n",
        "\n",
        "\n"
      ]
    },
    {
      "cell_type": "markdown",
      "metadata": {
        "id": "3d61Ev598Ky-",
        "colab_type": "text"
      },
      "source": [
        "Let's start with some basics.\n",
        "\n",
        "Note:  The code cells below are intended to be executed in order. If you execute them out of order, some cells may rely upon variables that were only defined in prior cells. They will throw an error.  You should experiment with each cell to ensure that you understand what's happening and see how things change when you update and rerun the code in the cell."
      ]
    },
    {
      "cell_type": "code",
      "metadata": {
        "id": "chvEge084zKp",
        "colab_type": "code",
        "outputId": "52683943-633a-4d66-d64b-89bc5b2fc8a4",
        "colab": {
          "base_uri": "https://localhost:8080/",
          "height": 34
        }
      },
      "source": [
        "# This is a comment line\n",
        "print(\"Hello world.\") # try running this statement by clicking the play button next to this cell of code.\n",
        "\n",
        "# You can also edit this code and re-run it. Try this now. Make this block print your name instead of hello world and run it."
      ],
      "execution_count": 0,
      "outputs": [
        {
          "output_type": "stream",
          "text": [
            "Hello world.\n"
          ],
          "name": "stdout"
        }
      ]
    },
    {
      "cell_type": "markdown",
      "metadata": {
        "id": "lBsQYbUd8S5Q",
        "colab_type": "text"
      },
      "source": [
        "Each line of Python code (often referred to as a **statement**) tells the interpreter what to do.\n",
        "This could be:"
      ]
    },
    {
      "cell_type": "code",
      "metadata": {
        "id": "t0CZRA659prF",
        "colab_type": "code",
        "colab": {}
      },
      "source": [
        "# Output something\n",
        "print(\"Hello world.\")"
      ],
      "execution_count": 0,
      "outputs": []
    },
    {
      "cell_type": "code",
      "metadata": {
        "id": "prsQdmya-g9Q",
        "colab_type": "code",
        "colab": {}
      },
      "source": [
        "# Define a new variable and assign it a value or object:\n",
        "x=2\n",
        "print(x)"
      ],
      "execution_count": 0,
      "outputs": []
    },
    {
      "cell_type": "code",
      "metadata": {
        "id": "Fn5cBe5f-gsV",
        "colab_type": "code",
        "colab": {}
      },
      "source": [
        "# Set the value (right hand side) of an existing variable or object (left hand side) to something:\n",
        "y=1\n",
        "x=y+2\n",
        "print(x)"
      ],
      "execution_count": 0,
      "outputs": []
    },
    {
      "cell_type": "code",
      "metadata": {
        "id": "rWekr359-gYX",
        "colab_type": "code",
        "colab": {}
      },
      "source": [
        "# Enter or pass over a sub-block of code based on a condition:\n",
        "if x>2:\n",
        "  print(\"x is greater than 2\") # this line will only be executed if the condition (x>2) evaluates to True. Also notice the indent level.\n",
        "\n",
        "# Try changing the condition so that it will evaluate to False and re-run it."
      ],
      "execution_count": 0,
      "outputs": []
    },
    {
      "cell_type": "markdown",
      "metadata": {
        "id": "1AMX-sR9-5nj",
        "colab_type": "text"
      },
      "source": [
        "Every object in Python has a **type** that determines what kind of things the object can \"do\".  There are a whole bunch of types, but they come in two varieties:\n",
        "1.  Scalar Types - these are the atoms of Python in the sense that they have no internal structure (sorry high energy physics!).  There are only four scalar types:\n",
        " - int\n",
        " - float\n",
        " - bool\n",
        " - None  \n",
        "2.  Non-scalar Types  - these typically have some substructure and are more \"sophisticated\".\n",
        " - Most things are non-scalar types and there are many of these. You can even create your own types (more on this when we talk about Classes and Objects)\n",
        "\n",
        "You can check the type of an object with the type() function:\n"
      ]
    },
    {
      "cell_type": "code",
      "metadata": {
        "id": "xtsUK_-PBIN3",
        "colab_type": "code",
        "outputId": "40e59dff-ec74-4b07-d221-69e6f1acd001",
        "colab": {
          "base_uri": "https://localhost:8080/",
          "height": 34
        }
      },
      "source": [
        "type(x)\n",
        "\n",
        "# Now try defining some other variable and checking the type here."
      ],
      "execution_count": 0,
      "outputs": [
        {
          "output_type": "execute_result",
          "data": {
            "text/plain": [
              "str"
            ]
          },
          "metadata": {
            "tags": []
          },
          "execution_count": 4
        }
      ]
    },
    {
      "cell_type": "markdown",
      "metadata": {
        "id": "Yle1Fx2DA-Gj",
        "colab_type": "text"
      },
      "source": [
        "Python also has **operators** which are things that operate on objects\n",
        " - e.g., + , - , * , / , % , ** , == , != , > , < , <= , <= , etc.\n",
        " - You can even create your own operators, but we won't need to do this.\n",
        "\n",
        "We can combine **objects** and **operators** to form **expressions**"
      ]
    },
    {
      "cell_type": "code",
      "metadata": {
        "id": "dFNuOR67Ap5j",
        "colab_type": "code",
        "outputId": "bb02b1cd-fa89-4e68-950c-b7a48532bd13",
        "colab": {
          "base_uri": "https://localhost:8080/",
          "height": 34
        }
      },
      "source": [
        "x=\"hello\"\n",
        "y=\" world.\"\n",
        "x+y # this is an expression that will evaluate to an object, in this case a string with value \"Hello world.\""
      ],
      "execution_count": 0,
      "outputs": [
        {
          "output_type": "execute_result",
          "data": {
            "text/plain": [
              "'hello world.'"
            ]
          },
          "metadata": {
            "tags": []
          },
          "execution_count": 3
        }
      ]
    },
    {
      "cell_type": "markdown",
      "metadata": {
        "id": "ti9XRd5HBYps",
        "colab_type": "text"
      },
      "source": [
        "Statements are built out of expressions. Variables are a convenient way to assign a name to an object.\n",
        "\n",
        "An assignment statement associates a name (on the left hand side) with the object on the right hand side.\n",
        "\n",
        "A variable is just a name that is \"bound\" to an object\n",
        "![](https://drive.google.com/uc?id=1XMLHYigPWGTiRQd98bVZfhu2te5m5bXQ)"
      ]
    },
    {
      "cell_type": "markdown",
      "metadata": {
        "id": "H9ZS1HCSCzNm",
        "colab_type": "text"
      },
      "source": [
        "Now let's try playing around."
      ]
    },
    {
      "cell_type": "markdown",
      "metadata": {
        "id": "qQEQ83MNDHIu",
        "colab_type": "text"
      },
      "source": [
        "# Working with simple variables and expressions"
      ]
    },
    {
      "cell_type": "code",
      "metadata": {
        "id": "sn3NxHvUDAi6",
        "colab_type": "code",
        "outputId": "0ee39ce8-f5a5-410f-aed0-7bf9d177b5c4",
        "colab": {
          "base_uri": "https://localhost:8080/",
          "height": 34
        }
      },
      "source": [
        "# Simple Variables:\n",
        "#   Python is 'dynamically typed', which is a fancy way of saying that the \n",
        "#   type of an object is not officially declared when you set the object to a value:\n",
        "someVariable = None # a special 'None' type -- we'll talk more about it later.\n",
        "someVariable = 9 # an integer type \n",
        "someVariable = 9.0 # a float type\n",
        "someVariable = True # a boolean type\n",
        "someVariable = \"This is a string\"  # a string type\n",
        "\n",
        "# You can check the type of an object like this:\n",
        "type(someVariable)\n",
        "\n",
        "#   You can read more about types in Python here:\n",
        "# https://pythonconquerstheuniverse.wordpress.com/2009/10/03/static-vs-dynamic-typing-of-programming-languages/"
      ],
      "execution_count": 0,
      "outputs": [
        {
          "output_type": "execute_result",
          "data": {
            "text/plain": [
              "str"
            ]
          },
          "metadata": {
            "tags": []
          },
          "execution_count": 5
        }
      ]
    },
    {
      "cell_type": "code",
      "metadata": {
        "id": "E2UEgJkzDSyl",
        "colab_type": "code",
        "outputId": "c0f8914a-0ab5-428d-e8ef-4fd16b1f6375",
        "colab": {
          "base_uri": "https://localhost:8080/",
          "height": 34
        }
      },
      "source": [
        "# Some simple manipulations\n",
        "x=9\n",
        "y=1\n",
        "z=x+y\n",
        "print(z)"
      ],
      "execution_count": 0,
      "outputs": [
        {
          "output_type": "stream",
          "text": [
            "10\n"
          ],
          "name": "stdout"
        }
      ]
    },
    {
      "cell_type": "code",
      "metadata": {
        "id": "Oku6tMFBDfmF",
        "colab_type": "code",
        "outputId": "a44d4cb2-ad9e-4526-87df-60c1b34ff094",
        "colab": {
          "base_uri": "https://localhost:8080/",
          "height": 34
        }
      },
      "source": [
        "x='Hello'\n",
        "y=' World'\n",
        "z=x+y\n",
        "print(z)"
      ],
      "execution_count": 0,
      "outputs": [
        {
          "output_type": "stream",
          "text": [
            "Hello World\n"
          ],
          "name": "stdout"
        }
      ]
    },
    {
      "cell_type": "code",
      "metadata": {
        "id": "G9ETfUGPDfVG",
        "colab_type": "code",
        "outputId": "ea18fdc8-026c-4f3d-dc95-2413fc51f52e",
        "colab": {
          "base_uri": "https://localhost:8080/",
          "height": 34
        }
      },
      "source": [
        "x=\"Hello\"\n",
        "y=9\n",
        "z=x+y # This will throw a TypeError, because the '+' operator doesn't know how to add a string to an integer"
      ],
      "execution_count": 0,
      "outputs": [
        {
          "output_type": "stream",
          "text": [
            "Hello9\n"
          ],
          "name": "stdout"
        }
      ]
    },
    {
      "cell_type": "code",
      "metadata": {
        "id": "FWwSnoeOTHL3",
        "colab_type": "code",
        "colab": {}
      },
      "source": [
        "z=x+str(y) # This will work because we told Python to convert y to a string type first\n",
        "print(z) "
      ],
      "execution_count": 0,
      "outputs": []
    },
    {
      "cell_type": "code",
      "metadata": {
        "id": "tMB8dHmxDfDj",
        "colab_type": "code",
        "outputId": "d0d6272a-80dd-4df8-cf69-342a129ebf78",
        "colab": {
          "base_uri": "https://localhost:8080/",
          "height": 34
        }
      },
      "source": [
        "x=9\n",
        "y=2\n",
        "z=x*y\n",
        "print(z)"
      ],
      "execution_count": 0,
      "outputs": [
        {
          "output_type": "stream",
          "text": [
            "18\n"
          ],
          "name": "stdout"
        }
      ]
    },
    {
      "cell_type": "code",
      "metadata": {
        "id": "rXrt89DrDprq",
        "colab_type": "code",
        "outputId": "b969a403-7eeb-4524-ffdc-b09bb28b658e",
        "colab": {
          "base_uri": "https://localhost:8080/",
          "height": 34
        }
      },
      "source": [
        "x=9\n",
        "y=2\n",
        "z=x**y # x**y means \"x raised to the power of y\" (in other languages it is often expressed as x^y)\n",
        "print(z)"
      ],
      "execution_count": 0,
      "outputs": [
        {
          "output_type": "stream",
          "text": [
            "81\n"
          ],
          "name": "stdout"
        }
      ]
    },
    {
      "cell_type": "markdown",
      "metadata": {
        "id": "YijYhok2KpfL",
        "colab_type": "text"
      },
      "source": [
        ""
      ]
    },
    {
      "cell_type": "markdown",
      "metadata": {
        "id": "fE3OZThvxH6L",
        "colab_type": "text"
      },
      "source": [
        "# Boolean Logic in Python\n",
        "\n",
        "Python also supports boolean types and expressions:"
      ]
    },
    {
      "cell_type": "code",
      "metadata": {
        "id": "1dKApkXxx0fT",
        "colab_type": "code",
        "colab": {
          "base_uri": "https://localhost:8080/",
          "height": 51
        },
        "outputId": "7b5036d2-f605-4b72-afd2-e1b7236bbe02"
      },
      "source": [
        "someBool=True\n",
        "print(someBool)\n",
        "print(not(someBool))"
      ],
      "execution_count": 4,
      "outputs": [
        {
          "output_type": "stream",
          "text": [
            "True\n"
          ],
          "name": "stdout"
        },
        {
          "output_type": "execute_result",
          "data": {
            "text/plain": [
              "False"
            ]
          },
          "metadata": {
            "tags": []
          },
          "execution_count": 4
        }
      ]
    },
    {
      "cell_type": "code",
      "metadata": {
        "id": "T3phVNoByPR0",
        "colab_type": "code",
        "colab": {
          "base_uri": "https://localhost:8080/",
          "height": 51
        },
        "outputId": "dd5b66b3-1dae-4f7c-ebfc-c7158bb35755"
      },
      "source": [
        "someOtherBool=False\n",
        "print(someBool and someOtherBool)\n",
        "print(someBool or someOtherBool)"
      ],
      "execution_count": 5,
      "outputs": [
        {
          "output_type": "stream",
          "text": [
            "False\n",
            "True\n"
          ],
          "name": "stdout"
        }
      ]
    },
    {
      "cell_type": "markdown",
      "metadata": {
        "id": "_41gu9SA2Oth",
        "colab_type": "text"
      },
      "source": [
        "And of course, we can use the typical comparison operators, which return booleans:"
      ]
    },
    {
      "cell_type": "code",
      "metadata": {
        "id": "akJWhVtE2Vxf",
        "colab_type": "code",
        "colab": {
          "base_uri": "https://localhost:8080/",
          "height": 34
        },
        "outputId": "ddc5dff6-e724-4eb2-81ea-f5bf0d04e4ff"
      },
      "source": [
        "x=10\n",
        "y=5\n",
        "z=3\n",
        "x>y\n",
        "(x>y) and (y<z)"
      ],
      "execution_count": 7,
      "outputs": [
        {
          "output_type": "execute_result",
          "data": {
            "text/plain": [
              "False"
            ]
          },
          "metadata": {
            "tags": []
          },
          "execution_count": 7
        }
      ]
    },
    {
      "cell_type": "markdown",
      "metadata": {
        "id": "dc9ovPhZ2ozB",
        "colab_type": "text"
      },
      "source": [
        "IMPORTANT: One common point of confusion is the difference between the keywords ``and`` and ``or`` on one hand, and the operators ``&`` and ``|`` on the other hand.\n",
        "When would you use one versus the other?\n",
        "\n",
        "The difference is this: ``and`` and ``or`` gauge the truth or falsehood of an *entire object*, while ``&`` and ``|`` refer to *bits within each object*.\n",
        "\n",
        "When you use ``and`` or ``or``, it's equivalent to asking Python to treat the object as a single Boolean entity. \n",
        "\n",
        "When you use ``&`` or ``|``, its equivalent to operating on the actual bits of an object. \n",
        "\n",
        "We can show whats happening when we use bitwise logic by using ``bin()`` which returns the binary representation of an integer:"
      ]
    },
    {
      "cell_type": "code",
      "metadata": {
        "id": "oHA1I_g93D5M",
        "colab_type": "code",
        "colab": {
          "base_uri": "https://localhost:8080/",
          "height": 85
        },
        "outputId": "fa3822bc-1aad-4d97-ed4e-7530ba84f3aa"
      },
      "source": [
        "print(bin(10))\n",
        "print(bin(12))\n",
        "print(bin(10&12))\n",
        "print(bin(10|12))"
      ],
      "execution_count": 13,
      "outputs": [
        {
          "output_type": "stream",
          "text": [
            "0b1010\n",
            "0b1100\n",
            "0b1000\n",
            "0b1110\n"
          ],
          "name": "stdout"
        }
      ]
    },
    {
      "cell_type": "markdown",
      "metadata": {
        "id": "UAZWZ0XY4EHo",
        "colab_type": "text"
      },
      "source": [
        "When working with logical expression in python, it is usually the case that we will want to use ``and``, ``or``, ``not`` instead of bitwise operations.\n",
        "\n",
        "The only exception to this is when we are working with numpy arrays (which we'll talk about in a few lectures from now), where ``&`` and ``|`` are used by numpy to operate on logical expressions across an array (i.e., \"inside\" of an object)."
      ]
    },
    {
      "cell_type": "markdown",
      "metadata": {
        "id": "4Kce9dMJECyW",
        "colab_type": "text"
      },
      "source": [
        "# Collections\n",
        "\n",
        "Python has some very useful objects that are different ways of collecting other objects. These include:\n",
        "* lists\n",
        "* tuples\n",
        "* dictionaries\n",
        "* some others\n",
        "\n",
        "Let's have a look at some of these now:"
      ]
    },
    {
      "cell_type": "markdown",
      "metadata": {
        "id": "l6-sqZKYDomU",
        "colab_type": "text"
      },
      "source": [
        "# Lists\n",
        "\n",
        "Lists store a list of objects. You can add or remove objects from this list after you've created it. You can access a particular object with its index (an integer that reflects the order that it appears in the list)"
      ]
    },
    {
      "cell_type": "code",
      "metadata": {
        "id": "7xClOWqeEdb4",
        "colab_type": "code",
        "outputId": "5a58c4c4-881c-4a92-fae7-df91bf755dde",
        "colab": {
          "base_uri": "https://localhost:8080/",
          "height": 85
        }
      },
      "source": [
        "# Lists:\n",
        "someList=list()  # make a new list\n",
        "print(someList)\n",
        "\n",
        "someList.append(\"first\") # append the string \"First\" to the end of the list\n",
        "print(someList)\n",
        "\n",
        "someList.append(\"Second\") # append the string \"Second\" to the end of the list\n",
        "print(someList)\n",
        "\n",
        "someList.append(3) # append the integer 3 to the end of the list\n",
        "print(someList)\n"
      ],
      "execution_count": 14,
      "outputs": [
        {
          "output_type": "stream",
          "text": [
            "[]\n",
            "['first']\n",
            "['first', 'Second']\n",
            "['first', 'Second', 3]\n"
          ],
          "name": "stdout"
        }
      ]
    },
    {
      "cell_type": "code",
      "metadata": {
        "id": "8DQY71JD8ZXJ",
        "colab_type": "code",
        "colab": {}
      },
      "source": [
        "# We could have done the above four lines in a single statement:\n",
        "someList=[\"first\",\"Second\",3]\n",
        "print(someList) # print out the whole list\n",
        "print(someList[0]) # get the first object in the list. Notice the index is 0, not 1\n",
        "print(someList[1]) # get the second object in the list.\n",
        "print(someList[2]) # get the third object in the list.\n",
        "\n",
        "# notice that the type of objects in a list don't all have to match.\n",
        "\n",
        "# try playing around by changing the code in this block."
      ],
      "execution_count": 0,
      "outputs": []
    },
    {
      "cell_type": "code",
      "metadata": {
        "id": "kX105XxySNhd",
        "colab_type": "code",
        "colab": {}
      },
      "source": [
        "someList[3] # this will throw an IndexError, because we haven't added a 4th object to the list yet"
      ],
      "execution_count": 0,
      "outputs": []
    },
    {
      "cell_type": "markdown",
      "metadata": {
        "id": "iSWuNJBPFEY-",
        "colab_type": "text"
      },
      "source": [
        "What if you want only some of the items in the list (a \"slice\" of the list)?\n",
        "Then you can use the \":\", which is the slice operator.\n",
        "You can specify the start and end integer index of the slice using the format \"[start:end]\" like this:"
      ]
    },
    {
      "cell_type": "code",
      "metadata": {
        "id": "iQwKzhxMEpYI",
        "colab_type": "code",
        "colab": {}
      },
      "source": [
        "someList[0:2]  # get the items corresponding to indices 0,1 (i.e., start at index 0, stop before index 2)"
      ],
      "execution_count": 0,
      "outputs": []
    },
    {
      "cell_type": "code",
      "metadata": {
        "id": "1cfHcEQOSkd6",
        "colab_type": "code",
        "colab": {}
      },
      "source": [
        "someList[:3] # get all the items up to but not including index 3"
      ],
      "execution_count": 0,
      "outputs": []
    },
    {
      "cell_type": "code",
      "metadata": {
        "id": "u9TyvPIzSnCS",
        "colab_type": "code",
        "colab": {}
      },
      "source": [
        "someList[1:] # get all the items starting at the index 1 until the end of the list"
      ],
      "execution_count": 0,
      "outputs": []
    },
    {
      "cell_type": "markdown",
      "metadata": {
        "id": "sY8ennxHFOEs",
        "colab_type": "text"
      },
      "source": [
        "The \"in\" keyword allows you to determine if an object is in a list:"
      ]
    },
    {
      "cell_type": "code",
      "metadata": {
        "id": "nZeoUMphEvyK",
        "colab_type": "code",
        "outputId": "e0e7a7fe-5234-4c31-f929-43f34149522e",
        "colab": {
          "base_uri": "https://localhost:8080/",
          "height": 34
        }
      },
      "source": [
        "\"Second\" in someList # this will return True because the object \"Second\" is in someList"
      ],
      "execution_count": 0,
      "outputs": [
        {
          "output_type": "execute_result",
          "data": {
            "text/plain": [
              "False"
            ]
          },
          "metadata": {
            "tags": []
          },
          "execution_count": 4
        }
      ]
    },
    {
      "cell_type": "code",
      "metadata": {
        "id": "vJFpk6idSZb4",
        "colab_type": "code",
        "colab": {}
      },
      "source": [
        "\"test\" in someList # this will return False because the object \"test\" is not in someList"
      ],
      "execution_count": 0,
      "outputs": []
    },
    {
      "cell_type": "code",
      "metadata": {
        "id": "SKJozL9_SeGc",
        "colab_type": "code",
        "colab": {}
      },
      "source": [
        "# Define a new list with some elements in it and test out using \"in\""
      ],
      "execution_count": 0,
      "outputs": []
    },
    {
      "cell_type": "markdown",
      "metadata": {
        "id": "AreNXpzCFVBG",
        "colab_type": "text"
      },
      "source": [
        "List are \"mutable\", which means you can change them after you have created them.\n",
        "Lists grow and shrink by adding (or removing) objects to the end.  \n",
        "\n",
        "You use .append(...) to add to the end and .pop() to get and remove the object at the end:"
      ]
    },
    {
      "cell_type": "code",
      "metadata": {
        "id": "JmjjFAHpEySx",
        "colab_type": "code",
        "colab": {}
      },
      "source": [
        "someList.append('Third') # this will add the string \"Third\" to the end of the list\n",
        "print(someList)"
      ],
      "execution_count": 0,
      "outputs": []
    },
    {
      "cell_type": "code",
      "metadata": {
        "id": "vBU9vPBWSzQB",
        "colab_type": "code",
        "colab": {}
      },
      "source": [
        "someList.pop() # get the last object and remove it from the list\n",
        "print(someList) # notice that the 3 isn't in the list anymore"
      ],
      "execution_count": 0,
      "outputs": []
    },
    {
      "cell_type": "code",
      "metadata": {
        "id": "ywwxXlpZS3Jj",
        "colab_type": "code",
        "colab": {}
      },
      "source": [
        "# you can also pop things from any indexed point in the list by adding an argument to the pop() call:\n",
        "someList.pop(0) # get the 0th indexed item in the list and remove it from the list\n",
        "print(someList) # notice that now 'Second' is the only item in the list and no longer the actually second (index of 1)  "
      ],
      "execution_count": 0,
      "outputs": []
    },
    {
      "cell_type": "code",
      "metadata": {
        "id": "mWYkaB7KSsxI",
        "colab_type": "code",
        "colab": {}
      },
      "source": [
        "# Define your own list and add some elements to it using "
      ],
      "execution_count": 0,
      "outputs": []
    },
    {
      "cell_type": "markdown",
      "metadata": {
        "id": "0sKZk43mFtkX",
        "colab_type": "text"
      },
      "source": [
        "The function len() returns the length of a list:"
      ]
    },
    {
      "cell_type": "code",
      "metadata": {
        "id": "IAqq_kFlFBW-",
        "colab_type": "code",
        "colab": {}
      },
      "source": [
        "someListLength=len(someList) \n",
        "print(someListLength)\n",
        "type(someListLength) # notice that the type of someListLength is an integer, because the len() function returns an integer"
      ],
      "execution_count": 0,
      "outputs": []
    },
    {
      "cell_type": "markdown",
      "metadata": {
        "id": "sruVjeF5Gybk",
        "colab_type": "text"
      },
      "source": [
        "You can also combine or \"concatenate\" lists together using the \"+\" operator:"
      ]
    },
    {
      "cell_type": "code",
      "metadata": {
        "id": "0Tfp9mQvG5jC",
        "colab_type": "code",
        "colab": {}
      },
      "source": [
        "bigList=[\"First\"]+someList \n",
        "# above the square brackets tell Python we are making a new list with only one element \"First\",\n",
        "#  then concatenating it with someList using the \"+\" operator\n",
        "print(bigList)"
      ],
      "execution_count": 0,
      "outputs": []
    },
    {
      "cell_type": "markdown",
      "metadata": {
        "id": "q28HeVvGHAjg",
        "colab_type": "text"
      },
      "source": [
        "There is a nice function range(start,step,stop) that can be used to make a lists of increasing or decreasing integers. The step argument is optional (and will default to 1 if not specified). \n",
        "\n",
        "Range used to actually return a list object, but in recent python versions, range became its own type. But we can still use it to make a list by converting it to a list with the list() function. :"
      ]
    },
    {
      "cell_type": "code",
      "metadata": {
        "id": "70zHAYiOHScE",
        "colab_type": "code",
        "outputId": "3aba7a3c-8a2f-415a-d97f-c25152089a4c",
        "colab": {
          "base_uri": "https://localhost:8080/",
          "height": 34
        }
      },
      "source": [
        "countUpList=list(range(0,10)) # generate a list of integers increasing by 1 from 0 and up to (but not including) 10\n",
        "print(countUpList)"
      ],
      "execution_count": 0,
      "outputs": [
        {
          "output_type": "stream",
          "text": [
            "[0, 1, 2, 3, 4, 5, 6, 7, 8, 9]\n"
          ],
          "name": "stdout"
        }
      ]
    },
    {
      "cell_type": "code",
      "metadata": {
        "id": "loUYbOZfH7AD",
        "colab_type": "code",
        "outputId": "ee42a8fc-b2cf-4c32-8858-d58ab26af84c",
        "colab": {
          "base_uri": "https://localhost:8080/",
          "height": 34
        }
      },
      "source": [
        "countUpByTwoList=list(range(0,10,2)) # here each next integer in the list will be 2 more than the last\n",
        "print(countUpByTwoList)"
      ],
      "execution_count": 0,
      "outputs": [
        {
          "output_type": "stream",
          "text": [
            "[0, 2, 4, 6, 8]\n"
          ],
          "name": "stdout"
        }
      ]
    },
    {
      "cell_type": "code",
      "metadata": {
        "id": "jiisrsF7Ihbw",
        "colab_type": "code",
        "outputId": "c19773fe-beff-4de6-842c-584a1af38306",
        "colab": {
          "base_uri": "https://localhost:8080/",
          "height": 34
        }
      },
      "source": [
        "countDownList=list(range(10,0,-1)) # generate a list of integers increasing by 1 from 0 and up to (but not including) 10\n",
        "print(countDownList)"
      ],
      "execution_count": 0,
      "outputs": [
        {
          "output_type": "stream",
          "text": [
            "[10, 9, 8, 7, 6, 5, 4, 3, 2, 1]\n"
          ],
          "name": "stdout"
        }
      ]
    },
    {
      "cell_type": "markdown",
      "metadata": {
        "id": "mbjlCBsEIBnV",
        "colab_type": "text"
      },
      "source": [
        "In most of the places were we would want to use range() we won't need to convert it to a list -- for example, in a \"for loop\" to loop a certain number of times and have a variable that tracks which iteration we are in.  We'll see an example of this later when we talk about loops."
      ]
    },
    {
      "cell_type": "markdown",
      "metadata": {
        "id": "OZE1e3jJInb6",
        "colab_type": "text"
      },
      "source": [
        "# Tuples\n",
        "\n",
        "Tuples are kind of similar to lists, because:\n",
        " - they can hold an arbitrary number of objects of arbitrary types\n",
        " - you can index them the same way you would index lists\n",
        "\n",
        "But, they are also different, because they are **immutable**. This means:\n",
        " - they cannot be changed after being created\n",
        " - you can't grow, shrink or add or remove elements\n",
        " - you can't change the value of one of the elements\n",
        "\n",
        "But that's okay because we already have lists and we can always make a new tuple from an existing one."
      ]
    },
    {
      "cell_type": "code",
      "metadata": {
        "id": "Pe8YgOd6JXrc",
        "colab_type": "code",
        "colab": {}
      },
      "source": [
        "someTuple=(1,\"two\",3.0) # make a new tuple name someTuple with the values 1, \"two\", and 3.0\n",
        "print(someTuple)"
      ],
      "execution_count": 0,
      "outputs": []
    },
    {
      "cell_type": "code",
      "metadata": {
        "id": "fxMkVShhJcA8",
        "colab_type": "code",
        "colab": {}
      },
      "source": [
        "someTuple[0] # get the first (index of 0) item of the tuple"
      ],
      "execution_count": 0,
      "outputs": []
    },
    {
      "cell_type": "code",
      "metadata": {
        "id": "tIDX-2SJ8vnN",
        "colab_type": "code",
        "colab": {}
      },
      "source": [
        "someTuple[1] # get the second (index of 1) item of the tuple"
      ],
      "execution_count": 0,
      "outputs": []
    },
    {
      "cell_type": "code",
      "metadata": {
        "id": "PEvX9aX-8xKr",
        "colab_type": "code",
        "colab": {}
      },
      "source": [
        "someTuple[2] # get the second (index of 1) item of the tuple"
      ],
      "execution_count": 0,
      "outputs": []
    },
    {
      "cell_type": "code",
      "metadata": {
        "id": "qQHbDKGaJg__",
        "colab_type": "code",
        "colab": {}
      },
      "source": [
        "someTuple[3] # this will throw and IndexError, because we defined the tuple to have only 3 elements with indices 0,1,2"
      ],
      "execution_count": 0,
      "outputs": []
    },
    {
      "cell_type": "code",
      "metadata": {
        "id": "-o4YOTvcJjVr",
        "colab_type": "code",
        "colab": {}
      },
      "source": [
        "someTuple[0] = \"one\" # this will throw a type error saying that the 'tuple' object does not support item assignment"
      ],
      "execution_count": 0,
      "outputs": []
    },
    {
      "cell_type": "markdown",
      "metadata": {
        "id": "7cXeQQYkJrgk",
        "colab_type": "text"
      },
      "source": [
        "# Dictionaries\n",
        "\n",
        "Dictionaries store pairs of objects as keys and values. \n",
        "\n",
        "* keys can be any object that is \"hashable\" -- don't worry about this for now\n",
        "* values can be any object\n",
        "\n",
        "In a dictionary, every key has exactly one value associated with it. \n",
        "\n",
        "You can think of the key as the thing that you use to look up the value that you want. "
      ]
    },
    {
      "cell_type": "code",
      "metadata": {
        "id": "lOH1FbQAKKqB",
        "colab_type": "code",
        "outputId": "05004f5a-6bcb-451e-8795-8046da96a2e0",
        "colab": {
          "base_uri": "https://localhost:8080/",
          "height": 34
        }
      },
      "source": [
        "someDict=dict()  # make a new dictionary\n",
        "print(someDict)"
      ],
      "execution_count": 0,
      "outputs": [
        {
          "output_type": "stream",
          "text": [
            "{}\n"
          ],
          "name": "stdout"
        }
      ]
    },
    {
      "cell_type": "code",
      "metadata": {
        "id": "2pqQ9MGjKPxq",
        "colab_type": "code",
        "colab": {}
      },
      "source": [
        "someDict[\"Dylan\"] = \"an awesome guy\" # Here \"Dylan\" is a key of type string; \" an awesome guy\" is the associated value of type string\n",
        "someDict[\"Kate\"] = \"an awesome wife\" # Here \"Kate\" is a key of type string; \" an awesome wife\" is the associated value of type string\n",
        "someDict[\"Echo\"] = \"a cute silver lab\"\n",
        "print(someDict)\n",
        "\n",
        "# Here I uses strings as both the keys and the values, but you try experimenting with your own keys and values of different types (integers, floats, bools, etc.)"
      ],
      "execution_count": 0,
      "outputs": []
    },
    {
      "cell_type": "markdown",
      "metadata": {
        "id": "PsrtYWziKpJp",
        "colab_type": "text"
      },
      "source": [
        "You can actually define an entire dictionary with keys and values all in one line:"
      ]
    },
    {
      "cell_type": "code",
      "metadata": {
        "id": "sJtZiThkKZzD",
        "colab_type": "code",
        "colab": {}
      },
      "source": [
        "someOtherDict={\"Dylan\":\"an awesome guy\",\"Kate\":\"an awesome wife\",\"Echo\":\"a cute silver lab\"}  # notice the use of the curly brackets, ':' and ','\n",
        "print(someOtherDict)"
      ],
      "execution_count": 0,
      "outputs": []
    },
    {
      "cell_type": "markdown",
      "metadata": {
        "id": "xkE_uj9eK4j6",
        "colab_type": "text"
      },
      "source": [
        "You can reassign the value for a given key at any point:"
      ]
    },
    {
      "cell_type": "code",
      "metadata": {
        "id": "5XV-YtqSK-p7",
        "colab_type": "code",
        "outputId": "e6e1b473-c645-4d87-ec34-afe79c408a66",
        "colab": {
          "base_uri": "https://localhost:8080/",
          "height": 51
        }
      },
      "source": [
        "print(someDict)\n",
        "someDict[\"Dylan\"] = \"a terrible husband\" # You can re-assign the value associated with an existing key\n",
        "print(someDict)"
      ],
      "execution_count": 0,
      "outputs": [
        {
          "output_type": "stream",
          "text": [
            "{'Dylan': 'an awesome guy', 'Kate': 'an awesome wife', 'Echo': 'a cute silver lab'}\n",
            "{'Dylan': 'a terrible husband', 'Kate': 'an awesome wife', 'Echo': 'a cute silver lab'}\n"
          ],
          "name": "stdout"
        }
      ]
    },
    {
      "cell_type": "markdown",
      "metadata": {
        "id": "CxxmzE3cLGIu",
        "colab_type": "text"
      },
      "source": [
        "If you want to \"look up\" the value for a given key, you just use the square brackets:"
      ]
    },
    {
      "cell_type": "code",
      "metadata": {
        "id": "xbibVPu_LKeI",
        "colab_type": "code",
        "outputId": "ab1afa42-ee0e-47e7-dc9f-6809124a8bdd",
        "colab": {
          "base_uri": "https://localhost:8080/",
          "height": 51
        }
      },
      "source": [
        "print(someDict[\"Dylan\"]) # get the value associated with the key \"Dylan\"\n",
        "print(someDict[\"Kate\"]) # get the value associated with the key \"Kate\""
      ],
      "execution_count": 0,
      "outputs": [
        {
          "output_type": "stream",
          "text": [
            "a terrible husband\n",
            "an awesome wife\n"
          ],
          "name": "stdout"
        }
      ]
    },
    {
      "cell_type": "code",
      "metadata": {
        "id": "RdTLouOaLS9J",
        "colab_type": "code",
        "outputId": "48fa2bef-0bd4-4b4d-967f-a01d1913c190",
        "colab": {
          "base_uri": "https://localhost:8080/",
          "height": 164
        }
      },
      "source": [
        "someDict[\"Ooblek the Goblin\"] # This will throw an KeyError because we didn't associate a value with the key \"Ooblek the Goblin\""
      ],
      "execution_count": 0,
      "outputs": [
        {
          "output_type": "error",
          "ename": "KeyError",
          "evalue": "ignored",
          "traceback": [
            "\u001b[0;31m---------------------------------------------------------------------------\u001b[0m",
            "\u001b[0;31mKeyError\u001b[0m                                  Traceback (most recent call last)",
            "\u001b[0;32m<ipython-input-26-5f252f0535be>\u001b[0m in \u001b[0;36m<module>\u001b[0;34m()\u001b[0m\n\u001b[0;32m----> 1\u001b[0;31m \u001b[0msomeDict\u001b[0m\u001b[0;34m[\u001b[0m\u001b[0;34m\"Ooblek the Goblin\"\u001b[0m\u001b[0;34m]\u001b[0m \u001b[0;31m# This will throw an KeyError because we didn't associate a value with the key \"Ooblek the Goblin\"\u001b[0m\u001b[0;34m\u001b[0m\u001b[0;34m\u001b[0m\u001b[0m\n\u001b[0m",
            "\u001b[0;31mKeyError\u001b[0m: 'Ooblek the Goblin'"
          ]
        }
      ]
    },
    {
      "cell_type": "markdown",
      "metadata": {
        "id": "4b1AhULOLZGL",
        "colab_type": "text"
      },
      "source": [
        "If you want to remove an item from a dictionary, you can use pop() as with lists, but you must supply the key of the item you want to remove:"
      ]
    },
    {
      "cell_type": "code",
      "metadata": {
        "id": "Y3NfLBg0Lokg",
        "colab_type": "code",
        "outputId": "593fb1fe-980a-4d56-96ef-3dd3b2582894",
        "colab": {
          "base_uri": "https://localhost:8080/",
          "height": 164
        }
      },
      "source": [
        "someDict.pop() # This will throw a TypeError, because the dictionary's version of pop() expects an argument"
      ],
      "execution_count": 0,
      "outputs": [
        {
          "output_type": "error",
          "ename": "TypeError",
          "evalue": "ignored",
          "traceback": [
            "\u001b[0;31m---------------------------------------------------------------------------\u001b[0m",
            "\u001b[0;31mTypeError\u001b[0m                                 Traceback (most recent call last)",
            "\u001b[0;32m<ipython-input-27-bc30d2b0bd77>\u001b[0m in \u001b[0;36m<module>\u001b[0;34m()\u001b[0m\n\u001b[0;32m----> 1\u001b[0;31m \u001b[0msomeDict\u001b[0m\u001b[0;34m.\u001b[0m\u001b[0mpop\u001b[0m\u001b[0;34m(\u001b[0m\u001b[0;34m)\u001b[0m \u001b[0;31m# This will throw a TypeError, because the dictionary's version of pop() expects an argument\u001b[0m\u001b[0;34m\u001b[0m\u001b[0;34m\u001b[0m\u001b[0m\n\u001b[0m",
            "\u001b[0;31mTypeError\u001b[0m: pop expected at least 1 arguments, got 0"
          ]
        }
      ]
    },
    {
      "cell_type": "code",
      "metadata": {
        "id": "j-XN9OgMLqjt",
        "colab_type": "code",
        "colab": {}
      },
      "source": [
        "someDict.pop(\"Dylan\") # this will remove the key,value pair associated with the key \"Dylan\" from the dictionary"
      ],
      "execution_count": 0,
      "outputs": []
    },
    {
      "cell_type": "markdown",
      "metadata": {
        "id": "EqM4P7YwLv8p",
        "colab_type": "text"
      },
      "source": [
        "You can get all the keys or all the values or all the key,value pairs in a dictionary by using the .keys() or .values() or .items() \"methods\"  (a method is like a function that \"belongs\" to an object -- we'll talk more about this later when we talk about classes and objects):"
      ]
    },
    {
      "cell_type": "code",
      "metadata": {
        "id": "U8Kv9D0RL8_L",
        "colab_type": "code",
        "outputId": "aa34e009-9ad2-4d22-9978-5234c236058b",
        "colab": {
          "base_uri": "https://localhost:8080/",
          "height": 68
        }
      },
      "source": [
        "someKeys=someDict.keys()\n",
        "print(someKeys)\n",
        "\n",
        "someValues=someDict.values() # returns the values of someDict as a list\n",
        "print(someValues)\n",
        "\n",
        "someItems=someDict.items()\n",
        "print(someItems)\n",
        "# Try converting someKeys to a list by wrapping it with the list() function"
      ],
      "execution_count": 0,
      "outputs": [
        {
          "output_type": "stream",
          "text": [
            "dict_keys(['Dylan', 'Kate', 'Echo'])\n",
            "dict_values(['a terrible husband', 'an awesome wife', 'a cute silver lab'])\n",
            "dict_items([('Dylan', 'a terrible husband'), ('Kate', 'an awesome wife'), ('Echo', 'a cute silver lab')])\n"
          ],
          "name": "stdout"
        }
      ]
    },
    {
      "cell_type": "markdown",
      "metadata": {
        "id": "zyjU44FIMQ4-",
        "colab_type": "text"
      },
      "source": [
        "If you want to know whether a particular object is used as a key in a dictionary, or if a particular object is stored as a value in a dictionary, you can use the \"in\" keyword:"
      ]
    },
    {
      "cell_type": "code",
      "metadata": {
        "id": "qqmeOWHmMb20",
        "colab_type": "code",
        "outputId": "e1938ae6-e7fe-42ac-cc93-602958670041",
        "colab": {
          "base_uri": "https://localhost:8080/",
          "height": 34
        }
      },
      "source": [
        "\"Kate\" in someDict.keys() # returns True, since \"Kate\" is in someDict.keys()"
      ],
      "execution_count": 0,
      "outputs": [
        {
          "output_type": "execute_result",
          "data": {
            "text/plain": [
              "True"
            ]
          },
          "metadata": {
            "tags": []
          },
          "execution_count": 30
        }
      ]
    },
    {
      "cell_type": "markdown",
      "metadata": {
        "id": "czxABMOLK1y2",
        "colab_type": "text"
      },
      "source": [
        "# Working with strings\n",
        "\n",
        "Strings are pervasive in any programming endeavor, particularly when you are processing data.  Python provides several functions and methods to make working with strings easier.\n",
        "\n",
        "Some of the most useful string methods are:\n",
        " - strip() - remove leading or trailing characters from a string\n",
        " - replace() - replace the occurence of a substring inside a string with another substring\n",
        " - join() - join the elements of a list together as a string with a specificed separating substring.\n",
        " - split() - split up a string by a separating substring and return a list of those parts.\n",
        "\n",
        " Let's see how these work:"
      ]
    },
    {
      "cell_type": "code",
      "metadata": {
        "id": "N5FMqXeAMJ8e",
        "colab_type": "code",
        "outputId": "0512fe14-642a-4bfc-ffad-f55204d5a354",
        "colab": {
          "base_uri": "https://localhost:8080/",
          "height": 68
        }
      },
      "source": [
        "helloStr=\"Hello world.\\n\"\n",
        "print(helloStr.strip()) # by default, strip() will remove whitespace characters, such as \"\\n\" and \" \"\n",
        "print(helloStr.strip(\"\\n.\")) # If you specify more than one character, it will remove each character from the head and tail\n",
        "print(helloStr.strip(\"\\nH.er\")) # notice the 'r' was not removed, since it is not at the end or beginning of the string when all others chars are removed  "
      ],
      "execution_count": 0,
      "outputs": [
        {
          "output_type": "stream",
          "text": [
            "Hello world.\n",
            "Hello world\n",
            "llo world\n"
          ],
          "name": "stdout"
        }
      ]
    },
    {
      "cell_type": "code",
      "metadata": {
        "id": "pP_L8H-rOqPb",
        "colab_type": "code",
        "outputId": "aa15aba5-4e36-4704-f367-ccbd619d90e8",
        "colab": {
          "base_uri": "https://localhost:8080/",
          "height": 34
        }
      },
      "source": [
        "helloStr.strip(\"\\n\").strip(\".\") # You can chain multiple strip() calls together, since the return of the first call is also a string that has the strip() method "
      ],
      "execution_count": 0,
      "outputs": [
        {
          "output_type": "execute_result",
          "data": {
            "text/plain": [
              "'Hello world'"
            ]
          },
          "metadata": {
            "tags": []
          },
          "execution_count": 18
        }
      ]
    },
    {
      "cell_type": "code",
      "metadata": {
        "id": "iS8hv4iPOV52",
        "colab_type": "code",
        "outputId": "85727a8c-8d42-4797-b212-1fa7fe0ea1d8",
        "colab": {
          "base_uri": "https://localhost:8080/",
          "height": 34
        }
      },
      "source": [
        "helloStr.replace(\"lo world\",\"l yeah\") # this will replace the occurrence of the substring \"lo world\" with \"l yeah\""
      ],
      "execution_count": 0,
      "outputs": [
        {
          "output_type": "execute_result",
          "data": {
            "text/plain": [
              "'Hell yeah.\\n'"
            ]
          },
          "metadata": {
            "tags": []
          },
          "execution_count": 17
        }
      ]
    },
    {
      "cell_type": "code",
      "metadata": {
        "id": "pLmW9aJsQ9bc",
        "colab_type": "code",
        "outputId": "8d543d8d-f9a6-4e9b-d4e6-a429154c9fc4",
        "colab": {
          "base_uri": "https://localhost:8080/",
          "height": 34
        }
      },
      "source": [
        "helloStr.replace(\"lo world\",\"l yeah\").replace(\"yeah.\",\"no to the no to the no!\") # You can also chain replace() calls together as well."
      ],
      "execution_count": 0,
      "outputs": [
        {
          "output_type": "execute_result",
          "data": {
            "text/plain": [
              "'Hell no to the no to the no!\\n'"
            ]
          },
          "metadata": {
            "tags": []
          },
          "execution_count": 30
        }
      ]
    },
    {
      "cell_type": "code",
      "metadata": {
        "id": "PqvkclGvPE8O",
        "colab_type": "code",
        "outputId": "3101bec3-843f-46a6-afed-d11abb2f815c",
        "colab": {
          "base_uri": "https://localhost:8080/",
          "height": 34
        }
      },
      "source": [
        "dieHard1=\"Yippee ki yay\"\n",
        "dieHard2=\"mother falcon\"\n",
        "dieHardList=[dieHard1,dieHard2]\n",
        "dieHardFull=\", \".join(dieHardList) # join all the elements of the list by connecting them with the separating substring \", \"\n",
        "print(dieHardFull)"
      ],
      "execution_count": 0,
      "outputs": [
        {
          "output_type": "stream",
          "text": [
            "Yippee ki yay, mother falcon\n"
          ],
          "name": "stdout"
        }
      ]
    },
    {
      "cell_type": "code",
      "metadata": {
        "id": "Gyg9CLmGQkeY",
        "colab_type": "code",
        "outputId": "128ec213-17a6-4d6a-874f-a5642b19b3c2",
        "colab": {
          "base_uri": "https://localhost:8080/",
          "height": 163
        }
      },
      "source": [
        "\",\".join([1,2,3]) # This will throw an error, because join only works on lists if all the elements of the list are of type string"
      ],
      "execution_count": 0,
      "outputs": [
        {
          "output_type": "error",
          "ename": "TypeError",
          "evalue": "ignored",
          "traceback": [
            "\u001b[0;31m---------------------------------------------------------------------------\u001b[0m",
            "\u001b[0;31mTypeError\u001b[0m                                 Traceback (most recent call last)",
            "\u001b[0;32m<ipython-input-27-62329dc85318>\u001b[0m in \u001b[0;36m<module>\u001b[0;34m()\u001b[0m\n\u001b[0;32m----> 1\u001b[0;31m \u001b[0;34m\",\"\u001b[0m\u001b[0;34m.\u001b[0m\u001b[0mjoin\u001b[0m\u001b[0;34m(\u001b[0m\u001b[0;34m[\u001b[0m\u001b[0;36m1\u001b[0m\u001b[0;34m,\u001b[0m\u001b[0;36m2\u001b[0m\u001b[0;34m,\u001b[0m\u001b[0;36m3\u001b[0m\u001b[0;34m]\u001b[0m\u001b[0;34m)\u001b[0m \u001b[0;31m# This will throw an error, because join only works on lists if all the elements of the list are of type string\u001b[0m\u001b[0;34m\u001b[0m\u001b[0;34m\u001b[0m\u001b[0m\n\u001b[0m",
            "\u001b[0;31mTypeError\u001b[0m: sequence item 0: expected str instance, int found"
          ]
        }
      ]
    },
    {
      "cell_type": "markdown",
      "metadata": {
        "id": "pwMaMoYbkPQ9",
        "colab_type": "text"
      },
      "source": [
        "\n",
        "Often you want to create a string from other variables. There are a couple of ways to do this in Python:\n",
        " - f-strings (formatted string literals)\n",
        " - using the .format() method of strings\n",
        "\n",
        "I won't talk about these in detail but instead just show some examples of how they work. If you want to know more, have a look at [this python3 docs page](https://docs.python.org/3/tutorial/inputoutput.html#input-and-output)\n"
      ]
    },
    {
      "cell_type": "code",
      "metadata": {
        "id": "45k6lhPFlKVJ",
        "colab_type": "code",
        "outputId": "ec09a07d-2d0f-45d2-c506-c6f193514be6",
        "colab": {
          "base_uri": "https://localhost:8080/",
          "height": 85
        }
      },
      "source": [
        "# Examples of formatings strings that incorporate variables\n",
        "\n",
        "from math import sqrt # don't worry about this line yet, I'll talk about it later\n",
        "\n",
        "# Example using f-strings\n",
        "x=3.0\n",
        "y=4.0\n",
        "z=sqrt(x**2+y**2)\n",
        "\n",
        "print(f'The value of z is {z}, which is determined by the square root of {x} squared plus {y} squared.')\n",
        "# notice it will print out the variable (correctly converted to a string) if you wrap the variable name in curly brackets.\n",
        "\n",
        "# Example using the format() method\n",
        "hero='John McClane'\n",
        "villain='Hans Gruber'\n",
        "\n",
        "storyString='{} defeated {} by dropping him out of a window.'.format(hero,villain)\n",
        "print(storyString)\n",
        "\n",
        "storyString2='The reason why {} cut his feet is because {} said \"Shoot the Glass\"'.format(hero, villain)\n",
        "# notice, you can use double quotes within a string if you define the string with single quotes.  \n",
        "#  You can also do the opposite. \n",
        "print(storyString2)"
      ],
      "execution_count": 0,
      "outputs": [
        {
          "output_type": "stream",
          "text": [
            "The value of z is 5.0, which is determined by the square root of 3.0 squared plus 4.0 squared.\n",
            "['Yippee ki yay', 'mother falcon']\n",
            "John McClane defeated Hans Gruber by dropping him out of a window.\n",
            "The reason why John McClane cut his feet is because Hans Gruber said \"Shoot the Glass\"\n"
          ],
          "name": "stdout"
        }
      ]
    },
    {
      "cell_type": "markdown",
      "metadata": {
        "id": "71hclOKnxi6s",
        "colab_type": "text"
      },
      "source": [
        "Personally, I find f-strings to be the most convenient way to print things in python and will mostly stick with this."
      ]
    },
    {
      "cell_type": "markdown",
      "metadata": {
        "id": "4HPTe28PMieo",
        "colab_type": "text"
      },
      "source": [
        "# If / Else statements\n",
        "\n",
        "We can execute a block of code conditionally by testing for a condition using an *if statement*\n"
      ]
    },
    {
      "cell_type": "code",
      "metadata": {
        "id": "BxX5IFpsMxXN",
        "colab_type": "code",
        "outputId": "b97da102-4294-4767-96d5-c220d300ffe8",
        "colab": {
          "base_uri": "https://localhost:8080/",
          "height": 34
        }
      },
      "source": [
        "someBool=True\n",
        "\n",
        "if someBool:\n",
        "  print(\"someBool is True.\")\n",
        "# pay attention to the \"whitespace\" in Python.  The indentation must be accomplished with a \"tab\",\n",
        "#  it can't be \"spaces\".  Most IDEs or Jupyter will automatically assume an indent for you after you type the \":\""
      ],
      "execution_count": 0,
      "outputs": [
        {
          "output_type": "stream",
          "text": [
            "someBool is True.\n"
          ],
          "name": "stdout"
        }
      ]
    },
    {
      "cell_type": "markdown",
      "metadata": {
        "id": "OPM-LWtdNFrk",
        "colab_type": "text"
      },
      "source": [
        "You can also include an else codeblock following the if:"
      ]
    },
    {
      "cell_type": "code",
      "metadata": {
        "id": "sjsHPybDNDIV",
        "colab_type": "code",
        "outputId": "bebd9e47-ad21-4599-96f8-dd882fe818d1",
        "colab": {
          "base_uri": "https://localhost:8080/",
          "height": 34
        }
      },
      "source": [
        "someInt = 8\n",
        "if someInt<9:\n",
        "    print(\"someInt is less than 9.\")\n",
        "else:\n",
        "    print(\"someInt is greater than or equal to 9.\")\n",
        "# Change the value of someInt and re-run the above codeblock to see what happens."
      ],
      "execution_count": 0,
      "outputs": [
        {
          "output_type": "stream",
          "text": [
            "someInt is less than 9.\n"
          ],
          "name": "stdout"
        }
      ]
    },
    {
      "cell_type": "markdown",
      "metadata": {
        "id": "UD_nYzzLNV0w",
        "colab_type": "text"
      },
      "source": [
        "And you can test for many conditions by using an if-elif-else chain:"
      ]
    },
    {
      "cell_type": "code",
      "metadata": {
        "id": "ybDGCNSiNcFG",
        "colab_type": "code",
        "outputId": "03b64f63-b540-4d6c-a1a4-c449f4f65988",
        "colab": {
          "base_uri": "https://localhost:8080/",
          "height": 34
        }
      },
      "source": [
        "someInt = 8\n",
        "if someInt<5:\n",
        "    print(\"someInt is less than 5.\")\n",
        "elif someInt>=7:  # here >=5 means greater than or equal to 5 ; elif means \"else if\"\n",
        "    print(\"someInt is greater than or equal to 5 and is greater than or equal to 7.\")\n",
        "else:\n",
        "    print(\"If someInt is really an integer, it must be either 5 or 6.\")\n",
        "# Change the value of someInt and re-run the above codeblock to see what happens.\n",
        "# Notice the chain of logic:\n",
        "#   The codeblock of \"elif someInt>=7\" only executes if the codeblock \"if someInt<5\" did not execute.\n",
        "#   The codeblock of \"else\" only executes if both the codeblocks of \"if someInt<5\" and \"elif someInt>=7\" did not execute\n",
        "# We could have added another elif codeblock before the else codeblock to check if someInt>=6.  \n",
        "#  Modify the above code to do that (don't forget the modify the print statements so that your new code makes sense)\n",
        "#  and then re-run the example."
      ],
      "execution_count": 0,
      "outputs": [
        {
          "output_type": "stream",
          "text": [
            "someInt is greater than or equal to 5 and is greater than or equal to 7.\n"
          ],
          "name": "stdout"
        }
      ]
    },
    {
      "cell_type": "markdown",
      "metadata": {
        "id": "fK47ccqdNqDj",
        "colab_type": "text"
      },
      "source": [
        "# Loops\n",
        "\n",
        "Loops allow you to execute the same codeblock multiple times without having to rewrite it.  There are two types:\n",
        "* while loop - loop over a codeblock until the condition evaluates to False\n",
        "* for loop - loop over a codeblock a certain number of times (or iterating over the elements of a collection)\n",
        "\n",
        "While loops look like this:\n",
        "\n",
        "```\n",
        "while statement:\n",
        "  codeblock\n",
        "```\n",
        "\n",
        "For loops look like this:\n",
        "```\n",
        "for variable in collection:\n",
        "  codeblock\n",
        "```"
      ]
    },
    {
      "cell_type": "code",
      "metadata": {
        "id": "m5j6dftVOXzp",
        "colab_type": "code",
        "colab": {}
      },
      "source": [
        "someCounter = 0\n",
        "while someCounter<10:\n",
        "    print(someCounter)\n",
        "    someCounter+=1\n",
        "# notice the order of the two lines in the while codeblock matter.\n",
        "#   Here we first print out someCounter and then increment it.\n",
        "#   If you reverse the order of these two lines, the printout will be different.  Try it."
      ],
      "execution_count": 0,
      "outputs": []
    },
    {
      "cell_type": "code",
      "metadata": {
        "id": "X8ggu_iUOJV9",
        "colab_type": "code",
        "colab": {}
      },
      "source": [
        "countUpList=range(0,10)\n",
        "for x in countUpList:\n",
        "    print(x)"
      ],
      "execution_count": 0,
      "outputs": []
    },
    {
      "cell_type": "code",
      "metadata": {
        "id": "z-EgEXOaONou",
        "colab_type": "code",
        "colab": {}
      },
      "source": [
        "# a more compact version of the above without defining the countUpList:\n",
        "for x in range(0,10):\n",
        "    print(x)\n",
        "\n",
        "# in general, for loops can iterate over any collection"
      ],
      "execution_count": 0,
      "outputs": []
    },
    {
      "cell_type": "markdown",
      "metadata": {
        "id": "ppiSLNIDO3CQ",
        "colab_type": "text"
      },
      "source": [
        "# List and Dictionary Comprehensions\n",
        "\n",
        "Often you want to loop over one collection and generate another collection from it. Comprehensions allow you to \"transform\" one collection to another collection by operating on the elements of the collection and setting the result as an element in the new collection. \n",
        "\n",
        "You could of course accomplish this with for loops, but comprehensions allow you to do so in a very compact way."
      ]
    },
    {
      "cell_type": "code",
      "metadata": {
        "id": "twpN1MKvPX_1",
        "colab_type": "code",
        "outputId": "b803db3d-c2a8-42a3-a279-70b7dfd94de0",
        "colab": {
          "base_uri": "https://localhost:8080/",
          "height": 34
        }
      },
      "source": [
        "aRange=range(1,6) #defines the list [1,2,3,4,5]\n",
        "aListFromComprehension=[x**2 for x in aRange] # make a new list where each element is the element in aRange squared\n",
        "print(aListFromComprehension)"
      ],
      "execution_count": 0,
      "outputs": [
        {
          "output_type": "stream",
          "text": [
            "[1, 4, 9, 16, 25]\n"
          ],
          "name": "stdout"
        }
      ]
    },
    {
      "cell_type": "markdown",
      "metadata": {
        "id": "OaiqihRbPifx",
        "colab_type": "text"
      },
      "source": [
        "Dictionary comprehensions are very similar to list comprehensions, but they use the curly brackets and you have to specify the key, value pair: "
      ]
    },
    {
      "cell_type": "code",
      "metadata": {
        "id": "4v-PYvcRPq42",
        "colab_type": "code",
        "colab": {
          "base_uri": "https://localhost:8080/",
          "height": 34
        },
        "outputId": "80c65a0b-90a1-4e4d-9850-d23654e65f57"
      },
      "source": [
        "aDict={1:\"Sarah\",2:\"Xia\", 3:\"Arun\"}\n",
        "aDictFromComprehension={k:v+\" is awesome\" for k,v in aDict.items()} \n",
        "print(aDictFromComprehension)"
      ],
      "execution_count": 15,
      "outputs": [
        {
          "output_type": "stream",
          "text": [
            "{1: 'Sarah is awesome', 2: 'Xia is awesome', 3: 'Arun is awesome'}\n"
          ],
          "name": "stdout"
        }
      ]
    },
    {
      "cell_type": "markdown",
      "metadata": {
        "id": "GRanlXi88Pg1",
        "colab_type": "text"
      },
      "source": [
        "# Functions\n",
        "\n",
        "Functions permit you to take a sub-task that you might need to do more than once and separate its functionality from the rest of your code (i.e., modularity)\n",
        "\n",
        "Functions take arguments as inputs and produce some output.\n",
        "\n",
        "Note that the variables defined within a function will not be available to code outside of the function.  Similarly, only the argument variables that are \"passed in\" to the function are available for reference within the function (with the exception of variables that are \"globally defined\").\n",
        "\n",
        "functions are defined like this:\n",
        "```\n",
        "def someFunction(arguments):\n",
        "  codeblock\n",
        "```\n",
        "\n",
        "where the codeblock may include a \"return someVariable\" statement at the end which specifies that someVariable is the output (though every function need not have a return).\n"
      ]
    },
    {
      "cell_type": "code",
      "metadata": {
        "id": "w5PGNVWT84rL",
        "colab_type": "code",
        "outputId": "2711f35e-0d0b-4aff-ca6f-b052e020657d",
        "colab": {
          "base_uri": "https://localhost:8080/",
          "height": 34
        }
      },
      "source": [
        "# define a function\n",
        "def sayHello():\n",
        "  print(\"Hello\")\n",
        "\n",
        "# run the function\n",
        "sayHello()"
      ],
      "execution_count": 0,
      "outputs": [
        {
          "output_type": "stream",
          "text": [
            "Hello\n"
          ],
          "name": "stdout"
        }
      ]
    },
    {
      "cell_type": "code",
      "metadata": {
        "id": "-E8wgaLT9CBc",
        "colab_type": "code",
        "outputId": "39cce83b-11d2-434e-b704-a1c57ae359f8",
        "colab": {
          "base_uri": "https://localhost:8080/",
          "height": 34
        }
      },
      "source": [
        "# define a function with two inputs (num1 and num2) and return the total\n",
        "def addNumbers(num1,num2):\n",
        "  total=num1+num2\n",
        "  return total\n",
        "\n",
        "# run the addNumbers function\n",
        "addNumbers(1,3)"
      ],
      "execution_count": 0,
      "outputs": [
        {
          "output_type": "execute_result",
          "data": {
            "text/plain": [
              "4"
            ]
          },
          "metadata": {
            "tags": []
          },
          "execution_count": 6
        }
      ]
    },
    {
      "cell_type": "markdown",
      "metadata": {
        "id": "06rMn36FNnTM",
        "colab_type": "text"
      },
      "source": [
        "The inputs or \"arguments\" to the function, ```num1``` and ```num2``` get assigned their values when we call the function. So when we ran ```addNumbers(1,3)```, before python ran any of the code inside the function it defined the variables within the function as if we had written:\n",
        "```\n",
        "num1 = 1\n",
        "num2 = 3\n",
        "```\n",
        "that's why, inside the function when we called ```total = num1 + num2``` python was able to calculate the value ```4``` and assign it to ```total```. When it did this, it used the position of the arguments to figure out which value was assigned to which variable name.\n"
      ]
    },
    {
      "cell_type": "markdown",
      "metadata": {
        "id": "ZUXPTSCHfII_",
        "colab_type": "text"
      },
      "source": [
        "\n",
        "***IMPORTANT: Any values passed into a function as arguments and any variables that are defined within a function cannot be accessed by code outside of the function.  Once the function has run, all those things will \"cease to exist\".***"
      ]
    },
    {
      "cell_type": "code",
      "metadata": {
        "id": "8LimI5W49LWW",
        "colab_type": "code",
        "colab": {}
      },
      "source": [
        "# notice that the variable total is only defined within the scope of the function and isn't available outside\n",
        "print(total) #this will return a NameError because 'total' isn't defined"
      ],
      "execution_count": 0,
      "outputs": []
    },
    {
      "cell_type": "code",
      "metadata": {
        "id": "at9_HkmkPbYN",
        "colab_type": "code",
        "outputId": "360bfaf6-6de5-4a20-b8cd-4f36f62129b4",
        "colab": {
          "base_uri": "https://localhost:8080/",
          "height": 164
        }
      },
      "source": [
        "# notice that the argument num1 is not defined outside of the function either:\n",
        "print(num1) #this will return a NameError because 'num1' isn't defined"
      ],
      "execution_count": 0,
      "outputs": [
        {
          "output_type": "error",
          "ename": "NameError",
          "evalue": "ignored",
          "traceback": [
            "\u001b[0;31m---------------------------------------------------------------------------\u001b[0m",
            "\u001b[0;31mNameError\u001b[0m                                 Traceback (most recent call last)",
            "\u001b[0;32m<ipython-input-1-01dfdea16339>\u001b[0m in \u001b[0;36m<module>\u001b[0;34m()\u001b[0m\n\u001b[0;32m----> 1\u001b[0;31m \u001b[0mprint\u001b[0m\u001b[0;34m(\u001b[0m\u001b[0mnum1\u001b[0m\u001b[0;34m)\u001b[0m\u001b[0;34m\u001b[0m\u001b[0;34m\u001b[0m\u001b[0m\n\u001b[0m",
            "\u001b[0;31mNameError\u001b[0m: name 'num1' is not defined"
          ]
        }
      ]
    },
    {
      "cell_type": "markdown",
      "metadata": {
        "id": "BQmoe9sFTv7C",
        "colab_type": "text"
      },
      "source": [
        "On the other hand, you can pass in a variable that you have already defined in your code as an argument to a function:"
      ]
    },
    {
      "cell_type": "code",
      "metadata": {
        "id": "IjCq_aOtT373",
        "colab_type": "code",
        "outputId": "b201ab45-f754-4a75-ddc1-ad01b8f8884e",
        "colab": {
          "base_uri": "https://localhost:8080/",
          "height": 51
        }
      },
      "source": [
        "x = 4\n",
        "tot = addNumbers(x,3) # assign the value returned by addNumbers() to the variable tot\n",
        "print(tot) \n",
        "print(x) # since we defined x as a variable in our main code, we can reference it."
      ],
      "execution_count": 0,
      "outputs": [
        {
          "output_type": "stream",
          "text": [
            "7\n",
            "4\n"
          ],
          "name": "stdout"
        }
      ]
    },
    {
      "cell_type": "markdown",
      "metadata": {
        "id": "tMug20z5UeO_",
        "colab_type": "text"
      },
      "source": [
        "When ```addNumbers(x,4)``` is called above, python will assign the value of x to the variable ```num1``` for use inside the function.  You can access the variable ```x``` after the function has finished running, but not ```num1```."
      ]
    },
    {
      "cell_type": "code",
      "metadata": {
        "id": "b0lJd4cf9ONP",
        "colab_type": "code",
        "colab": {}
      },
      "source": [
        "# run the function again with different inputs:\n",
        "addNumbers(2,6)"
      ],
      "execution_count": 0,
      "outputs": []
    },
    {
      "cell_type": "code",
      "metadata": {
        "id": "LCTAWQTU9STm",
        "colab_type": "code",
        "outputId": "c6b75085-2b7a-460a-a2bd-11b1503d76df",
        "colab": {
          "base_uri": "https://localhost:8080/",
          "height": 34
        }
      },
      "source": [
        "# save the output of the function in a variable\n",
        "someTotal=addNumbers(3,5)\n",
        "print(someTotal)\n"
      ],
      "execution_count": 0,
      "outputs": [
        {
          "output_type": "stream",
          "text": [
            "8\n"
          ],
          "name": "stdout"
        }
      ]
    },
    {
      "cell_type": "markdown",
      "metadata": {
        "id": "j4xRHHNYfTmS",
        "colab_type": "text"
      },
      "source": [
        "It's also possible to call a function using the names of the arguments as keywords instead of letting python infer which argument name gets assigned which argument value by position. Consider this function:"
      ]
    },
    {
      "cell_type": "code",
      "metadata": {
        "id": "RdmTsnuyfZZB",
        "colab_type": "code",
        "colab": {}
      },
      "source": [
        "def divideFunc(numerator, denominator):\n",
        "  result = 1.0*numerator/denominator\n",
        "  return result"
      ],
      "execution_count": 0,
      "outputs": []
    },
    {
      "cell_type": "markdown",
      "metadata": {
        "id": "spJoeBQZgVo0",
        "colab_type": "text"
      },
      "source": [
        "If we supply the names of the arguments with keywords when we call the fucntion, python will assign them appropriately, regardless of their order:"
      ]
    },
    {
      "cell_type": "code",
      "metadata": {
        "id": "I7-RLdOngT-h",
        "colab_type": "code",
        "outputId": "6d1e315f-b020-46a2-c300-7eeb11d43553",
        "colab": {
          "base_uri": "https://localhost:8080/",
          "height": 51
        }
      },
      "source": [
        "res = divideFunc(numerator = 1.0, denominator = 2.0)\n",
        "print(res)\n",
        "\n",
        "res = divideFunc(denominator = 2.0, numerator = 1.0)\n",
        "print(res)\n",
        "# Both function calls will return a result of 0.5"
      ],
      "execution_count": 0,
      "outputs": [
        {
          "output_type": "stream",
          "text": [
            "0.5\n",
            "0.5\n"
          ],
          "name": "stdout"
        }
      ]
    },
    {
      "cell_type": "markdown",
      "metadata": {
        "id": "5WL0qTcNhoSj",
        "colab_type": "text"
      },
      "source": [
        "We can also give a default value to arguments (when we define a function) that will be used if we don't supply a value. If we do, we have to put all the arguments that have a default value at the end of the argument list.\n",
        "\n",
        "Let's modify our ```divideFunc``` to do this:"
      ]
    },
    {
      "cell_type": "code",
      "metadata": {
        "id": "KCjUc8Pch9IV",
        "colab_type": "code",
        "colab": {}
      },
      "source": [
        "def divideFunc(denominator, numerator = 1.0):\n",
        "  result = 1.0*numerator/denominator\n",
        "  return result"
      ],
      "execution_count": 0,
      "outputs": []
    },
    {
      "cell_type": "code",
      "metadata": {
        "id": "G8--iJXwiDjE",
        "colab_type": "code",
        "outputId": "38d7ad9f-62b3-4fba-8cc7-6d5409dba6fa",
        "colab": {
          "base_uri": "https://localhost:8080/",
          "height": 68
        }
      },
      "source": [
        "res = divideFunc(2.0) # because I didn't specify both arguments, python assumes numerator will take its default value of 1.0\n",
        "print(res)\n",
        "\n",
        "res = divideFunc(2.0,1.0) # Here python will infer the arguments by position. So denominator will be assigned 2.0 and numerator will be assigned 1.0\n",
        "print(res)\n",
        "\n",
        "res = divideFunc(numerator = 1.0, denominator = 2.0) # Here python assigns the values to the arguments by keyword\n",
        "print(res)\n",
        "# All the above function calls will return the same value of 0.5"
      ],
      "execution_count": 0,
      "outputs": [
        {
          "output_type": "stream",
          "text": [
            "0.5\n",
            "0.5\n",
            "0.5\n"
          ],
          "name": "stdout"
        }
      ]
    },
    {
      "cell_type": "markdown",
      "metadata": {
        "id": "KnUg1rzWRAZE",
        "colab_type": "text"
      },
      "source": [
        "Finally, if you need to create a quick function that is only used in one place in your code, you can use a **lambda** function.\n",
        "\n",
        "Lambda function can be placed anywhere that you would normally call a function (e.g., `someFunc()`):\n",
        "```\n",
        "y = someFunc(x)\n",
        "```\n",
        "\n",
        "by instead writing:\n",
        "```\n",
        "lambda someInput: someExpressionToOutput\n",
        "```\n",
        "\n",
        "So, for example instead of writing:\n",
        "```\n",
        "def someFunction(x):\n",
        "  return x+2\n",
        "\n",
        "y = someFunction(5)\n",
        "```\n",
        "\n",
        "we could simply write:"
      ]
    },
    {
      "cell_type": "code",
      "metadata": {
        "id": "sy6_IklIRdmx",
        "colab_type": "code",
        "colab": {
          "base_uri": "https://localhost:8080/",
          "height": 34
        },
        "outputId": "988a3c90-b0f4-46b1-87b2-1939244e2915"
      },
      "source": [
        "(lambda x: x + 2)(5)"
      ],
      "execution_count": 1,
      "outputs": [
        {
          "output_type": "execute_result",
          "data": {
            "text/plain": [
              "7"
            ]
          },
          "metadata": {
            "tags": []
          },
          "execution_count": 1
        }
      ]
    },
    {
      "cell_type": "markdown",
      "metadata": {
        "id": "W0cvmK2Dymuv",
        "colab_type": "text"
      },
      "source": [
        "# Working with the OS and Files\n",
        "\n",
        "In python, we will frequently want to use code that others have written to make our job easier. In other words, we need to work with **modules** (often called libraries in other languages). A lot of the core functionality that Python offers is broken up into separate modules that you need to import into your code if you want to use.  The standard way of doing this is:\n",
        "```\n",
        "import modulename\n",
        "```\n",
        "\n",
        "or, if you want to import it as a different name:\n",
        "\n",
        "```\n",
        "import modulename as someName\n",
        "```\n",
        "\n",
        "You may also see\n",
        "```\n",
        "from modulename import object\n",
        "```\n",
        "which is used to import one of the objects that a module contains.\n",
        "\n",
        "\n",
        "Here we will import the os module to access some elements of the filesystem.\n",
        "\n",
        "Every operating system provides functionality to programs -- one part of which is accessing and manipulating the file system. This will allow us to do things like:\n",
        "* get or change the current working directory\n",
        "* access environment variables\n",
        "* navigate the file system (deal with file paths)\n",
        "* work with users and groups\n",
        "\n",
        "Here we will only use it to get the name of the OS and to get the current working directory."
      ]
    },
    {
      "cell_type": "code",
      "metadata": {
        "id": "p3k3OzbjypEt",
        "colab_type": "code",
        "outputId": "387c42c2-1570-4f09-d5a1-96d1347fe82d",
        "colab": {
          "base_uri": "https://localhost:8080/",
          "height": 51
        }
      },
      "source": [
        "import os # import the os module\n",
        "\n",
        "#get the name of the os\n",
        "print(os.name)\n",
        "print(os.getcwd())\n",
        "\n",
        "#os.mkdir('./test')\n"
      ],
      "execution_count": 0,
      "outputs": [
        {
          "output_type": "stream",
          "text": [
            "posix\n",
            "/content\n"
          ],
          "name": "stdout"
        }
      ]
    },
    {
      "cell_type": "markdown",
      "metadata": {
        "id": "2CxUGpH6_JKM",
        "colab_type": "text"
      },
      "source": [
        "Now lets open a file for writing, write some content into it and close the file."
      ]
    },
    {
      "cell_type": "code",
      "metadata": {
        "id": "469KJpNn9gWl",
        "colab_type": "code",
        "colab": {}
      },
      "source": [
        "myfile = open('myfile.txt','w') # open a file for writing\n",
        "myfile.write(\"Hello World.\\n\") # write a line to the file\n",
        "myfile.close() # close the file\n"
      ],
      "execution_count": 0,
      "outputs": []
    },
    {
      "cell_type": "markdown",
      "metadata": {
        "id": "55MAQjKQ_hif",
        "colab_type": "text"
      },
      "source": [
        "However, there is a more common way that is used to open files or really any object that has a notion of \"open\" and \"close\" (or \"enter\" and \"exit\") -- such as a resource that you want to use temporarily but eventually let go.\n",
        "\n",
        "The approach I'm talking about is the  \"with... as\" pattern and it looks like this:\n",
        "```\n",
        "with someValue as someVariable:\n",
        "  do something with someVariable here\n",
        "```\n",
        "\n",
        "You don't have to worry too much about what is happening here -- I just want you to be aware of the \"with...as\" pattern because it is useful, used regularly by many, and you will see it again later when we talk about neural networks.  [You can read more about it if you want](https://www.geeksforgeeks.org/with-statement-in-python/), but for now just think of it as a way to ensure that the file is closed properly after we write to it."
      ]
    },
    {
      "cell_type": "code",
      "metadata": {
        "id": "BE8PEQAq_N13",
        "colab_type": "code",
        "colab": {}
      },
      "source": [
        "# There's another more common way to open a file that ensures that it will be closed when you are done:\n",
        "with open('myfile2.txt','w') as f:\n",
        "  f.write(\"Testing.\")\n",
        "# notice we don't have to call f.close()"
      ],
      "execution_count": 0,
      "outputs": []
    },
    {
      "cell_type": "markdown",
      "metadata": {
        "id": "HSF43xkt1f5o",
        "colab_type": "text"
      },
      "source": [
        "After running the above two code cells, you have actually created files on the machine that google is using to host your colab session. Where are these files? (I'm glad you asked).\n",
        "\n",
        "You  can see the files on a Google Colab hosted machine by clicking the little right arrow to open up thenavigation  pane:\n",
        "<img src=\"https://drive.google.com/uc?id=1datflIPAEGViv9IRUCSAm5rTbqM1tHFZ\" width=400>\n",
        "\n",
        "This is the navigation pane. Now select the Files tab:\n",
        "<img src=\"https://drive.google.com/uc?id=1-bQ-6798HfIZ5YbueBED8CpcxsCHxidR\" width=700>\n",
        "\n",
        "Double click on \"myfile.txt\". You should see it open on the screen and display the contents of the file.  Have a look at both files that you created. You can even edit the contents of the files if you want and save them using this very lightweight editor. Try this out now and save it, then we'll read the file back again to see what you wrote.\n",
        "\n",
        "We can also open an existing file for reading. The procedure is similar, but instead of using the argument 'w' (for 'write') in the open() function, we will use 'r' (for 'read'):\n",
        "\n"
      ]
    },
    {
      "cell_type": "code",
      "metadata": {
        "id": "DyJVK4HwzBHF",
        "colab_type": "code",
        "outputId": "5240bfc5-947e-47bd-9c75-6d03b2e82202",
        "colab": {
          "base_uri": "https://localhost:8080/",
          "height": 51
        }
      },
      "source": [
        "with open('myfile.txt','r') as f:\n",
        "  lines=f.readlines() # the readlines() method of the file object will return all the lines in the file as a list (one element for each line)\n",
        "\n",
        "print(type(lines))\n",
        "print(lines)\n"
      ],
      "execution_count": 0,
      "outputs": [
        {
          "output_type": "stream",
          "text": [
            "<class 'list'>\n",
            "['Hello World.\\n']\n"
          ],
          "name": "stdout"
        }
      ]
    },
    {
      "cell_type": "markdown",
      "metadata": {
        "id": "7pZlcxyLE6ap",
        "colab_type": "text"
      },
      "source": [
        "Notice that the readlines() method of the file object returns a list.\n",
        "\n",
        "Also notice that the newline character ('\\n') terminates the string. Often you will have to process the lines of a file if you want to get rid of these and other artifacts.\n",
        "\n",
        "It is also possible to open a *binary* file for writing or reading with the 'wb' and 'wr' arguments, if you want to store binary information in a file.\n",
        "\n",
        "We can use the os module to do more. For example, we can create a new directory. Let's try this now:\n"
      ]
    },
    {
      "cell_type": "code",
      "metadata": {
        "id": "-YGacSdchsiZ",
        "colab_type": "code",
        "outputId": "634e630e-567c-4e33-a69d-f0688a876099",
        "colab": {
          "base_uri": "https://localhost:8080/",
          "height": 34
        }
      },
      "source": [
        "# Use the os module to create a new directory\n",
        "os.mkdir('./test') # this will create a new folder called \"test\" in the current working directory. \n",
        "#  The \"./\" means \"here\", as in \"I want you to make the folder test here, in the current working directory\"\n",
        "\n",
        "# We can now change the working directory to the one we just created.\n",
        "os.chdir(\"./test\")\n",
        "print(os.getcwd())\n",
        "\n",
        "os.chdir(\"/content\") # change the current working directory back again"
      ],
      "execution_count": 0,
      "outputs": [
        {
          "output_type": "stream",
          "text": [
            "/content\n"
          ],
          "name": "stdout"
        }
      ]
    },
    {
      "cell_type": "markdown",
      "metadata": {
        "id": "aDsxF-U2ibz3",
        "colab_type": "text"
      },
      "source": [
        "Note that we can use the file browser in google colab to see the directory we just created. We can right click on it to delete it if we want.\n",
        "\n",
        "More details on the os module can be found in [the Python3 docs for os](https://docs.python.org/3.8/library/os.html)\n",
        "\n",
        "More details on working with files can be found in [the Python3 docs for files](https://docs.python.org/3.8/tutorial/inputoutput.html?highlight=files#reading-and-writing-files)"
      ]
    },
    {
      "cell_type": "markdown",
      "metadata": {
        "id": "EX9cCMUj_mGV",
        "colab_type": "text"
      },
      "source": [
        "# Test your knowledge of Lists and Dictionaries\n",
        "\n",
        "* In the codeblock below, create a list object to store the names of actors in you favorite movie(s). \n",
        "* Now add some names to it.\n",
        "* Print out the entire list\n",
        "\n",
        "\n"
      ]
    },
    {
      "cell_type": "code",
      "metadata": {
        "id": "4vZ2fCiIAF9D",
        "colab_type": "code",
        "colab": {}
      },
      "source": [
        "# Test you knowledge of lists and dictionaries-- enter you code in this cell\n",
        "\n",
        "# Make your list of actors in your favorite movie(s)\n",
        "\n",
        "\n"
      ],
      "execution_count": 0,
      "outputs": []
    },
    {
      "cell_type": "markdown",
      "metadata": {
        "id": "sjZRGK_AFm55",
        "colab_type": "text"
      },
      "source": [
        "* Now create a dictionary where each key is a character from a movie and the corresponding value is the name of the actor that played that character.\n",
        "* Using your dictionary, print out only the actors names\n",
        "* Using your dictionary, print out only the character names"
      ]
    },
    {
      "cell_type": "code",
      "metadata": {
        "id": "ksQKQHONFsw1",
        "colab_type": "code",
        "colab": {}
      },
      "source": [
        "# Make your dictionary\n",
        "\n",
        "# print out only the actors names\n",
        "\n",
        "# print out only the character names\n"
      ],
      "execution_count": 0,
      "outputs": []
    },
    {
      "cell_type": "markdown",
      "metadata": {
        "id": "kCpoD2dfALmR",
        "colab_type": "text"
      },
      "source": [
        "# Test your knowledge of Functions\n",
        "\n",
        "Write a function that takes two arguments, a list and a string. The string should be the name of an actor. The list should be the same list that you defined above. The function should check whether the string is in the list and, if so, print out a saying such as \"Yes, Bruce Willis is in die hard.\"\n",
        "\n",
        "* Write the function described above\n",
        "* Run it by calling the function and passing it two arguments, the name of an actor and the list you created from the last exercise."
      ]
    },
    {
      "cell_type": "code",
      "metadata": {
        "id": "IT_RHEEbCkzs",
        "colab_type": "code",
        "colab": {}
      },
      "source": [
        "# Test your knowledge of functions\n",
        "\n",
        "# define your function\n",
        "\n",
        "# Run your function by passing it a string of an actor's name and the list you created in the last exercise\n"
      ],
      "execution_count": 0,
      "outputs": []
    },
    {
      "cell_type": "markdown",
      "metadata": {
        "id": "CnA_iNnnKOd1",
        "colab_type": "text"
      },
      "source": [
        "# Test your knowledge of Files\n",
        "\n",
        "Often, programs use files to store information so that it persists even after the program has been closed.  This could include information that the user entered, the state of the program, custom settings the user may have changed and so on.\n",
        "\n",
        "In order to do this, the programmer has to translate this information into something that can be saved in a file (or many files). Remember a text file is just a sequence of characters (including commas, new lines, etc.). A binary file is just a sequence of bits.  We have to know how to interpret these characters or bits in order to make sense of the file. In other words, we have to know the format of the file. Let's understand this by trying to make our own file format.\n",
        "\n",
        "Do the following in the code blocks below:\n",
        "1. Write a program to save to a file the list of actors in your favorite movie that you made earlier.\n",
        " - note: you cannot just \"write\" a list to a file using f.write(someList). You can only write strings to a text file, so you will have to loop over its elements. \n",
        "2. Write a program to open the file you created in (1) and read from it to \"re-create\" the list of actors in your favorite movie from the file.\n"
      ]
    },
    {
      "cell_type": "code",
      "metadata": {
        "id": "i1rbpPPJX29O",
        "colab_type": "code",
        "colab": {}
      },
      "source": [
        "# 1. Below, write a program to write the list of actors in your favorite movie to a file\n"
      ],
      "execution_count": 0,
      "outputs": []
    },
    {
      "cell_type": "code",
      "metadata": {
        "id": "FXP1F9SQYCUW",
        "colab_type": "code",
        "colab": {}
      },
      "source": [
        "# 2. Below, write a program to open the file from (1) and read the list of actors in your favorite movie into a list. Then, print out the list.\n"
      ],
      "execution_count": 0,
      "outputs": []
    },
    {
      "cell_type": "markdown",
      "metadata": {
        "id": "wzyNrJZfYN9a",
        "colab_type": "text"
      },
      "source": [
        "Congratulations!  Now you know how to save a list of strings to a file.\n",
        "\n",
        "What about a more complicated structure like a dictionary?  Remember, a dictionary stores key/value pairs. If you wanted to write the contents of a dictionary to a file, you need a way to distinguish each pair from one another and to distinguish the key from the value.\n",
        "\n",
        "Do the following in the code blocks below:\n",
        "3. Write a program to save to a file the dictionary of character names/actor names that you made earlier.\n",
        " - note: that you cannot just \"write\" a dictionary to a file using f.write(someDictionary). You can only write strings to a text file, so you will have to loops over the items of the dictionary and come up with a scheme -- i.e., find a way to write the key and the value together in some way that you can distinguish them.\n",
        "    - Hint: You can make use of special characters (such as \",\" or \":\") as *separators* to separate the key part fron the value part of a single string. You may need to use string methods like join() and split().\n",
        "4. Write a program to open the file you created in (3) and read from it to \"recreate\" the the dictionary of character names/actor names in your favorite movie. \n",
        "  - Hint: Whatever scheme you decided to use in (3) to distinguish the key part from the value part of a string, you will have to be aware of it and use string methods like split() to break up the string into its separate parts.\n",
        "\n",
        "\n",
        "\n"
      ]
    },
    {
      "cell_type": "code",
      "metadata": {
        "id": "qygTKzwAa9sM",
        "colab_type": "code",
        "colab": {}
      },
      "source": [
        "# 3. Below, write a program to write the dictionary of character names/actor names into a file."
      ],
      "execution_count": 0,
      "outputs": []
    },
    {
      "cell_type": "code",
      "metadata": {
        "id": "3SDn6yrabIuR",
        "colab_type": "code",
        "colab": {}
      },
      "source": [
        "# 4. Below, write a program to open the file from (3) and read the contents and recreate the dictionary of character names/actor names. Then, print out the dictionary."
      ],
      "execution_count": 0,
      "outputs": []
    },
    {
      "cell_type": "markdown",
      "metadata": {
        "id": "076A3qP2-NKl",
        "colab_type": "text"
      },
      "source": [
        "# Example Program - Allow user to input cost of items, then calculate the total\n",
        "\n",
        "Below is a small program to total up the cost of items (along with tax).\n",
        "\n",
        "The program takes input from the user by using the input() function.\n",
        "\n",
        "Do the following:\n",
        "* Run the program\n",
        "* Read through the code and ensure that you understand it.\n",
        " - Pay particular attention to the while loop is used to gather the cost of different items from the user until an empty string is entered\n",
        " - Make sure you understand how if/else codeblocks are used\n",
        " "
      ]
    },
    {
      "cell_type": "code",
      "metadata": {
        "id": "Z7WSwoVr9mK9",
        "colab_type": "code",
        "outputId": "6ca8d209-76d6-4487-85b4-589ad2178d07",
        "colab": {
          "base_uri": "https://localhost:8080/",
          "height": 136
        }
      },
      "source": [
        "# EXAMPLE PROGRAM\n",
        "# A program to calculate a cash register receipt and handle tax exempt customers\n",
        "\n",
        "# we assume tax is always 5%\n",
        "tax_rate = .05            \n",
        "\n",
        "# we start with a subtotal of zero (so we have something to add to)\n",
        "subtotal = 0            \n",
        "\n",
        "# keep track of whether we are still getting data\n",
        "getting_data = True        \n",
        "\n",
        "# assume customer is not tax exempt until we hear otherwise\n",
        "tax_exempt = False        \n",
        "\n",
        "# first ask customer if they are tax exempt\n",
        "response = input(\"Tax exempt? (y or n): \")\n",
        "if response == \"y\":\n",
        "  tax_exempt = True\n",
        "\n",
        "# next, get items until user doesn't enter anything\n",
        "while getting_data:\n",
        "  # prompt user for item\n",
        "  item = input(\"Item: \")        \n",
        "  if item == \"\":\n",
        "    # if user didn't enter anything we are done collecting numbers\n",
        "    getting_data = False\n",
        "  else :\n",
        "    # otherwise update our running subtotal\n",
        "    subtotal = subtotal + float(item)        \n",
        "\n",
        "# next calculate tax: if tax exempt, then tax is zero\n",
        "if tax_exempt:\n",
        "  tax = 0\n",
        "else:\n",
        "  tax = tax_rate * subtotal\n",
        "\n",
        "# now calculate grand total\n",
        "total = subtotal + tax\n",
        "\n",
        "# all done: print our results\n",
        "print(\"Subtotal: \", subtotal)\n",
        "print(\"Tax: \", tax)\n",
        "print(\"Total: \", total)\n"
      ],
      "execution_count": 0,
      "outputs": [
        {
          "output_type": "stream",
          "text": [
            "Tax exempt? (y or n): n\n",
            "Item: 54.30\n",
            "Item: 3.13\n",
            "Item: \n",
            "Subtotal:  57.43\n",
            "Tax:  2.8715\n",
            "Total:  60.3015\n"
          ],
          "name": "stdout"
        }
      ]
    },
    {
      "cell_type": "markdown",
      "metadata": {
        "id": "27L1-8wubY20",
        "colab_type": "text"
      },
      "source": [
        "# Exercise: RPG Character Creator\n",
        "\n",
        "Write a program to let users create their own Role Playing Game characters and save them.\n",
        "\n",
        "A character should have:\n",
        " - A name (e.g., \"Dylanus the Magnificent\")\n",
        " - A class (e.g., Fighter, Wizard, Thief)\n",
        " - A race (e.g., Human, Elf, Goblin)\n",
        " - Attributes (e.g., Strength, Intelligence, Dexterity).\n",
        "   - Each attribute has an integer from 1 to 10 that represents how strong the character is in that attribute.\n",
        "\n",
        "So for example the details of a character might looks like this:\n",
        "Name: Dylanus the Magnificent\n",
        "Class: Wizard\n",
        "Race: Goblin\n",
        "Attributes: Strength - 5, Intelligence - 7, Dexterity - 3\n",
        "\n",
        "Don't use the race, classes and attributes that I've given in the example above, but instead make up your own. It will be more fun if you pick a context that is interesting to you. Maybe the character is for:\n",
        " - a zombie apocalypse\n",
        " - a war between robots or alien species\n",
        " - police detectives battling crime\n",
        " - lawyers and judges battling in a courtroom\n",
        " - students trying to survive a tought degree program\n",
        "\n",
        "\n",
        "Your program should:\n",
        "* Use functions\n",
        "* Use loops\n",
        "* Get input from the user (e.g., \"Enter the character name:\")\n",
        "* Use lists and/or dictionaries to save the details of a character in memory (i.e., variables)\n",
        "* Save a character to a file after they've been created\n",
        "* Read a character from a file into its \"original data structure\"\n"
      ]
    },
    {
      "cell_type": "code",
      "metadata": {
        "id": "xp31ME4kd-Gs",
        "colab_type": "code",
        "colab": {}
      },
      "source": [
        "# Challenge 1: RPG Character Creator\n"
      ],
      "execution_count": 0,
      "outputs": []
    },
    {
      "cell_type": "code",
      "metadata": {
        "id": "qIGVTaDVenxG",
        "colab_type": "code",
        "colab": {}
      },
      "source": [
        "# Challenge 1 - test it\n",
        "# It's always a good idea when you write some code to also come up with some code that tests it."
      ],
      "execution_count": 0,
      "outputs": []
    }
  ]
}