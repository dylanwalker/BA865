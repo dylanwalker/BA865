{
  "nbformat": 4,
  "nbformat_minor": 0,
  "metadata": {
    "colab": {
      "name": "BA865 - Lecture 03.ipynb",
      "provenance": [],
      "private_outputs": true,
      "collapsed_sections": [
        "7uHngbjpZ3Cg",
        "_4KUj_vgZwsY",
        "DKpyIXPFZsHI",
        "AhqM844AduC8",
        "PUnl7hKVjIsm",
        "7MLUDXnojIsn",
        "3Opas8LijIs9",
        "TEk1PTBXjIuY",
        "m9CAklChZcW-",
        "xr6tmZT2ZYrV",
        "MAH29O3mjIu-",
        "rUtRMs0fjIvc",
        "d4fRDYtkY_lQ",
        "2vfNewrJY6Uw",
        "JD1ShZlQY1hJ",
        "Y4nLBsH_YuH8",
        "KizFcLUsAMvG",
        "XIBRd2pxGwsw",
        "A7Emh3rcMklV",
        "cluZj35aa40S",
        "KalgJRuWvlS_",
        "xk_bkdNhVT5_",
        "8vGTQHg1VPbV",
        "-EOICz-PVLDZ",
        "ZI9CqKk1VGbe",
        "Ox0Y7boWUrSm",
        "byyCjuglUwA6",
        "C68nz1jBS6tK"
      ],
      "include_colab_link": true
    },
    "kernelspec": {
      "name": "python3",
      "display_name": "Python 3"
    }
  },
  "cells": [
    {
      "cell_type": "markdown",
      "metadata": {
        "id": "view-in-github",
        "colab_type": "text"
      },
      "source": [
        "<a href=\"https://colab.research.google.com/github/dylanwalker/BA865/blob/master/BA865_Lecture_03.ipynb\" target=\"_parent\"><img src=\"https://colab.research.google.com/assets/colab-badge.svg\" alt=\"Open In Colab\"/></a>"
      ]
    },
    {
      "cell_type": "markdown",
      "metadata": {
        "id": "i9ehNX6oPURk",
        "colab_type": "text"
      },
      "source": [
        "# Numpy - A Module for Scientific Computing\n",
        "![](https://drive.google.com/uc?id=1K1CAmcBTb97VGWp-AKydGK_TEQ-95Js7)\n",
        "## Why Numpy?\n",
        "We have seen collections in Python and how useful they are. However, when it comes to handling numerical data, such as storing and computing large arrays or matrices of numbers, collections are not appropriate. The reason for this is that collections can handle heterogenous types of data -- you can have a list with elements that are floats, strings, ints, other lists, etc. This means that the items in a list can't be stored contiguously in memory, making it slower to access each successive item. \n",
        "\n",
        "Numpy allows you to define an array or matrix of elements which are all the same data type (which is often the case for many applications in data science). This means that numpy can store the elements contiguously in memory and also take advantage of many computationally efficient tricks to speed up calculations.\n",
        "\n",
        "Here is a comparison of how lists store items in memory compared to how numpy stores an array:\n",
        "\n",
        "![](https://drive.google.com/uc?id=1dvdA39EgYWkkVX2rJmeq871vVewdXEsU)\n",
        "\n",
        "In a list, pointers to each object (the items) are stored in a contiguous block of memory. A pointer is just the actual memory address where the object itself is located.  Because pointers are a fixed size (e.g., 64 bits), its easy to start at the top and then zip through the memory in chunks of the pointer size (i.e., in 64 bit increments) to get the location of the object you want. \n",
        "\n",
        "In order to access the third item of a list, Python first accesses the location in memory where the pointers to items start and then travel ahead by (3-1)*64 bits, reads the next 64 bits to get the address, and then looks in the memory location at that address to find the object. This involves two reference lookups and jumping around in memory.\n",
        "\n",
        "In contrast, because the elements of a numpy array are all the same type (e.g., a float), they have fixed size and they can all be stored in sequentially in memory.  This means we can read the third element of a numpy array by just looking at the address where the array starts and looking ahead by (3-1)*sizeof(element) and the just reading sizeof(element) bits. This doesn't involve looking to a second location in memory and is therefore much faster.\n",
        "\n",
        "In addition, numpy implements its routines to process computations in C, which means it can do all sorts of low-level tricks to parallelize computations and take advantage of special linear algebra libraries in C that speedup common matrix operations (such as intel's Math Kernel Library)\n",
        "\n",
        "\n",
        "\n",
        "\n",
        "\n"
      ]
    },
    {
      "cell_type": "markdown",
      "metadata": {
        "id": "7uHngbjpZ3Cg",
        "colab_type": "text"
      },
      "source": [
        "# Using Numpy - Getting Started"
      ]
    },
    {
      "cell_type": "markdown",
      "metadata": {
        "id": "DQIjLNxbUgEQ",
        "colab_type": "text"
      },
      "source": [
        "\n",
        "\n",
        "Before we can use numpy, we first have to import it. We'll import it as the name ```np``` so that we won't need to keep typing ```numpy.``` everywhere:"
      ]
    },
    {
      "cell_type": "code",
      "metadata": {
        "id": "Q8sIOWZgPOFS",
        "colab_type": "code",
        "colab": {}
      },
      "source": [
        "import numpy as np"
      ],
      "execution_count": 0,
      "outputs": []
    },
    {
      "cell_type": "markdown",
      "metadata": {
        "id": "LQ0b_XTSVCBS",
        "colab_type": "text"
      },
      "source": [
        "Now let's make a simply array of ints:"
      ]
    },
    {
      "cell_type": "code",
      "metadata": {
        "id": "vzAKiepSUn1f",
        "colab_type": "code",
        "colab": {}
      },
      "source": [
        "#Make an array\n",
        "np.array([2,3,7,-1,5])"
      ],
      "execution_count": 0,
      "outputs": []
    },
    {
      "cell_type": "markdown",
      "metadata": {
        "id": "8wFL2OJgVdqS",
        "colab_type": "text"
      },
      "source": [
        "Notice that we didn't tell Python what data type the array should hold.  It guessed it based on the elements of the list we provided as the argument to ```np.array()```. In the above case, it guessed that elements were ints.\n",
        "\n",
        "We can specify the data type with the ```dtype``` keyword:"
      ]
    },
    {
      "cell_type": "code",
      "metadata": {
        "id": "XIWtYyswV_pZ",
        "colab_type": "code",
        "colab": {}
      },
      "source": [
        "np.array([2, 3, 7, -1,5], dtype='float32')"
      ],
      "execution_count": 0,
      "outputs": []
    },
    {
      "cell_type": "markdown",
      "metadata": {
        "id": "3ebW6TgyVGOY",
        "colab_type": "text"
      },
      "source": [
        "Remember that the elements of a numpy array all have to be the same data type. If we try to make an array of different data types, numpy would \"upconvert\" the elements so that the data types of all elements match: \n",
        "\n"
      ]
    },
    {
      "cell_type": "code",
      "metadata": {
        "id": "owzP4_YuWn6f",
        "colab_type": "code",
        "colab": {}
      },
      "source": [
        "np.array([1,3,5.0,3]) # numpy will upconvert to float"
      ],
      "execution_count": 0,
      "outputs": []
    },
    {
      "cell_type": "code",
      "metadata": {
        "id": "SWGyG9QtVcyH",
        "colab_type": "code",
        "colab": {}
      },
      "source": [
        "np.array([1,5,\"hello\"]) # numpy will upconvert to a fixed-size type that can handle characters"
      ],
      "execution_count": 0,
      "outputs": []
    },
    {
      "cell_type": "markdown",
      "metadata": {
        "id": "mBU5jaWmXRtG",
        "colab_type": "text"
      },
      "source": [
        "We can also create multi-dimensional arrays:"
      ]
    },
    {
      "cell_type": "code",
      "metadata": {
        "id": "5LiYE3W8XVBZ",
        "colab_type": "code",
        "colab": {}
      },
      "source": [
        "np.array( [ [1,5,0], [0,1,0], [-1,3,2] ] )"
      ],
      "execution_count": 0,
      "outputs": []
    },
    {
      "cell_type": "markdown",
      "metadata": {
        "id": "9dtJ8FtaXrbA",
        "colab_type": "text"
      },
      "source": [
        "## Creating Arrays from Scratch\n",
        "\n",
        "Often we will want to start with an array that we will later fill with data. Numpy has some useful methods for this:\n",
        "- ```np.ones()``` -- create an array filled with ones\n",
        "- ```np.zeros()``` -- create an array filled with zeros\n",
        "- ```np.full()``` -- create an array filled with a particular value\n",
        "- ```np.eye()``` -- create an array that is the identity matrix, with ones on the diagonal and zeros elsewhere\n",
        "- ```np.empty()``` -- create an array without filling the values, the values will be whatever happens to be in the memory location.\n"
      ]
    },
    {
      "cell_type": "code",
      "metadata": {
        "id": "daqeGM3UZbvT",
        "colab_type": "code",
        "colab": {}
      },
      "source": [
        "# Create a length-10 integer array filled with zeros\n",
        "np.zeros(10, dtype=int)"
      ],
      "execution_count": 0,
      "outputs": []
    },
    {
      "cell_type": "code",
      "metadata": {
        "id": "h5T07xaQagn2",
        "colab_type": "code",
        "colab": {}
      },
      "source": [
        "# Create a 3x5 floating-point array filled with ones\n",
        "np.ones((3, 5), dtype=float)"
      ],
      "execution_count": 0,
      "outputs": []
    },
    {
      "cell_type": "code",
      "metadata": {
        "id": "mrEXttkhajRG",
        "colab_type": "code",
        "colab": {}
      },
      "source": [
        "# Create a 3x5 array filled with 3.14\n",
        "np.full((3, 5), 3.14)"
      ],
      "execution_count": 0,
      "outputs": []
    },
    {
      "cell_type": "code",
      "metadata": {
        "id": "phdd34eRcXDe",
        "colab_type": "code",
        "colab": {}
      },
      "source": [
        "# Create a 3x3 identity matrix\n",
        "np.eye(3)"
      ],
      "execution_count": 0,
      "outputs": []
    },
    {
      "cell_type": "code",
      "metadata": {
        "id": "ry2fOgflcabP",
        "colab_type": "code",
        "colab": {}
      },
      "source": [
        "# Create an uninitialized array of three integers\n",
        "# The values will be whatever happens to already exist at that memory location\n",
        "np.empty(3)"
      ],
      "execution_count": 0,
      "outputs": []
    },
    {
      "cell_type": "markdown",
      "metadata": {
        "id": "tzqXuQlAZafD",
        "colab_type": "text"
      },
      "source": [
        "And some methods to fill arrays with sequences:\n",
        "- ```np.arange()``` - create an array in steps between a start and end value\n",
        "- ```np.linspace()``` - create an array of values evenly spaced between a start and end value\n",
        "\n"
      ]
    },
    {
      "cell_type": "code",
      "metadata": {
        "id": "Qu9VTYTWZcV1",
        "colab_type": "code",
        "colab": {}
      },
      "source": [
        "# Create an array filled with a linear sequence\n",
        "# Starting at 0, ending at 20, stepping by 2\n",
        "# (this is similar to the built-in range() function)\n",
        "np.arange(0, 20, 2)"
      ],
      "execution_count": 0,
      "outputs": []
    },
    {
      "cell_type": "code",
      "metadata": {
        "id": "VVGJRny6bRft",
        "colab_type": "code",
        "colab": {}
      },
      "source": [
        "# Create an array of five values evenly spaced between 0 and 1\n",
        "np.linspace(0, 1, 5)"
      ],
      "execution_count": 0,
      "outputs": []
    },
    {
      "cell_type": "markdown",
      "metadata": {
        "id": "W6011UNwZWaQ",
        "colab_type": "text"
      },
      "source": [
        "\n",
        "And some methods to fill arrays with random numbers (from different types of distributions:\n",
        "- ```np.random.random()``` - create an array with random numbers uniformly spaced between a start and end value.\n",
        "- ```np.random.normal()``` - create an array with random numbers normally distributed with some mean and standard deviation.\n",
        "- ```np.random.randint()``` - create an array of random integers between some start and end value."
      ]
    },
    {
      "cell_type": "code",
      "metadata": {
        "id": "KgPSbZN0bvGF",
        "colab_type": "code",
        "colab": {}
      },
      "source": [
        "# Create a 3x3 array of uniformly distributed\n",
        "# random values between 0 and 1\n",
        "np.random.random((3, 3))"
      ],
      "execution_count": 0,
      "outputs": []
    },
    {
      "cell_type": "code",
      "metadata": {
        "id": "LdjtcI1QZd1K",
        "colab_type": "code",
        "colab": {}
      },
      "source": [
        "# Create a 3x3 array of normally distributed random values\n",
        "# with mean 0 and standard deviation 1\n",
        "np.random.normal(0, 1, (3, 3))"
      ],
      "execution_count": 0,
      "outputs": []
    },
    {
      "cell_type": "code",
      "metadata": {
        "id": "2EI6c1Xxb9Hq",
        "colab_type": "code",
        "colab": {}
      },
      "source": [
        "# Create a 3x3 array of random integers in the interval [0, 10)\n",
        "np.random.randint(0, 10, (3, 3))"
      ],
      "execution_count": 0,
      "outputs": []
    },
    {
      "cell_type": "markdown",
      "metadata": {
        "id": "_4KUj_vgZwsY",
        "colab_type": "text"
      },
      "source": [
        "# Exercise: Dice Roller"
      ]
    },
    {
      "cell_type": "markdown",
      "metadata": {
        "id": "EBhTXtWRHqtx",
        "colab_type": "text"
      },
      "source": [
        "\n",
        "\n",
        "Write a small dice-rolling function. The function should take two inputs: the number of sides of the die and the number of rolls. It should return a numpy array holding the values of the rolls.\n"
      ]
    },
    {
      "cell_type": "code",
      "metadata": {
        "id": "SBjUGDpOL6VH",
        "colab_type": "code",
        "colab": {}
      },
      "source": [
        "def diceRoller(numSides,numRolls):\n",
        "  # Enter your code here\n",
        "\n",
        "# Test it out with some inputs:\n",
        "diceRoller(6,10)\n",
        "diceRoller(20,3)"
      ],
      "execution_count": 0,
      "outputs": []
    },
    {
      "cell_type": "markdown",
      "metadata": {
        "id": "DKpyIXPFZsHI",
        "colab_type": "text"
      },
      "source": [
        "# Numpy Data Types - Reference"
      ]
    },
    {
      "cell_type": "markdown",
      "metadata": {
        "id": "AhqM844AduC8",
        "colab_type": "text"
      },
      "source": [
        "\n",
        "\n",
        "It is useful to be familiar with the different data types that numpy can use. Picking the right data type for your task is essential, particularly when working with large-scale data, so that you use \"just enough\" space in memory to accomplish what you need.\n",
        "\n",
        "There are two ways to do this:"
      ]
    },
    {
      "cell_type": "code",
      "metadata": {
        "id": "PdeiFva3eRoz",
        "colab_type": "code",
        "colab": {}
      },
      "source": [
        "np.zeros(10, dtype='int16') # specify the data type with a string"
      ],
      "execution_count": 0,
      "outputs": []
    },
    {
      "cell_type": "code",
      "metadata": {
        "id": "GRrQjLFdeWHE",
        "colab_type": "code",
        "colab": {}
      },
      "source": [
        "np.zeros(10, dtype=np.int16) # specify the data type with the numpy type object"
      ],
      "execution_count": 0,
      "outputs": []
    },
    {
      "cell_type": "markdown",
      "metadata": {
        "id": "5Jt-x54aedP7",
        "colab_type": "text"
      },
      "source": [
        "\n",
        "Here is a table of the different data types:\n",
        "\n",
        "\n",
        "| Data type | Description | \n",
        "|---------------|-------------| \n",
        "| ``bool_`` | Boolean (True or False) stored as a byte | \n",
        "| ``int_`` | Default integer type (same as C ``long``; normally either ``int64`` or ``int32``)| \n",
        "| ``intc`` | Identical to C ``int`` (normally ``int32`` or ``int64``)| \n",
        "| ``intp`` | Integer used for indexing (same as C ``ssize_t``; normally either ``int32`` or ``int64``)| \n",
        "| ``int8`` | Byte (-128 to 127)| \n",
        "| ``int16`` | Integer (-32768 to 32767)| \n",
        "| ``int32`` | Integer (-2147483648 to 2147483647)| \n",
        "| ``int64`` | Integer (-9223372036854775808 to 9223372036854775807)| \n",
        "| ``uint8`` | Unsigned integer (0 to 255)| \n",
        "| ``uint16`` | Unsigned integer (0 to 65535)| \n",
        "| ``uint32`` | Unsigned integer (0 to 4294967295)| \n",
        "| ``uint64`` | Unsigned integer (0 to 18446744073709551615)| \n",
        "| ``float_`` | Shorthand for ``float64``.| \n",
        "| ``float16`` | Half precision float: sign bit, 5 bits exponent, 10 bits mantissa| \n",
        "| ``float32`` | Single precision float: sign bit, 8 bits exponent, 23 bits mantissa| \n",
        "| ``float64`` | Double precision float: sign bit, 11 bits exponent, 52 bits mantissa| \n",
        "| ``complex_`` | Shorthand for ``complex128``.| \n",
        "| ``complex64`` | Complex number, represented by two 32-bit floats| \n",
        "| ``complex128``| Complex number, represented by two 64-bit floats| \n",
        "\n",
        "\n",
        "More advanced type specification is possible, such as specifying big or little endian numbers; for more information, refer to the [Numpy documentation](http://numpy.org/). \n"
      ]
    },
    {
      "cell_type": "markdown",
      "metadata": {
        "id": "PUnl7hKVjIsm",
        "colab_type": "text"
      },
      "source": [
        "# Using Numpy - Array Basics"
      ]
    },
    {
      "cell_type": "markdown",
      "metadata": {
        "id": "m0TSTAz4jIsn",
        "colab_type": "text"
      },
      "source": [
        "Data manipulation in Python is nearly synonymous with Numpy array manipulation. As we will see shortly, even newer tools like Pandas are built around the Numpy array.\n",
        "\n",
        "This section will present several examples of using Numpy array manipulation to access data, subarrays, and to split, reshape, and join arrays.\n",
        "\n",
        "Becoming familiar with these fundamental operations is important for becoming fluent with manipulating data in python. More advanced tools such as Pytorch, for working with neural networks, were built by those very familiar with working in the \"grammar style\" of Numpy -- they built their tools with this in mind.\n",
        "\n",
        "\n",
        "Below, we'll cover:\n",
        "\n",
        "- *Attributes of arrays*: Determining the size, shape, memory consumption, and data types of arrays\n",
        "- *Indexing of arrays*: Getting and setting the value of individual array elements\n",
        "- *Slicing of arrays*: Getting and setting smaller subarrays within a larger array\n",
        "- *Reshaping of arrays*: Changing the shape of a given array\n",
        "- *Joining and splitting of arrays*: Combining multiple arrays into one, and splitting one array into many"
      ]
    },
    {
      "cell_type": "markdown",
      "metadata": {
        "id": "7MLUDXnojIsn",
        "colab_type": "text"
      },
      "source": [
        "## Numpy Array Attributes"
      ]
    },
    {
      "cell_type": "markdown",
      "metadata": {
        "id": "bNyx5qXljIso",
        "colab_type": "text"
      },
      "source": [
        "First let's discuss some useful array attributes.\n",
        "We'll start by defining three random arrays, a one-dimensional, two-dimensional, and three-dimensional array.\n",
        "\n",
        "We'll use Numpy's random number generator, which we will *seed* with a set value in order to ensure that the same random arrays are generated each time this code is run:"
      ]
    },
    {
      "cell_type": "code",
      "metadata": {
        "id": "c_zcCkq1jIsp",
        "colab_type": "code",
        "colab": {}
      },
      "source": [
        "np.random.seed(0)  # seed for reproducibility\n",
        "\n",
        "x1 = np.random.randint(10, size=6)  # One-dimensional array\n",
        "x2 = np.random.randint(10, size=(3, 4))  # Two-dimensional array\n",
        "x3 = np.random.randint(10, size=(3, 4, 5))  # Three-dimensional array"
      ],
      "execution_count": 0,
      "outputs": []
    },
    {
      "cell_type": "markdown",
      "metadata": {
        "id": "T7Y-UZATjIss",
        "colab_type": "text"
      },
      "source": [
        "Each array has attributes ``ndim`` (the number of dimensions), ``shape`` (the size of each dimension), and ``size`` (the total size of the array):"
      ]
    },
    {
      "cell_type": "code",
      "metadata": {
        "id": "UwrBjogkjIst",
        "colab_type": "code",
        "colab": {}
      },
      "source": [
        "print(f\"x3 ndim: {x3.ndim}\")\n",
        "print(f\"x3 shape: {x3.shape}\")\n",
        "print(f\"x3 size: {x3.size}\")"
      ],
      "execution_count": 0,
      "outputs": []
    },
    {
      "cell_type": "markdown",
      "metadata": {
        "id": "IYLTA2X4jIs1",
        "colab_type": "text"
      },
      "source": [
        "Another useful attribute is the ``dtype``, the data type of the array:"
      ]
    },
    {
      "cell_type": "code",
      "metadata": {
        "id": "6HDm00EZjIs2",
        "colab_type": "code",
        "colab": {}
      },
      "source": [
        "print(f\"dtype: {x3.dtype}\")"
      ],
      "execution_count": 0,
      "outputs": []
    },
    {
      "cell_type": "markdown",
      "metadata": {
        "id": "QqtqAkN3jIs5",
        "colab_type": "text"
      },
      "source": [
        "Other attributes include ``itemsize``, which lists the size (in bytes) of each array element, and ``nbytes``, which lists the total size (in bytes) of the array:"
      ]
    },
    {
      "cell_type": "code",
      "metadata": {
        "id": "uMVApGmljIs7",
        "colab_type": "code",
        "colab": {}
      },
      "source": [
        "print(f\"itemsize: {x3.itemsize} bytes\")\n",
        "print(f\"nbytes: {x3.nbytes} bytes\")"
      ],
      "execution_count": 0,
      "outputs": []
    },
    {
      "cell_type": "markdown",
      "metadata": {
        "id": "3-iqmy63jIs9",
        "colab_type": "text"
      },
      "source": [
        "In general, we expect that ``nbytes`` is equal to ``itemsize*size``."
      ]
    },
    {
      "cell_type": "markdown",
      "metadata": {
        "id": "3Opas8LijIs9",
        "colab_type": "text"
      },
      "source": [
        "## Array Indexing: Accessing Single Elements"
      ]
    },
    {
      "cell_type": "markdown",
      "metadata": {
        "id": "S5UHj3N2jIs-",
        "colab_type": "text"
      },
      "source": [
        "Indexing in Numpy is very similar to indexing standard Python lists.\n",
        "\n",
        "In a one-dimensional array, the $i^{th}$ value (counting from zero) can be accessed by specifying the desired index in square brackets, just as with Python lists:"
      ]
    },
    {
      "cell_type": "code",
      "metadata": {
        "id": "LSBYoWVfjIs_",
        "colab_type": "code",
        "colab": {}
      },
      "source": [
        "x1"
      ],
      "execution_count": 0,
      "outputs": []
    },
    {
      "cell_type": "code",
      "metadata": {
        "id": "M9H6aH7BjItD",
        "colab_type": "code",
        "colab": {}
      },
      "source": [
        "x1[0]"
      ],
      "execution_count": 0,
      "outputs": []
    },
    {
      "cell_type": "code",
      "metadata": {
        "id": "eTQJN2HCjItF",
        "colab_type": "code",
        "colab": {}
      },
      "source": [
        "x1[4]"
      ],
      "execution_count": 0,
      "outputs": []
    },
    {
      "cell_type": "markdown",
      "metadata": {
        "id": "m5TSADCYjItH",
        "colab_type": "text"
      },
      "source": [
        "To index from the end of the array, you can use negative indices:"
      ]
    },
    {
      "cell_type": "code",
      "metadata": {
        "id": "BDyNCAFNjItI",
        "colab_type": "code",
        "colab": {}
      },
      "source": [
        "x1[-1]"
      ],
      "execution_count": 0,
      "outputs": []
    },
    {
      "cell_type": "code",
      "metadata": {
        "id": "MO5hEprLjItK",
        "colab_type": "code",
        "colab": {}
      },
      "source": [
        "x1[-2]"
      ],
      "execution_count": 0,
      "outputs": []
    },
    {
      "cell_type": "markdown",
      "metadata": {
        "id": "WdjoMOR8jItM",
        "colab_type": "text"
      },
      "source": [
        "In a multi-dimensional array, items can be accessed using a comma-separated tuple of indices:"
      ]
    },
    {
      "cell_type": "code",
      "metadata": {
        "id": "EEfEI2FXjItM",
        "colab_type": "code",
        "colab": {}
      },
      "source": [
        "x2"
      ],
      "execution_count": 0,
      "outputs": []
    },
    {
      "cell_type": "code",
      "metadata": {
        "id": "FIkPRd-bjItU",
        "colab_type": "code",
        "colab": {}
      },
      "source": [
        "x2[0, 0]"
      ],
      "execution_count": 0,
      "outputs": []
    },
    {
      "cell_type": "code",
      "metadata": {
        "id": "h7DrM4TnjItY",
        "colab_type": "code",
        "colab": {}
      },
      "source": [
        "x2[2, 0]"
      ],
      "execution_count": 0,
      "outputs": []
    },
    {
      "cell_type": "code",
      "metadata": {
        "id": "VyXwDDKBjItc",
        "colab_type": "code",
        "colab": {}
      },
      "source": [
        "x2[2, -1]"
      ],
      "execution_count": 0,
      "outputs": []
    },
    {
      "cell_type": "markdown",
      "metadata": {
        "id": "Ga2GgE7ajIth",
        "colab_type": "text"
      },
      "source": [
        "Values can also be modified using any of the above index notation:"
      ]
    },
    {
      "cell_type": "code",
      "metadata": {
        "id": "lHWcMB-BjIti",
        "colab_type": "code",
        "colab": {}
      },
      "source": [
        "x2[0, 0] = 12\n",
        "x2"
      ],
      "execution_count": 0,
      "outputs": []
    },
    {
      "cell_type": "markdown",
      "metadata": {
        "id": "m8bioFbSjItm",
        "colab_type": "text"
      },
      "source": [
        "IMPORTANT: Unlike Python lists, Numpy arrays have a fixed type.\n",
        "This means that if you attempt to insert a floating-point value to an integer array, the value will be ***silently truncated***. Don't be caught unaware by this behavior!"
      ]
    },
    {
      "cell_type": "code",
      "metadata": {
        "id": "lIGP8WXejItn",
        "colab_type": "code",
        "colab": {}
      },
      "source": [
        "x1[0] = 3.14159  # this will be truncated!\n",
        "x1"
      ],
      "execution_count": 0,
      "outputs": []
    },
    {
      "cell_type": "markdown",
      "metadata": {
        "id": "TEk1PTBXjIuY",
        "colab_type": "text"
      },
      "source": [
        "## Array Slicing: Accessing Subarrays"
      ]
    },
    {
      "cell_type": "markdown",
      "metadata": {
        "id": "QJ219uYajIuZ",
        "colab_type": "text"
      },
      "source": [
        "Just as we can use square brackets to access individual array elements, we can also use them to access subarrays with the *slice* notation, marked by the colon (``:``) character.\n",
        "The Numpy slicing syntax follows that of the standard Python list; to access a slice of an array ``x``, use this:\n",
        "``` python\n",
        "x[start:stop:step]\n",
        "```\n",
        "If any of these are unspecified, they default to the values ``start=0``, ``stop=``*``size of dimension``*, ``step=1``.\n",
        "We'll take a look at accessing sub-arrays in one dimension and in multiple dimensions."
      ]
    },
    {
      "cell_type": "markdown",
      "metadata": {
        "id": "m9CAklChZcW-",
        "colab_type": "text"
      },
      "source": [
        "### One-dimensional subarrays"
      ]
    },
    {
      "cell_type": "code",
      "metadata": {
        "id": "A46FI0h_jIue",
        "colab_type": "code",
        "colab": {}
      },
      "source": [
        "x = np.arange(10)\n",
        "x"
      ],
      "execution_count": 0,
      "outputs": []
    },
    {
      "cell_type": "code",
      "metadata": {
        "id": "jCNe1jqZjIum",
        "colab_type": "code",
        "colab": {}
      },
      "source": [
        "x[:5]  # first five elements"
      ],
      "execution_count": 0,
      "outputs": []
    },
    {
      "cell_type": "code",
      "metadata": {
        "id": "FtTFTlygjIup",
        "colab_type": "code",
        "colab": {}
      },
      "source": [
        "x[5:]  # elements after index 5"
      ],
      "execution_count": 0,
      "outputs": []
    },
    {
      "cell_type": "code",
      "metadata": {
        "id": "XZATUZFxjIus",
        "colab_type": "code",
        "colab": {}
      },
      "source": [
        "x[4:7]  # middle sub-array"
      ],
      "execution_count": 0,
      "outputs": []
    },
    {
      "cell_type": "code",
      "metadata": {
        "id": "dt-kbEZHjIuv",
        "colab_type": "code",
        "colab": {}
      },
      "source": [
        "x[::2]  # every other element"
      ],
      "execution_count": 0,
      "outputs": []
    },
    {
      "cell_type": "code",
      "metadata": {
        "id": "vK2yoe_gjIux",
        "colab_type": "code",
        "colab": {}
      },
      "source": [
        "x[1::2]  # every other element, starting at index 1"
      ],
      "execution_count": 0,
      "outputs": []
    },
    {
      "cell_type": "markdown",
      "metadata": {
        "id": "j3YyP10HjIu2",
        "colab_type": "text"
      },
      "source": [
        "A potentially confusing case is when the ``step`` value is negative.\n",
        "In this case, the defaults for ``start`` and ``stop`` are swapped.\n",
        "This becomes a convenient way to reverse an array:"
      ]
    },
    {
      "cell_type": "code",
      "metadata": {
        "id": "vhlNnFy-jIu5",
        "colab_type": "code",
        "colab": {}
      },
      "source": [
        "x[::-1]  # all elements, reversed"
      ],
      "execution_count": 0,
      "outputs": []
    },
    {
      "cell_type": "code",
      "metadata": {
        "id": "v89VsJ04jIu8",
        "colab_type": "code",
        "colab": {}
      },
      "source": [
        "x[5::-2]  # reversed every other from index 5"
      ],
      "execution_count": 0,
      "outputs": []
    },
    {
      "cell_type": "markdown",
      "metadata": {
        "id": "xr6tmZT2ZYrV",
        "colab_type": "text"
      },
      "source": [
        "### Multi-dimensional subarrays"
      ]
    },
    {
      "cell_type": "markdown",
      "metadata": {
        "id": "MAH29O3mjIu-",
        "colab_type": "text"
      },
      "source": [
        "Multi-dimensional slices work in the same way, with multiple slices separated by commas.\n",
        "For example:"
      ]
    },
    {
      "cell_type": "code",
      "metadata": {
        "id": "T0CvS-KEjIu_",
        "colab_type": "code",
        "colab": {}
      },
      "source": [
        "x2"
      ],
      "execution_count": 0,
      "outputs": []
    },
    {
      "cell_type": "code",
      "metadata": {
        "id": "EF6h6apKjIvC",
        "colab_type": "code",
        "colab": {}
      },
      "source": [
        "x2[:2, :3]  # two rows, three columns"
      ],
      "execution_count": 0,
      "outputs": []
    },
    {
      "cell_type": "code",
      "metadata": {
        "id": "fAHiPG8jjIvO",
        "colab_type": "code",
        "colab": {}
      },
      "source": [
        "x2[:3, ::2]  # all rows, every other column"
      ],
      "execution_count": 0,
      "outputs": []
    },
    {
      "cell_type": "markdown",
      "metadata": {
        "id": "Kz5YN3Z0jIvZ",
        "colab_type": "text"
      },
      "source": [
        "Finally, subarray dimensions can even be reversed together:"
      ]
    },
    {
      "cell_type": "code",
      "metadata": {
        "id": "hu3IZcmBjIva",
        "colab_type": "code",
        "colab": {}
      },
      "source": [
        "print(x2)\n",
        "x2[::-1, ::-1] # reverse the rows and reverse the columns"
      ],
      "execution_count": 0,
      "outputs": []
    },
    {
      "cell_type": "markdown",
      "metadata": {
        "id": "rUtRMs0fjIvc",
        "colab_type": "text"
      },
      "source": [
        "#### Accessing array rows and columns\n",
        "\n",
        "One commonly needed routine is accessing of single rows or columns of an array.\n",
        "This can be done by combining indexing and slicing, using an empty slice marked by a single colon (``:``):"
      ]
    },
    {
      "cell_type": "code",
      "metadata": {
        "id": "_b_A0_gmjIvc",
        "colab_type": "code",
        "colab": {}
      },
      "source": [
        "print(x2[:, 0])  # first column of x2"
      ],
      "execution_count": 0,
      "outputs": []
    },
    {
      "cell_type": "code",
      "metadata": {
        "id": "vvcP6x-EjIve",
        "colab_type": "code",
        "colab": {}
      },
      "source": [
        "print(x2[0, :])  # first row of x2"
      ],
      "execution_count": 0,
      "outputs": []
    },
    {
      "cell_type": "markdown",
      "metadata": {
        "id": "WzZv9-o-jIvh",
        "colab_type": "text"
      },
      "source": [
        "In the case of row access, ***the empty slice can be omitted*** for a more compact syntax:"
      ]
    },
    {
      "cell_type": "code",
      "metadata": {
        "id": "8yGMl2qxjIvh",
        "colab_type": "code",
        "colab": {}
      },
      "source": [
        "print(x2[0])  # equivalent to x2[0, :]"
      ],
      "execution_count": 0,
      "outputs": []
    },
    {
      "cell_type": "markdown",
      "metadata": {
        "id": "d4fRDYtkY_lQ",
        "colab_type": "text"
      },
      "source": [
        "### Subarrays as no-copy views"
      ]
    },
    {
      "cell_type": "markdown",
      "metadata": {
        "id": "pOOUfEcRjIvj",
        "colab_type": "text"
      },
      "source": [
        "**IMPORTANT**: Array slices return *views* rather than *copies* of the array data.\n",
        "This is one area in which Numpy array slicing differs from Python list slicing: in lists, slices will be copies.\n",
        "\n",
        "Consider our two-dimensional array from before:"
      ]
    },
    {
      "cell_type": "code",
      "metadata": {
        "id": "RBeL8GXljIvk",
        "colab_type": "code",
        "colab": {}
      },
      "source": [
        "print(x2)"
      ],
      "execution_count": 0,
      "outputs": []
    },
    {
      "cell_type": "markdown",
      "metadata": {
        "id": "tBcVLXoejIvo",
        "colab_type": "text"
      },
      "source": [
        "Let's extract a $2 \\times 2$ subarray from this:"
      ]
    },
    {
      "cell_type": "code",
      "metadata": {
        "id": "OtZOvZG2jIvq",
        "colab_type": "code",
        "colab": {}
      },
      "source": [
        "x2_sub = x2[:2, :2]\n",
        "print(x2_sub)"
      ],
      "execution_count": 0,
      "outputs": []
    },
    {
      "cell_type": "markdown",
      "metadata": {
        "id": "T8TyIVdEjIvs",
        "colab_type": "text"
      },
      "source": [
        "Now if we modify this subarray, we'll see that the original array is changed! Observe:"
      ]
    },
    {
      "cell_type": "code",
      "metadata": {
        "id": "DwAmWVz7jIvt",
        "colab_type": "code",
        "colab": {}
      },
      "source": [
        "x2_sub[0, 0] = 99\n",
        "print(x2_sub)"
      ],
      "execution_count": 0,
      "outputs": []
    },
    {
      "cell_type": "code",
      "metadata": {
        "id": "pk6j4RC7jIvw",
        "colab_type": "code",
        "colab": {}
      },
      "source": [
        "print(x2)"
      ],
      "execution_count": 0,
      "outputs": []
    },
    {
      "cell_type": "markdown",
      "metadata": {
        "id": "21SfR8BcjIv8",
        "colab_type": "text"
      },
      "source": [
        "This default behavior is actually quite useful: it means that when we work with large datasets, we can access and process pieces of these datasets without the need to copy the underlying data buffer."
      ]
    },
    {
      "cell_type": "markdown",
      "metadata": {
        "id": "2vfNewrJY6Uw",
        "colab_type": "text"
      },
      "source": [
        "### Creating copies of arrays"
      ]
    },
    {
      "cell_type": "markdown",
      "metadata": {
        "id": "kq4fm-9TjIv9",
        "colab_type": "text"
      },
      "source": [
        "Despite the nice features of array views, it is sometimes useful to instead explicitly copy the data within an array or a subarray. This can be most easily done with the ``copy()`` method:"
      ]
    },
    {
      "cell_type": "code",
      "metadata": {
        "id": "7szQiciLjIv_",
        "colab_type": "code",
        "colab": {}
      },
      "source": [
        "print(x2)\n",
        "x2_sub_copy = x2[:2, :2].copy()\n",
        "print(x2_sub_copy)"
      ],
      "execution_count": 0,
      "outputs": []
    },
    {
      "cell_type": "markdown",
      "metadata": {
        "id": "60jdFvcCjIwD",
        "colab_type": "text"
      },
      "source": [
        "If we now modify this subarray, the original array is not touched:"
      ]
    },
    {
      "cell_type": "code",
      "metadata": {
        "id": "4ZTN8RAwjIwG",
        "colab_type": "code",
        "colab": {}
      },
      "source": [
        "x2_sub_copy[0, 0] = 42\n",
        "print(x2_sub_copy)"
      ],
      "execution_count": 0,
      "outputs": []
    },
    {
      "cell_type": "code",
      "metadata": {
        "id": "pAUwQzTLjIwL",
        "colab_type": "code",
        "colab": {}
      },
      "source": [
        "print(x2)"
      ],
      "execution_count": 0,
      "outputs": []
    },
    {
      "cell_type": "markdown",
      "metadata": {
        "id": "JD1ShZlQY1hJ",
        "colab_type": "text"
      },
      "source": [
        "## Reshaping of Arrays"
      ]
    },
    {
      "cell_type": "markdown",
      "metadata": {
        "id": "7noZw0h9jIwM",
        "colab_type": "text"
      },
      "source": [
        "Another useful type of operation is reshaping of arrays.\n",
        "The most flexible way of doing this is with the ``reshape`` method.\n",
        "For example, if you want to put the numbers 1 through 9 in a $3 \\times 3$ grid, you can do the following:"
      ]
    },
    {
      "cell_type": "code",
      "metadata": {
        "id": "7RGbR5L7jIwN",
        "colab_type": "code",
        "colab": {}
      },
      "source": [
        "grid = np.arange(1, 10).reshape((3, 3))\n",
        "print(grid)"
      ],
      "execution_count": 0,
      "outputs": []
    },
    {
      "cell_type": "markdown",
      "metadata": {
        "id": "frUgJswmjIwR",
        "colab_type": "text"
      },
      "source": [
        "Note that for this to work, the size of the initial array must match the size of the reshaped array. \n",
        "Where possible, the ``reshape`` method will use a no-copy view of the initial array, but with non-contiguous memory buffers this is not always the case.\n",
        "\n",
        "Another common reshaping pattern is the conversion of a one-dimensional array into a two-dimensional row or column matrix.\n",
        "This can be done with the ``reshape`` method, or more easily done by making use of the ``newaxis`` keyword within a slice operation:"
      ]
    },
    {
      "cell_type": "code",
      "metadata": {
        "id": "1P8S78DXjIwR",
        "colab_type": "code",
        "colab": {}
      },
      "source": [
        "x = np.array([1, 2, 3])\n",
        "print(x)\n",
        "\n",
        "# row vector via reshape\n",
        "x.reshape((1, 3))"
      ],
      "execution_count": 0,
      "outputs": []
    },
    {
      "cell_type": "code",
      "metadata": {
        "id": "mMDX5QbZjIwa",
        "colab_type": "code",
        "colab": {}
      },
      "source": [
        "print(x)\n",
        "# row vector via newaxis\n",
        "x[np.newaxis, :]"
      ],
      "execution_count": 0,
      "outputs": []
    },
    {
      "cell_type": "code",
      "metadata": {
        "id": "t0r1CP-zjIwc",
        "colab_type": "code",
        "colab": {}
      },
      "source": [
        "print(x)\n",
        "# column vector via reshape\n",
        "x.reshape((3, 1))"
      ],
      "execution_count": 0,
      "outputs": []
    },
    {
      "cell_type": "code",
      "metadata": {
        "id": "1nMveSTBjIwf",
        "colab_type": "code",
        "colab": {}
      },
      "source": [
        "print(x)\n",
        "# column vector via newaxis\n",
        "x[:, np.newaxis]"
      ],
      "execution_count": 0,
      "outputs": []
    },
    {
      "cell_type": "markdown",
      "metadata": {
        "id": "Y4nLBsH_YuH8",
        "colab_type": "text"
      },
      "source": [
        "## Array Concatenation and Splitting"
      ]
    },
    {
      "cell_type": "markdown",
      "metadata": {
        "id": "4R1kOwpcjIwh",
        "colab_type": "text"
      },
      "source": [
        "All of the preceding routines worked on single arrays. It's also possible to combine multiple arrays into one, and to conversely split a single array into multiple arrays. We'll take a look at those operations here."
      ]
    },
    {
      "cell_type": "markdown",
      "metadata": {
        "id": "xyoCZW87Ypmr",
        "colab_type": "text"
      },
      "source": [
        "### Concatenation of arrays"
      ]
    },
    {
      "cell_type": "markdown",
      "metadata": {
        "id": "vev4bGMCjIwi",
        "colab_type": "text"
      },
      "source": [
        "Concatenation, or joining of two arrays in NumPy, is primarily accomplished using the routines ``np.concatenate``, ``np.vstack``, and ``np.hstack``.\n",
        "``np.concatenate`` takes a tuple or list of arrays as its first argument, as we can see here:"
      ]
    },
    {
      "cell_type": "code",
      "metadata": {
        "id": "2f_yfJykjIwi",
        "colab_type": "code",
        "colab": {}
      },
      "source": [
        "x = np.array([1, 2, 3])\n",
        "y = np.array([3, 2, 1])\n",
        "np.concatenate([x, y])"
      ],
      "execution_count": 0,
      "outputs": []
    },
    {
      "cell_type": "markdown",
      "metadata": {
        "id": "PYWrsiFhjIwk",
        "colab_type": "text"
      },
      "source": [
        "You can also concatenate more than two arrays at once:"
      ]
    },
    {
      "cell_type": "code",
      "metadata": {
        "id": "g74lbXO7jIwl",
        "colab_type": "code",
        "colab": {}
      },
      "source": [
        "z = [99, 99, 99]\n",
        "print(np.concatenate([x, y, z]))"
      ],
      "execution_count": 0,
      "outputs": []
    },
    {
      "cell_type": "markdown",
      "metadata": {
        "id": "xpDEVtcYjIwq",
        "colab_type": "text"
      },
      "source": [
        "It can also be used for two-dimensional arrays:"
      ]
    },
    {
      "cell_type": "code",
      "metadata": {
        "id": "P0UPp8GCjIwr",
        "colab_type": "code",
        "colab": {}
      },
      "source": [
        "grid = np.array([[1, 2, 3],\n",
        "                 [4, 5, 6]])"
      ],
      "execution_count": 0,
      "outputs": []
    },
    {
      "cell_type": "code",
      "metadata": {
        "id": "D0pf3VaWjIwv",
        "colab_type": "code",
        "colab": {}
      },
      "source": [
        "# concatenate along the first axis\n",
        "np.concatenate([grid, grid])"
      ],
      "execution_count": 0,
      "outputs": []
    },
    {
      "cell_type": "code",
      "metadata": {
        "id": "d3pBTDtajIwx",
        "colab_type": "code",
        "colab": {}
      },
      "source": [
        "# concatenate along the second axis (zero-indexed)\n",
        "np.concatenate([grid, grid], axis=1)"
      ],
      "execution_count": 0,
      "outputs": []
    },
    {
      "cell_type": "markdown",
      "metadata": {
        "id": "ZEmbAlc0jIw0",
        "colab_type": "text"
      },
      "source": [
        "For working with arrays of mixed dimensions, it can be clearer to use the ``np.vstack`` (vertical stack) and ``np.hstack`` (horizontal stack) functions:"
      ]
    },
    {
      "cell_type": "code",
      "metadata": {
        "id": "r7IQrCuFjIw0",
        "colab_type": "code",
        "colab": {}
      },
      "source": [
        "x = np.array([1, 2, 3])\n",
        "grid = np.array([[9, 8, 7],\n",
        "                 [6, 5, 4]])\n",
        "\n",
        "# vertically stack the arrays\n",
        "np.vstack([x, grid])"
      ],
      "execution_count": 0,
      "outputs": []
    },
    {
      "cell_type": "code",
      "metadata": {
        "id": "IFhqVqBgjIw3",
        "colab_type": "code",
        "colab": {}
      },
      "source": [
        "# horizontally stack the arrays\n",
        "y = np.array([[99],\n",
        "              [99]])\n",
        "np.hstack([grid, y])"
      ],
      "execution_count": 0,
      "outputs": []
    },
    {
      "cell_type": "markdown",
      "metadata": {
        "id": "-Dkg0ppCjIw7",
        "colab_type": "text"
      },
      "source": [
        "Similary, ``np.dstack`` will stack arrays along the third axis (depth)."
      ]
    },
    {
      "cell_type": "markdown",
      "metadata": {
        "id": "BQT0mEE1Yjg5",
        "colab_type": "text"
      },
      "source": [
        "### Splitting of arrays"
      ]
    },
    {
      "cell_type": "markdown",
      "metadata": {
        "id": "Zm2IHP79jIw8",
        "colab_type": "text"
      },
      "source": [
        "The opposite of concatenation is splitting, which is implemented by the functions ``np.split``, ``np.hsplit``, and ``np.vsplit``.  For each of these, we can pass a list of indices giving the split points:"
      ]
    },
    {
      "cell_type": "code",
      "metadata": {
        "id": "R2ugKDgijIw8",
        "colab_type": "code",
        "colab": {}
      },
      "source": [
        "x = [1, 2, 3, 99, 99, 3, 2, 1]\n",
        "x1, x2, x3 = np.split(x, [3, 5])\n",
        "print(x1, x2, x3)"
      ],
      "execution_count": 0,
      "outputs": []
    },
    {
      "cell_type": "markdown",
      "metadata": {
        "id": "QTJjT9MnjIxC",
        "colab_type": "text"
      },
      "source": [
        "Notice that *N* split-points, leads to *N + 1* subarrays.\n",
        "The related functions ``np.hsplit`` and ``np.vsplit`` are similar:"
      ]
    },
    {
      "cell_type": "code",
      "metadata": {
        "id": "KCgLOkI-jIxE",
        "colab_type": "code",
        "colab": {}
      },
      "source": [
        "grid = np.arange(16).reshape((4, 4))\n",
        "grid"
      ],
      "execution_count": 0,
      "outputs": []
    },
    {
      "cell_type": "code",
      "metadata": {
        "id": "z1TYQRdvjIxG",
        "colab_type": "code",
        "colab": {}
      },
      "source": [
        "upper, lower = np.vsplit(grid, [2])\n",
        "print(upper)\n",
        "print(lower)"
      ],
      "execution_count": 0,
      "outputs": []
    },
    {
      "cell_type": "code",
      "metadata": {
        "id": "mfCFcV3GjIxI",
        "colab_type": "code",
        "colab": {}
      },
      "source": [
        "left, right = np.hsplit(grid, [2])\n",
        "print(left)\n",
        "print(right)"
      ],
      "execution_count": 0,
      "outputs": []
    },
    {
      "cell_type": "markdown",
      "metadata": {
        "id": "waMYGOnxjIxN",
        "colab_type": "text"
      },
      "source": [
        "Similarly, ``np.dsplit`` will split arrays along the third axis."
      ]
    },
    {
      "cell_type": "markdown",
      "metadata": {
        "id": "MMfns4wRYdeu",
        "colab_type": "text"
      },
      "source": [
        "# Computing with Numpy"
      ]
    },
    {
      "cell_type": "markdown",
      "metadata": {
        "id": "ngkbSeci_wml",
        "colab_type": "text"
      },
      "source": [
        "\n",
        "\n",
        "To make computing with numpy very natural, it provides:\n",
        "- Universal Functions - specialized vectorized versions of common operations\n",
        "- Aggregation - functions that aggregate the elements of arrays, such as``max()``, ``min()``, ``mean()``, ``std()``\n",
        "- Broadcasting - simple rules for applying ufuncs on arrays of different sizes"
      ]
    },
    {
      "cell_type": "markdown",
      "metadata": {
        "id": "N01TwxaOL8yF",
        "colab_type": "text"
      },
      "source": [
        "## Universal Functions"
      ]
    },
    {
      "cell_type": "markdown",
      "metadata": {
        "id": "KizFcLUsAMvG",
        "colab_type": "text"
      },
      "source": [
        "Looping in python is comparatively very slow relative to other languages. This is because most implementations of Python are interpretive rather than compiled. Compiling allows a program to understand how to map high level code into machine code that can be exectued quickly, because the compiler knows the entirety of the code that will be executed. But interpreted code is executed line by line.  Numpy gets around this limitation because it is mostly implemented in low level C. The key to efficient computation on arrays is to vectorize them.\n",
        "\n",
        "Ufuncs provide access to statically typed and compiled routines that are vectorized. They override common operators (such as ``+``, ``*``, ``/``) so that when you operate on numpy arrays, you can use the standard operations without thinking about it."
      ]
    },
    {
      "cell_type": "markdown",
      "metadata": {
        "id": "NiAMbf_OCdzc",
        "colab_type": "text"
      },
      "source": [
        "The following table lists the arithmetic operators implemented in Numpy:\n",
        "\n",
        "| Operator\t    | Equivalent ufunc    | Description                           |\n",
        "|---------------|---------------------|---------------------------------------|\n",
        "|``+``          |``np.add``           |Addition (e.g., ``1 + 1 = 2``)         |\n",
        "|``-``          |``np.subtract``      |Subtraction (e.g., ``3 - 2 = 1``)      |\n",
        "|``-``          |``np.negative``      |Unary negation (e.g., ``-2``)          |\n",
        "|``*``          |``np.multiply``      |Multiplication (e.g., ``2 * 3 = 6``)   |\n",
        "|``/``          |``np.divide``        |Division (e.g., ``3 / 2 = 1.5``)       |\n",
        "|``//``         |``np.floor_divide``  |Floor division (e.g., ``3 // 2 = 1``)  |\n",
        "|``**``         |``np.power``         |Exponentiation (e.g., ``2 ** 3 = 8``)  |\n",
        "|``%``          |``np.mod``           |Modulus/remainder (e.g., ``9 % 4 = 1``)|\n",
        "\n",
        "So, for example, when you call ``+`` to add two numpy arrays, python will actually call ``np.add()`` \n",
        "\n",
        "Additionally there are Boolean/bitwise operators that we'll look at later."
      ]
    },
    {
      "cell_type": "code",
      "metadata": {
        "id": "2ity23GtDKx7",
        "colab_type": "code",
        "colab": {}
      },
      "source": [
        "# Add two arrays\n",
        "x = np.array([1,5,1,-1,3])\n",
        "y = np.array([2,-1,3,4,5])\n",
        "x+y\n"
      ],
      "execution_count": 0,
      "outputs": []
    },
    {
      "cell_type": "markdown",
      "metadata": {
        "id": "k8hdMOt4Dtoq",
        "colab_type": "text"
      },
      "source": [
        "This happens significantly faster than running through a for loop and adding each of the corresponding elements of the arrays.\n",
        "\n",
        "Here are some other examples:"
      ]
    },
    {
      "cell_type": "code",
      "metadata": {
        "id": "8Kc6XOo2Erv2",
        "colab_type": "code",
        "colab": {}
      },
      "source": [
        "np.sin(x)"
      ],
      "execution_count": 0,
      "outputs": []
    },
    {
      "cell_type": "code",
      "metadata": {
        "id": "j0SNyKQmGK5g",
        "colab_type": "code",
        "colab": {}
      },
      "source": [
        "x/y"
      ],
      "execution_count": 0,
      "outputs": []
    },
    {
      "cell_type": "code",
      "metadata": {
        "id": "jD8vx-NqGUBM",
        "colab_type": "code",
        "colab": {}
      },
      "source": [
        "np.log(x+y)*np.exp(x)"
      ],
      "execution_count": 0,
      "outputs": []
    },
    {
      "cell_type": "markdown",
      "metadata": {
        "id": "XIBRd2pxGwsw",
        "colab_type": "text"
      },
      "source": [
        "## Aggregating Numpy Arrays"
      ]
    },
    {
      "cell_type": "markdown",
      "metadata": {
        "id": "KJSr93ZjG2LH",
        "colab_type": "text"
      },
      "source": [
        "Often when faced with a large amount of data, a first step is to compute summary statistics for the data in question. Perhaps the most common summary statistics are the mean and standard deviation, which allow you to summarize the \"typical\" values in a dataset, but other aggregates are useful as well (the sum, product, median, minimum and maximum, quantiles, etc.).\n",
        "\n",
        "\n",
        "|Function Name      |   NaN-safe Version  | Description                                   |\n",
        "|-------------------|---------------------|-----------------------------------------------|\n",
        "| ``np.sum``        | ``np.nansum``       | Compute sum of elements                       |\n",
        "| ``np.prod``       | ``np.nanprod``      | Compute product of elements                   |\n",
        "| ``np.mean``       | ``np.nanmean``      | Compute mean of elements                      |\n",
        "| ``np.std``        | ``np.nanstd``       | Compute standard deviation                    |\n",
        "| ``np.var``        | ``np.nanvar``       | Compute variance                              |\n",
        "| ``np.min``        | ``np.nanmin``       | Find minimum value                            |\n",
        "| ``np.max``        | ``np.nanmax``       | Find maximum value                            |\n",
        "| ``np.argmin``     | ``np.nanargmin``    | Find index of minimum value                   |\n",
        "| ``np.argmax``     | ``np.nanargmax``    | Find index of maximum value                   |\n",
        "| ``np.median``     | ``np.nanmedian``    | Compute median of elements                    |\n",
        "| ``np.percentile`` | ``np.nanpercentile``| Compute rank-based statistics of elements     |\n",
        "| ``np.any``        | N/A                 | Evaluate whether any elements are true        |\n",
        "| ``np.all``        | N/A                 | Evaluate whether all elements are true        |\n",
        "\n"
      ]
    },
    {
      "cell_type": "code",
      "metadata": {
        "id": "wgJoBt-ZG2uN",
        "colab_type": "code",
        "colab": {}
      },
      "source": [
        "x = np.random.random(100)\n",
        "print('Summary Statistics')\n",
        "print('------------------')\n",
        "print(f'sum:\\t{x.sum()}')\n",
        "print(f'mean:\\t{x.mean()}')\n",
        "print(f'stdev:\\t{x.std()}')\n",
        "print(f'min:\\t{x.min()}')\n",
        "print(f'max:\\t{x.max()}')\n",
        "for p in range(25,100,25):\n",
        "  print(f'{p}%ile:\\t{np.percentile(x,p)}')"
      ],
      "execution_count": 0,
      "outputs": []
    },
    {
      "cell_type": "markdown",
      "metadata": {
        "id": "FjV6HZRepzVE",
        "colab_type": "text"
      },
      "source": [
        "You can also aggregate multi-dimensional arrays by specifying which axis you want to aggregate over:"
      ]
    },
    {
      "cell_type": "code",
      "metadata": {
        "id": "fUo5G_Vip9Yr",
        "colab_type": "code",
        "colab": {}
      },
      "source": [
        "M = np.random.random([5,5])\n",
        "M"
      ],
      "execution_count": 0,
      "outputs": []
    },
    {
      "cell_type": "code",
      "metadata": {
        "id": "Q16sG7ORqXYE",
        "colab_type": "code",
        "colab": {}
      },
      "source": [
        "M.min(axis=0) # take the min for each column (aggregate min() over rows axis)"
      ],
      "execution_count": 0,
      "outputs": []
    },
    {
      "cell_type": "markdown",
      "metadata": {
        "id": "A7Emh3rcMklV",
        "colab_type": "text"
      },
      "source": [
        "## Exercise: Dice Roller 2.0\n",
        "\n",
        "Modify the dice-rolling function that you made earlier. Instead of returning the full array of rolls, return only the max."
      ]
    },
    {
      "cell_type": "code",
      "metadata": {
        "id": "djEFpjKnM1xY",
        "colab_type": "code",
        "colab": {}
      },
      "source": [
        "def diceRollerMax(numSides,numRolls):\n",
        "  # Enter your code here\n",
        "\n",
        "#Test it out on some values:\n",
        "diceRollerMax(6,3)\n",
        "diceRollerMax(20,5)\n"
      ],
      "execution_count": 0,
      "outputs": []
    },
    {
      "cell_type": "markdown",
      "metadata": {
        "id": "cluZj35aa40S",
        "colab_type": "text"
      },
      "source": [
        "## Broadcasting in Numpy\n",
        "\n",
        "Often you will want to do a simple operation on arrays of different sizes. Broadcasting is a set of rules for ufuncs to do this.\n",
        "\n",
        "For example, suppose you have an initial array (``x``) and want to add one to every element. Technically, the correct way to do this would be to create a new array of all ones (e.g., with ``np.ones()`` that is the same shape as ``x`` and then add this to ``x``:"
      ]
    },
    {
      "cell_type": "code",
      "metadata": {
        "id": "I4F_ZAZtbvjz",
        "colab_type": "code",
        "colab": {}
      },
      "source": [
        "x = np.array([3,1,5,4,2,-2,5,3])\n",
        "x + np.ones(x.shape,dtype='int')"
      ],
      "execution_count": 0,
      "outputs": []
    },
    {
      "cell_type": "markdown",
      "metadata": {
        "id": "djoWUuNUk19S",
        "colab_type": "text"
      },
      "source": [
        "But broadcasting make this much more compact:"
      ]
    },
    {
      "cell_type": "code",
      "metadata": {
        "id": "OkNgyjw4lRMY",
        "colab_type": "code",
        "colab": {}
      },
      "source": [
        "x+1"
      ],
      "execution_count": 0,
      "outputs": []
    },
    {
      "cell_type": "markdown",
      "metadata": {
        "id": "U-nEcRcllZ7H",
        "colab_type": "text"
      },
      "source": [
        "And, similarly, broadcasting lets you do this:"
      ]
    },
    {
      "cell_type": "code",
      "metadata": {
        "id": "UmPeE2T6l32P",
        "colab_type": "code",
        "colab": {}
      },
      "source": [
        "1/x"
      ],
      "execution_count": 0,
      "outputs": []
    },
    {
      "cell_type": "code",
      "metadata": {
        "id": "cPkKA0S3l6vh",
        "colab_type": "code",
        "colab": {}
      },
      "source": [
        "1/x + (x + 3)*5"
      ],
      "execution_count": 0,
      "outputs": []
    },
    {
      "cell_type": "markdown",
      "metadata": {
        "id": "qQegDejmmEM6",
        "colab_type": "text"
      },
      "source": [
        "In general, broadcasting tries to guess at your intent when adding arrays of different sizes. To do so, it follows a strict set of rules for \"stretching\" the arrays so the shapes match:\n",
        "\n",
        "- Rule 1: If the two arrays differ in their number of dimensions, the shape of the one with fewer dimensions is *padded* with ones on its leading (left) side.\n",
        "- Rule 2: If the shape of the two arrays does not match in any dimension, the array with shape equal to 1 in that dimension is stretched to match the other shape.\n",
        "- Rule 3: If in any dimension the sizes disagree and neither is equal to 1, an error is raised.\n",
        "\n",
        "The rules are illustrated like this:\n",
        "\n",
        "![](https://drive.google.com/uc?id=1lNSFvGLFcvcE-6Mmri-2w2FAff-qCi9I)\n",
        "\n",
        "Here's another example:"
      ]
    },
    {
      "cell_type": "code",
      "metadata": {
        "id": "72yRfWkLmKDo",
        "colab_type": "code",
        "colab": {}
      },
      "source": [
        "y = np.array([1,2]).reshape(2,1)\n",
        "print(x)\n",
        "print(y)\n",
        "print(x+y)"
      ],
      "execution_count": 0,
      "outputs": []
    },
    {
      "cell_type": "markdown",
      "metadata": {
        "id": "KalgJRuWvlS_",
        "colab_type": "text"
      },
      "source": [
        "# Indexing and Masking with Numpy"
      ]
    },
    {
      "cell_type": "markdown",
      "metadata": {
        "id": "xk_bkdNhVT5_",
        "colab_type": "text"
      },
      "source": [
        "## Boolean Logic and Numpy Arrays"
      ]
    },
    {
      "cell_type": "markdown",
      "metadata": {
        "id": "L6sv7rKquTH8",
        "colab_type": "text"
      },
      "source": [
        "\n",
        "\n",
        "We can use comparison operators (``==``,``!=``,``>``,``<``,``>=``,``<=``, etc.) on numpy arrays as well. When we do, the result will be a boolean array of the same shape as the (broadcasted) arrays we are operating on.\n",
        "\n",
        "For example:"
      ]
    },
    {
      "cell_type": "code",
      "metadata": {
        "id": "omxzH2Mfu2Di",
        "colab_type": "code",
        "colab": {}
      },
      "source": [
        "x=np.random.randint(0,6,10)\n",
        "print(x)\n",
        "print(x>3)"
      ],
      "execution_count": 0,
      "outputs": []
    },
    {
      "cell_type": "code",
      "metadata": {
        "id": "t2jsGxNuvatO",
        "colab_type": "code",
        "colab": {}
      },
      "source": [
        "y=np.random.randint(0,6,[2,1])\n",
        "print(x)\n",
        "print(y)\n",
        "print(x>y)"
      ],
      "execution_count": 0,
      "outputs": []
    },
    {
      "cell_type": "markdown",
      "metadata": {
        "id": "-FLocpDjDLZ1",
        "colab_type": "text"
      },
      "source": [
        "Ok, but what if we want to logically operate on boolean arrays, how do we do that?\n",
        "\n",
        "Remember from the first lecture the difference between ``and`` and ``or`` keywords and the ``&`` and ``|`` operators?  \n",
        "\n",
        "``and`` and ``or`` treat the entire object as True or False, whereas ``&`` and ``|`` operate on the bits of the object -- in other words \"inside\" the object. \n",
        "\n",
        "For that reason, numpy overrides the ``&`` and ``|`` operators (defines ufuncs for them).  When used on numpy arrays:\n",
        "-  ``&`` perform \"elementwise\" **AND**  \n",
        "-  ``|`` perform \"elementwise\" **OR**  \n",
        "\n",
        "Let's see an example:"
      ]
    },
    {
      "cell_type": "code",
      "metadata": {
        "id": "X1NxLUF_Ep23",
        "colab_type": "code",
        "colab": {}
      },
      "source": [
        "b1 = np.array([True,False,False,True])\n",
        "b2 = np.array([False,True,False,True])\n",
        "print(b1)\n",
        "print(b2)\n",
        "print(b1&b2)\n",
        "print(b1|b2)"
      ],
      "execution_count": 0,
      "outputs": []
    },
    {
      "cell_type": "markdown",
      "metadata": {
        "id": "eR8pT1auFNmD",
        "colab_type": "text"
      },
      "source": [
        "And of course, we can combine this with comparison operators to do more sophisticated comparisons:\n",
        "\n"
      ]
    },
    {
      "cell_type": "code",
      "metadata": {
        "id": "XwXPNpWXFdCY",
        "colab_type": "code",
        "colab": {}
      },
      "source": [
        "x = np.array([1,4,3,6,8,9])\n",
        "y = np.array([3,2,1,1,10,7])\n",
        "\n",
        "(x>y)&(x==y+2) # note the use of parentheses here -- they are VERY important"
      ],
      "execution_count": 0,
      "outputs": []
    },
    {
      "cell_type": "markdown",
      "metadata": {
        "id": "IWN3tMmvF8T2",
        "colab_type": "text"
      },
      "source": [
        "IMPORTANT: When combining logical expressions, we have to be careful to **always wrap sub-expressions in parentheses**.  The reason is that, if we didn't we would get an error:"
      ]
    },
    {
      "cell_type": "code",
      "metadata": {
        "id": "4S0g93V4GUYm",
        "colab_type": "code",
        "colab": {}
      },
      "source": [
        "x>y&x==y+2"
      ],
      "execution_count": 0,
      "outputs": []
    },
    {
      "cell_type": "markdown",
      "metadata": {
        "id": "TBy-3X-tGdCl",
        "colab_type": "text"
      },
      "source": [
        "This is because, without the parentheses, ``y&x`` is evaluated first."
      ]
    },
    {
      "cell_type": "markdown",
      "metadata": {
        "id": "eYseeAfQ8Iqr",
        "colab_type": "text"
      },
      "source": [
        "Combining boolean expressions with aggregation can make some operations really simple. \n",
        "\n",
        "For example, if we wanted to count the number of occurences of a particular value in an array, we could do this:"
      ]
    },
    {
      "cell_type": "code",
      "metadata": {
        "id": "gy5rPtcO7l3b",
        "colab_type": "code",
        "colab": {}
      },
      "source": [
        "ints=np.random.randint(0,9,30)\n",
        "print(ints)\n",
        "numFives = (ints==5).sum() # First get an array of bools for the expression, then sum it (sum() works because True is converted to 1, False is converted to 0)\n",
        "print(numFives)\n",
        "\n",
        "# Run this a few times to see that it works"
      ],
      "execution_count": 0,
      "outputs": []
    },
    {
      "cell_type": "code",
      "metadata": {
        "id": "Xp4qSgtg8f61",
        "colab_type": "code",
        "colab": {}
      },
      "source": [
        "print(ints)\n",
        "print((ints>3).sum()) # print how many integers in the ints array are bigger than three"
      ],
      "execution_count": 0,
      "outputs": []
    },
    {
      "cell_type": "markdown",
      "metadata": {
        "id": "8vGTQHg1VPbV",
        "colab_type": "text"
      },
      "source": [
        "## Using booleans to mask an array"
      ]
    },
    {
      "cell_type": "markdown",
      "metadata": {
        "id": "NKdQc63LBuqr",
        "colab_type": "text"
      },
      "source": [
        "\n",
        "\n",
        "One cool and very useful thing we can do with bools and numpy is mask (or hide) elements of an array according to some logical criteria.\n",
        "\n",
        "Let me show you with an example:"
      ]
    },
    {
      "cell_type": "code",
      "metadata": {
        "id": "ux2j42kQB-vW",
        "colab_type": "code",
        "colab": {}
      },
      "source": [
        "x=np.arange(0,10)\n",
        "print(x)\n",
        "\n",
        "# Mask (hide) all the elements of x where the expression (x>5) evaluates to False\n",
        "x[x>5] # This will return a 1-D array of the values of x where x>5"
      ],
      "execution_count": 0,
      "outputs": []
    },
    {
      "cell_type": "code",
      "metadata": {
        "id": "OmoxAfzpCaKk",
        "colab_type": "code",
        "colab": {}
      },
      "source": [
        "x[(x>2)&(x<=7)] # mask (hide) all the elements of x where the expression (x>2)&(x<=7) evaluates to False"
      ],
      "execution_count": 0,
      "outputs": []
    },
    {
      "cell_type": "code",
      "metadata": {
        "id": "N723lAEntYpt",
        "colab_type": "code",
        "colab": {}
      },
      "source": [
        "# What about a multi-dimensional array?\n",
        "x = np.arange(1,10).reshape([3,3]) # make a 3x3 grid of numbers from 1 to 9\n",
        "print(x)\n",
        "x[x>5] # This will be a 1-D array -- masks always return 1-D arrays"
      ],
      "execution_count": 0,
      "outputs": []
    },
    {
      "cell_type": "markdown",
      "metadata": {
        "id": "dcZElAXstCXf",
        "colab_type": "text"
      },
      "source": [
        "Notice that when we mask, ***we always obtain a one-dimensional array*** of the all the values of the original array for in positions where the condition evaluates to True.\n"
      ]
    },
    {
      "cell_type": "markdown",
      "metadata": {
        "id": "-EOICz-PVLDZ",
        "colab_type": "text"
      },
      "source": [
        "## Fancy Indexing"
      ]
    },
    {
      "cell_type": "markdown",
      "metadata": {
        "id": "S9luscJPvbY4",
        "colab_type": "text"
      },
      "source": [
        "\n",
        "\n",
        "Fancy indexing allows you to specify the indices of the values of an array that you'd like to select.\n",
        "\n",
        "For example:"
      ]
    },
    {
      "cell_type": "code",
      "metadata": {
        "id": "BrKrXMMqwB42",
        "colab_type": "code",
        "colab": {}
      },
      "source": [
        "x = np.random.randint(0,10,9)\n",
        "print(x)\n",
        "indices= np.array([0,2,7,3])\n",
        "x[indices] # return the values of x at the indices."
      ],
      "execution_count": 0,
      "outputs": []
    },
    {
      "cell_type": "markdown",
      "metadata": {
        "id": "Mc7c3jq3xEHE",
        "colab_type": "text"
      },
      "source": [
        "Note that ``x[indices]`` will have whatever shape ``indices`` has.\n",
        "\n",
        "For example:"
      ]
    },
    {
      "cell_type": "code",
      "metadata": {
        "id": "gsN7pwMBx4Zq",
        "colab_type": "code",
        "colab": {}
      },
      "source": [
        "x[indices.reshape(2,2)]"
      ],
      "execution_count": 0,
      "outputs": []
    },
    {
      "cell_type": "markdown",
      "metadata": {
        "id": "APViAcBOyIqd",
        "colab_type": "text"
      },
      "source": [
        "What about multi-dimensional arrays?  You can use fancy indexing with them too! Of course you need to provide an index for each dimension.\n",
        "\n",
        "So, for a 2-D array, we need to provide a row index and a column index:"
      ]
    },
    {
      "cell_type": "code",
      "metadata": {
        "id": "mU7Zv6D9yaLn",
        "colab_type": "code",
        "colab": {}
      },
      "source": [
        "x = np.random.randint(0,10,9).reshape(3,3)\n",
        "print(x)\n",
        "rowInd=np.array([0,1,0])\n",
        "colInd=np.array([2,0,0])\n",
        "x[rowInd,colInd]\n",
        "\n",
        "# Make sure you understand how this works -- fancy indexing is essential to working efficiently with data in numpy!"
      ],
      "execution_count": 0,
      "outputs": []
    },
    {
      "cell_type": "markdown",
      "metadata": {
        "id": "d4oeJKfw5FJy",
        "colab_type": "text"
      },
      "source": [
        "You can also assign values with fancy indexing:"
      ]
    },
    {
      "cell_type": "code",
      "metadata": {
        "id": "TO4BmT9L5IxF",
        "colab_type": "code",
        "colab": {}
      },
      "source": [
        "print(x)\n",
        "x[rowInd,colInd] = 0\n",
        "print(x)"
      ],
      "execution_count": 0,
      "outputs": []
    },
    {
      "cell_type": "markdown",
      "metadata": {
        "id": "-rrwUml65WJk",
        "colab_type": "text"
      },
      "source": [
        "You can even combine slicing with Fancy Indexing:"
      ]
    },
    {
      "cell_type": "code",
      "metadata": {
        "id": "wnUHZXWp5bAh",
        "colab_type": "code",
        "colab": {}
      },
      "source": [
        "print(x)\n",
        "colInd=np.array([0,2])\n",
        "x[1:,colInd] = 20 # for rows 1 or greater and columns specified by colIndex, set the value to 20\n",
        "print(x)\n"
      ],
      "execution_count": 0,
      "outputs": []
    },
    {
      "cell_type": "markdown",
      "metadata": {
        "id": "ZI9CqKk1VGbe",
        "colab_type": "text"
      },
      "source": [
        "# Exercise: DiceRoller 3.0"
      ]
    },
    {
      "cell_type": "markdown",
      "metadata": {
        "id": "z0oRYLCh6vJT",
        "colab_type": "text"
      },
      "source": [
        "\n",
        "Make a new dice roller program that takes the two arrays as inputs:\n",
        "- diceSides - a 1-D numpy array holding the number of sides of each die\n",
        "- numDice - a 1-D numpy array holding the number of dice\n",
        "\n",
        "So for example, to roll 3 6-sided dice, 1 10 sided die and 4 20-sided dice, we would pass:\n",
        "```\n",
        "diceSides = [6, 10, 20]\n",
        "numDice = [3, 1, 4]\n",
        "```\n",
        "\n",
        "Your program should output a tuple of 3 arrays:\n",
        "- The result of roll (ie., the number on the top of all dice after the roll)\n",
        "- The count of every critical failure (when a die rolled the lowest number it could) *for each type of die*\n",
        "- The counts of every critical hit (when a die rolled the highest number it could) *for each type of die*\n",
        "\n",
        "So, for example, rolling the dice from the example above might yield:\n",
        "```\n",
        "rolls = [ 1,  3,  6,  6,  1, 13, 19,  6]\n",
        "critFails = np.array([ 1, 0, 1])\n",
        "critHits =  np.array([ 1, 0, 0])\n",
        "```\n",
        "The first three elemenst of ``rolls`` are the 3 6-sided dice, the next one is a 10-sided die, and the last four are 20-sided dice.\n",
        "\n",
        "There was one critical fail amongst the 6-sided dice, zero for the ten-sided die, and one amnongst the 20-sided dice.\n",
        "\n",
        "There was one critical hit amongst the 6-sided dice, zero for the ten-sided die, and zero amonsgt the 20-sided dice.\n",
        "\\\n"
      ]
    },
    {
      "cell_type": "code",
      "metadata": {
        "id": "TqhPI-6h6-wk",
        "colab_type": "code",
        "colab": {}
      },
      "source": [
        "def diceRoller(diceSides,numDice):\n",
        "  # put your code here\n",
        "\n",
        "\n",
        "# Test it out on some values:\n",
        "diceRoller(np.array([4,20,10]),np.array([3,2,2])) # roll 3 4-sided, 2 20-sided, and 2 10-sided dice"
      ],
      "execution_count": 0,
      "outputs": []
    },
    {
      "cell_type": "code",
      "metadata": {
        "id": "rDRWhGY6Wajd",
        "colab_type": "code",
        "colab": {}
      },
      "source": [
        "diceRoller(np.array([6,12,8]),np.array([10,2,3])) # roll 10 6-sided, 2 12-sided, and 3 8-sided dice"
      ],
      "execution_count": 0,
      "outputs": []
    },
    {
      "cell_type": "markdown",
      "metadata": {
        "id": "Ox0Y7boWUrSm",
        "colab_type": "text"
      },
      "source": [
        "####Need a hint?"
      ]
    },
    {
      "cell_type": "markdown",
      "metadata": {
        "id": "PKqn01t0A5x5",
        "colab_type": "text"
      },
      "source": [
        "\n",
        "\n",
        "You may find the following useful:\n",
        "* You can use [np.repeat()](https://docs.scipy.org/doc/numpy/reference/generated/numpy.repeat.html) to get an array holding the number of sides of each die you want to roll.\n",
        "* [np.random.randint()](https://docs.scipy.org/doc/numpy/reference/random/generated/numpy.random.mtrand.RandomState.randint.html) can take an array as an argument for high.\n",
        "\n",
        "\n"
      ]
    },
    {
      "cell_type": "markdown",
      "metadata": {
        "id": "byyCjuglUwA6",
        "colab_type": "text"
      },
      "source": [
        "##### Need another hint?\n"
      ]
    },
    {
      "cell_type": "markdown",
      "metadata": {
        "id": "1jAPN3N0U1uJ",
        "colab_type": "text"
      },
      "source": [
        "* [np.cumsum()](https://docs.scipy.org/doc/numpy/reference/generated/numpy.cumsum.html) calculates the running sum over an array.\n",
        "* Remember [np.split()](https://docs.scipy.org/doc/numpy/reference/generated/numpy.split.html) can split an array into parts at the locations (indexes) specified.\n",
        "* [np.hstack()](https://docs.scipy.org/doc/numpy/reference/generated/numpy.hstack.html) will stack a list of arrays horizontally"
      ]
    },
    {
      "cell_type": "markdown",
      "metadata": {
        "id": "C68nz1jBS6tK",
        "colab_type": "text"
      },
      "source": [
        "###### **Solution**:"
      ]
    },
    {
      "cell_type": "code",
      "metadata": {
        "id": "Xhv-3Ljm-mke",
        "colab_type": "code",
        "colab": {}
      },
      "source": [
        "def diceRoller(diceSides,numDice):\n",
        "  diceToRoll=np.repeat(diceSides,numDice) # to roll each of the diceSides[i] exactly numDice[i] times, use np.repeat()\n",
        "  rolls=np.random.randint(low=1,high=diceToRoll+1) # a roll means picking a random int between 1 and the (numSides of the dice + 1) \n",
        "  critFail = (rolls==1) # a die is a crit fail if it rolled a 1 (always the lowest number)\n",
        "  critHit = (rolls==diceToRoll) # a die is a crit hit if it rolled a value equal to the number of sides of the die.\n",
        "  splitLocs=numDice.cumsum()[:len(numDice)-1] # Use the cumsum() method to get the locations where to split the rolls array so that each subarray contains only one type of die\n",
        "  critFailCounts=np.hstack([ l.sum() for l in np.split(critFail,splitLocs)]) # splitting gives you a list of np.arrays, summing each will count the number of crits. \n",
        "  critHitCounts=np.hstack([ l.sum() for l in np.split(critHit,splitLocs)])   #      and then stacking them horizontally, gives you an array again.\n",
        "  return (rolls, critFailCounts,critHitCounts)\n",
        "\n",
        "\n",
        "\n"
      ],
      "execution_count": 0,
      "outputs": []
    }
  ]
}