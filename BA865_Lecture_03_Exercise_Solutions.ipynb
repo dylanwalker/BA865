{
  "nbformat": 4,
  "nbformat_minor": 0,
  "metadata": {
    "colab": {
      "name": "BA865 - Lecture 03 - Exercise Solutions.ipynb",
      "provenance": [],
      "private_outputs": true,
      "collapsed_sections": [],
      "authorship_tag": "ABX9TyOrHWibLFTz3FOgmKXycn9v",
      "include_colab_link": true
    },
    "kernelspec": {
      "name": "python3",
      "display_name": "Python 3"
    }
  },
  "cells": [
    {
      "cell_type": "markdown",
      "metadata": {
        "id": "view-in-github",
        "colab_type": "text"
      },
      "source": [
        "<a href=\"https://colab.research.google.com/github/dylanwalker/BA865/blob/master/BA865_Lecture_03_Exercise_Solutions.ipynb\" target=\"_parent\"><img src=\"https://colab.research.google.com/assets/colab-badge.svg\" alt=\"Open In Colab\"/></a>"
      ]
    },
    {
      "cell_type": "markdown",
      "metadata": {
        "id": "Os3sYQ7x54vC",
        "colab_type": "text"
      },
      "source": [
        "# Exercise: RPG Character Battle"
      ]
    },
    {
      "cell_type": "markdown",
      "metadata": {
        "id": "cA4JintO6A_L",
        "colab_type": "text"
      },
      "source": [
        "Remember your RPG Character Creater?  \n",
        "\n",
        "Make a function that implements battling between different RPG Characters (that you created with your character creator). \n",
        "\n",
        "A character should consist of a name and a number of different attributes, such as Strength, Defense, Hit Points (life), etc. (but these are just suggestions -- you can use whatever you want).\n",
        "\n",
        "Here are some guidelines:\n",
        "- Your battle systems should compare one attribute vs another to determine the likelihood of a hit.\n",
        "- Use dice rolling to add randomness to the system.\n",
        "- A battle should consist of two characters taking turns trying to attack one another. If an attack succeeds it should reduce the Hit Points (or life or whatever attribute). This continues until one of the characters Hit Points reaches zero (in which case, they lose the battle)\n",
        "- Take advantage of the power of numpy and your existing dice roller code from the previous exercises\n",
        " - You should be able to accomplish this just by using arrays and **without using any explicit for loops**\n",
        "\n",
        "For example, a simple system could roll a 20 sided die:\n",
        "- If the roll is 20 its a hit\n",
        "- If the roll is 1 its a fail\n",
        "- If the roll is anything else, `hit = ((Strength + roll) > Defense)` where Strength is the value of the attacking character's strength and Defense is the value of the defending character's defense.   \n",
        "\n",
        "That's just one suggestion, but you can devise your own rules to determine how characters fight. For example you could have both the attacking and defending character roll a dice and do `hit = ((Strength + roll1) > (Defense + roll2))`. It's up to you.\n"
      ]
    },
    {
      "cell_type": "code",
      "metadata": {
        "id": "I0t445Kd96m4",
        "colab_type": "code",
        "colab": {}
      },
      "source": [
        "import numpy as np\n",
        "\n",
        "def battle(char1,char2,numTurns=30,debug=False):\n",
        "  char1AttackRolls = np.random.randint(1,21,numTurns)\n",
        "  char2AttackRolls = np.random.randint(1,21,numTurns)\n",
        "  char1HP = np.full(numTurns,char1['HP'])\n",
        "  char2HP = np.full(numTurns,char2['HP'])\n",
        "  char1CritHit = (char1AttackRolls==20)\n",
        "  char1CritFail = (char1AttackRolls==1)\n",
        "  char2CritHit = (char1AttackRolls==20)\n",
        "  char2CritFail = (char1AttackRolls==1)\n",
        "  char1Hits = (char1CritHit*1 +(~char1CritHit)&(~char1CritFail)*((char1['strength'] + char1AttackRolls)>char2['defense'])*1)\n",
        "  char2Hits = (char2CritHit*1 +(~char2CritHit)&(~char2CritFail)*((char2['strength'] + char2AttackRolls)>char1['defense'])*1)\n",
        "  char2HP -= char1Hits.cumsum()\n",
        "  char1HP -= char2Hits.cumsum()\n",
        "  char1WinsOn = np.argmax(char2HP==0) + (numTurns+1)*(char2HP.min()>0) # find the index of the first occurence where char2 had zero hitpoints (set to numTurns+1 if this never happened)\n",
        "  char2WinsOn = np.argmax(char1HP==0) + (numTurns+1)*(char1HP.min()>0) # find the index of the first occurence where char1 had zero hitpoints (set to numTurns+1 if this never happened)\n",
        "  if debug:\n",
        "    print('BATTLE REPORT')\n",
        "    print('-------------------------------------------------------------------')\n",
        "    print(f\"{'char1AttackRolls':<16s} = {char1AttackRolls}\")\n",
        "    print(f\"{'char2AttackRolls':<16s} = {char2AttackRolls}\")\n",
        "    print(f\"{'char1Hits':<16s} = {char1Hits}\")\n",
        "    print(f\"{'char2Hits':<16s} = {char2Hits}\")\n",
        "    print(f\"{'char1HP':<16s} = {char1HP}\")\n",
        "    print(f\"{'char2HP':<16s} = {char2HP}\")\n",
        "    print(f\"{'char1WinsOn':<16s} = {char1WinsOn}\")\n",
        "    print(f\"{'char2WinsOn':<16s} = {char2WinsOn}\")\n",
        "    print('-------------------------------------------------------------------')\n",
        "  if (char1WinsOn<=numTurns or char2WinsOn<=numTurns): # Either char1 or char1 died before the last turn\n",
        "    if char1WinsOn <= char2WinsOn: # char1 wins; if a tie, they win because char1 attacks first\n",
        "      print(f\"{char1['name']} won on the {char1WinsOn+1} round.\")\n",
        "      print(f\"{char1['name']} has {char1HP[char1WinsOn]} hitpoints remaining.\")\n",
        "    else:\n",
        "      print(f\"{char2['name']} won on the {char2WinsOn+1} round.\")\n",
        "      print(f\"{char2['name']} has {char2HP[char2WinsOn]} hitpoints remaining.\")\n",
        "  else: # Both characters were still alive\n",
        "    print(f\"{char1['name']} and {char2['name']} fought with valor and both were bloodied, but remained standing at the end of the battle.\")\n",
        "    print(f\"{char1['name']} has {char1HP[-1]} hitpoints remaining.\")\n",
        "    print(f\"{char2['name']} has {char2HP[-1]} hitpoints remaining.\")\n",
        "    \n",
        "\n",
        "char1 = {'name':'Dylanus','strength':4,'defense':5,'HP':5}\n",
        "char2 = {'name':'Grarg the Ogre','strength':5,'defense':10,'HP':20}\n",
        "battle(char1,char2,10, debug=True)\n",
        "  \n"
      ],
      "execution_count": 0,
      "outputs": []
    }
  ]
}